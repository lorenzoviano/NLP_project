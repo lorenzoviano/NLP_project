{
  "nbformat": 4,
  "nbformat_minor": 0,
  "metadata": {
    "colab": {
      "provenance": []
    },
    "kernelspec": {
      "name": "python3",
      "display_name": "Python 3"
    },
    "language_info": {
      "name": "python"
    }
  },
  "cells": [
    {
      "cell_type": "markdown",
      "source": [
        "# Exercise 3: Morphology and Syntax [SOLUTIONS]\n",
        "\n",
        "This session is based on lectures 6 and 7 on Morphological Processing and Syntactic Parsing.\n"
      ],
      "metadata": {
        "id": "dUqyXtNCDe1J"
      }
    },
    {
      "cell_type": "markdown",
      "source": [
        "\n",
        "## Ex.1 Context Free Grammars (CFG)\n",
        "### Practice with CFGs\n",
        "*Note: This paper-only part is optional, and meant as a refresher for CFGs if you are not entirely familiar with them yet. You can skip ahead to the following exercise `Implementing CFGs` if you feel comfortable.*\n",
        "\n",
        "Consider the following context-free grammar:\n",
        "\n",
        "  \\begin{align*}\n",
        "    S & \\rightarrow & NP ~ ~ VP\\\\\n",
        "    NP & \\rightarrow & (D) ~ ~ NOM\\\\\n",
        "    VP & \\rightarrow & V ~ ~ (NP) ~ ~ (NP)\\\\\n",
        "    NOM & \\rightarrow & N\\\\\n",
        "    NOM & \\rightarrow & NOM ~ ~ PP\\\\\n",
        "    VP & \\rightarrow & VP ~ ~ PP\\\\\n",
        "    PP & \\rightarrow & P ~ ~ NP\\\\\n",
        "    X & \\rightarrow & X^{+} ~ ~ CONJ ~ ~ X\n",
        "  \\end{align*}\n",
        "\n",
        "and the following lexicon:\n",
        "\n",
        "  \\begin{align*}\n",
        "    D & \\rightarrow & a, the\\\\\n",
        "    N & \\rightarrow & woman, child, dog, book, couch, banana\\\\\n",
        "    V & \\rightarrow & reads, eats, sleeps, looked\\\\\n",
        "    P & \\rightarrow & on, at\\\\\n",
        "    CONJ & \\rightarrow & and, or\\\\\n",
        "  \\end{align*}\n",
        "\n",
        "Note: $X^{+}$ here allows for recursion (eg. the woman, the child, the dog and the book on the couch)\n",
        "\n",
        "#### Exercises:\n",
        "\n",
        "1. Give three well-formed English sentences that the grammar allows. Draw the tree structures that the grammar assigns to them.\n",
        "2. Give a well-formed English sentence that is structurally ambiguous according to the grammar. Draw the two distinct tree structures.  \n",
        "3. Give one sentence that the grammar does not allow, but which is nonetheless a well-formed English sentence.\n",
        "4. Give three sentences which the grammar allows, but which are not well-formed English sentences.\n",
        "5. How could you adapt the grammar so that your sentence in (3) is allowed by it? How could you adapt your grammar so that your sentences in (4) are excluded?\n",
        "\n",
        "\n",
        "    "
      ],
      "metadata": {
        "id": "YOkXZ8szEB7h"
      }
    },
    {
      "cell_type": "code",
      "source": [
        "import nltk\n",
        "from nltk.draw.tree import draw_trees\n",
        "\n",
        "!pip install -q svgling\n",
        "import svgling\n",
        "from IPython.display import display"
      ],
      "metadata": {
        "id": "5xMHvtmSsw9J"
      },
      "execution_count": null,
      "outputs": []
    },
    {
      "cell_type": "code",
      "source": [
        "grammar = nltk.CFG.fromstring(\"\"\"\n",
        "   S -> NP VP\n",
        "   S -> S Conj S\n",
        "   NP -> Det NOM | NOM\n",
        "   NP -> NP Conj NP\n",
        "   VP -> V NP | V NP NP | V\n",
        "   VP -> VP PP\n",
        "   VP -> VP Conj VP\n",
        "   NOM -> N\n",
        "   NOM -> NOM PP\n",
        "   NOM -> NOM Conj NOM\n",
        "   PP -> P NP\n",
        "   PP -> PP Conj PP\n",
        "   N -> \"woman\" | \"child\" | \"dog\" | \"book\" | \"couch\" | \"banana\"\n",
        "   V -> \"eats\" | \"reads\" | \"sleeps\" | \"looked\"\n",
        "   P -> \"on\" | \"at\"\n",
        "   Det -> \"a\" | \"the\"\n",
        "   Conj -> \"and\" | \"or\"\n",
        "   \"\"\")\n",
        "parser = nltk.ChartParser(grammar)"
      ],
      "metadata": {
        "id": "9B6_z4_uJP2A"
      },
      "execution_count": null,
      "outputs": []
    },
    {
      "cell_type": "markdown",
      "source": [
        "1. Well-formed sentences allowed by the grammar:"
      ],
      "metadata": {
        "id": "Ulvc2P19LvAJ"
      }
    },
    {
      "cell_type": "code",
      "source": [
        "sentence = \"the woman eats a banana\".split()\n",
        "for tree in parser.parse(sentence):\n",
        "    display(svgling.draw_tree(tree))"
      ],
      "metadata": {
        "colab": {
          "base_uri": "https://localhost:8080/",
          "height": 285
        },
        "id": "9z_LuLsuK1kg",
        "outputId": "62fa6fda-350a-43a5-a340-882fe201a5b7"
      },
      "execution_count": null,
      "outputs": [
        {
          "output_type": "display_data",
          "data": {
            "text/plain": [
              "TreeLayout(Tree('S', [Tree('NP', [Tree('Det', ['the']), Tree('NOM', [Tree('N', ['woman'])])]), Tree('VP', [Tree('V', ['eats']), Tree('NP', [Tree('Det', ['a']), Tree('NOM', [Tree('N', ['banana'])])])])]))"
            ],
            "image/svg+xml": "<svg baseProfile=\"full\" height=\"264px\" preserveAspectRatio=\"xMidYMid meet\" style=\"font-family: times, serif; font-weight: normal; font-style: normal; font-size: 16px\" version=\"1.1\" viewBox=\"0,0,248.0,264.0\" width=\"248px\" xmlns=\"http://www.w3.org/2000/svg\" xmlns:ev=\"http://www.w3.org/2001/xml-events\" xmlns:xlink=\"http://www.w3.org/1999/xlink\"><defs /><svg width=\"100%\" x=\"0\" y=\"0px\"><defs /><text text-anchor=\"middle\" x=\"50%\" y=\"16px\">S</text></svg><svg width=\"38.7097%\" x=\"0%\" y=\"48px\"><defs /><svg width=\"100%\" x=\"0\" y=\"0px\"><defs /><text text-anchor=\"middle\" x=\"50%\" y=\"16px\">NP</text></svg><svg width=\"41.6667%\" x=\"0%\" y=\"48px\"><defs /><svg width=\"100%\" x=\"0\" y=\"0px\"><defs /><text text-anchor=\"middle\" x=\"50%\" y=\"16px\">Det</text></svg><svg width=\"100%\" x=\"0%\" y=\"48px\"><defs /><svg width=\"100%\" x=\"0\" y=\"0px\"><defs /><text text-anchor=\"middle\" x=\"50%\" y=\"16px\">the</text></svg></svg><line stroke=\"black\" x1=\"50%\" x2=\"50%\" y1=\"20px\" y2=\"48px\" /></svg><line stroke=\"black\" x1=\"50%\" x2=\"20.8333%\" y1=\"20px\" y2=\"48px\" /><svg width=\"58.3333%\" x=\"41.6667%\" y=\"48px\"><defs /><svg width=\"100%\" x=\"0\" y=\"0px\"><defs /><text text-anchor=\"middle\" x=\"50%\" y=\"16px\">NOM</text></svg><svg width=\"100%\" x=\"0%\" y=\"48px\"><defs /><svg width=\"100%\" x=\"0\" y=\"0px\"><defs /><text text-anchor=\"middle\" x=\"50%\" y=\"16px\">N</text></svg><svg width=\"100%\" x=\"0%\" y=\"48px\"><defs /><svg width=\"100%\" x=\"0\" y=\"0px\"><defs /><text text-anchor=\"middle\" x=\"50%\" y=\"16px\">woman</text></svg></svg><line stroke=\"black\" x1=\"50%\" x2=\"50%\" y1=\"20px\" y2=\"48px\" /></svg><line stroke=\"black\" x1=\"50%\" x2=\"50%\" y1=\"20px\" y2=\"48px\" /></svg><line stroke=\"black\" x1=\"50%\" x2=\"70.8333%\" y1=\"20px\" y2=\"48px\" /></svg><line stroke=\"black\" x1=\"50%\" x2=\"19.3548%\" y1=\"20px\" y2=\"48px\" /><svg width=\"61.2903%\" x=\"38.7097%\" y=\"48px\"><defs /><svg width=\"100%\" x=\"0\" y=\"0px\"><defs /><text text-anchor=\"middle\" x=\"50%\" y=\"16px\">VP</text></svg><svg width=\"31.5789%\" x=\"0%\" y=\"48px\"><defs /><svg width=\"100%\" x=\"0\" y=\"0px\"><defs /><text text-anchor=\"middle\" x=\"50%\" y=\"16px\">V</text></svg><svg width=\"100%\" x=\"0%\" y=\"48px\"><defs /><svg width=\"100%\" x=\"0\" y=\"0px\"><defs /><text text-anchor=\"middle\" x=\"50%\" y=\"16px\">eats</text></svg></svg><line stroke=\"black\" x1=\"50%\" x2=\"50%\" y1=\"20px\" y2=\"48px\" /></svg><line stroke=\"black\" x1=\"50%\" x2=\"15.7895%\" y1=\"20px\" y2=\"48px\" /><svg width=\"68.4211%\" x=\"31.5789%\" y=\"48px\"><defs /><svg width=\"100%\" x=\"0\" y=\"0px\"><defs /><text text-anchor=\"middle\" x=\"50%\" y=\"16px\">NP</text></svg><svg width=\"38.4615%\" x=\"0%\" y=\"48px\"><defs /><svg width=\"100%\" x=\"0\" y=\"0px\"><defs /><text text-anchor=\"middle\" x=\"50%\" y=\"16px\">Det</text></svg><svg width=\"100%\" x=\"0%\" y=\"48px\"><defs /><svg width=\"100%\" x=\"0\" y=\"0px\"><defs /><text text-anchor=\"middle\" x=\"50%\" y=\"16px\">a</text></svg></svg><line stroke=\"black\" x1=\"50%\" x2=\"50%\" y1=\"20px\" y2=\"48px\" /></svg><line stroke=\"black\" x1=\"50%\" x2=\"19.2308%\" y1=\"20px\" y2=\"48px\" /><svg width=\"61.5385%\" x=\"38.4615%\" y=\"48px\"><defs /><svg width=\"100%\" x=\"0\" y=\"0px\"><defs /><text text-anchor=\"middle\" x=\"50%\" y=\"16px\">NOM</text></svg><svg width=\"100%\" x=\"0%\" y=\"48px\"><defs /><svg width=\"100%\" x=\"0\" y=\"0px\"><defs /><text text-anchor=\"middle\" x=\"50%\" y=\"16px\">N</text></svg><svg width=\"100%\" x=\"0%\" y=\"48px\"><defs /><svg width=\"100%\" x=\"0\" y=\"0px\"><defs /><text text-anchor=\"middle\" x=\"50%\" y=\"16px\">banana</text></svg></svg><line stroke=\"black\" x1=\"50%\" x2=\"50%\" y1=\"20px\" y2=\"48px\" /></svg><line stroke=\"black\" x1=\"50%\" x2=\"50%\" y1=\"20px\" y2=\"48px\" /></svg><line stroke=\"black\" x1=\"50%\" x2=\"69.2308%\" y1=\"20px\" y2=\"48px\" /></svg><line stroke=\"black\" x1=\"50%\" x2=\"65.7895%\" y1=\"20px\" y2=\"48px\" /></svg><line stroke=\"black\" x1=\"50%\" x2=\"69.3548%\" y1=\"20px\" y2=\"48px\" /></svg>"
          },
          "metadata": {}
        }
      ]
    },
    {
      "cell_type": "code",
      "source": [
        "sentence = \"the dog eats and sleeps\".split()\n",
        "for tree in parser.parse(sentence):\n",
        "    display(svgling.draw_tree(tree))"
      ],
      "metadata": {
        "colab": {
          "base_uri": "https://localhost:8080/",
          "height": 237
        },
        "id": "k9mQSHiyL0H_",
        "outputId": "578ee5b7-4d33-4c61-a627-be59ba0897d2"
      },
      "execution_count": null,
      "outputs": [
        {
          "output_type": "display_data",
          "data": {
            "text/plain": [
              "TreeLayout(Tree('S', [Tree('NP', [Tree('Det', ['the']), Tree('NOM', [Tree('N', ['dog'])])]), Tree('VP', [Tree('VP', [Tree('V', ['eats'])]), Tree('Conj', ['and']), Tree('VP', [Tree('V', ['sleeps'])])])]))"
            ],
            "image/svg+xml": "<svg baseProfile=\"full\" height=\"216px\" preserveAspectRatio=\"xMidYMid meet\" style=\"font-family: times, serif; font-weight: normal; font-style: normal; font-size: 16px\" version=\"1.1\" viewBox=\"0,0,240.0,216.0\" width=\"240px\" xmlns=\"http://www.w3.org/2000/svg\" xmlns:ev=\"http://www.w3.org/2001/xml-events\" xmlns:xlink=\"http://www.w3.org/1999/xlink\"><defs /><svg width=\"100%\" x=\"0\" y=\"0px\"><defs /><text text-anchor=\"middle\" x=\"50%\" y=\"16px\">S</text></svg><svg width=\"33.3333%\" x=\"0%\" y=\"48px\"><defs /><svg width=\"100%\" x=\"0\" y=\"0px\"><defs /><text text-anchor=\"middle\" x=\"50%\" y=\"16px\">NP</text></svg><svg width=\"50%\" x=\"0%\" y=\"48px\"><defs /><svg width=\"100%\" x=\"0\" y=\"0px\"><defs /><text text-anchor=\"middle\" x=\"50%\" y=\"16px\">Det</text></svg><svg width=\"100%\" x=\"0%\" y=\"48px\"><defs /><svg width=\"100%\" x=\"0\" y=\"0px\"><defs /><text text-anchor=\"middle\" x=\"50%\" y=\"16px\">the</text></svg></svg><line stroke=\"black\" x1=\"50%\" x2=\"50%\" y1=\"20px\" y2=\"48px\" /></svg><line stroke=\"black\" x1=\"50%\" x2=\"25%\" y1=\"20px\" y2=\"48px\" /><svg width=\"50%\" x=\"50%\" y=\"48px\"><defs /><svg width=\"100%\" x=\"0\" y=\"0px\"><defs /><text text-anchor=\"middle\" x=\"50%\" y=\"16px\">NOM</text></svg><svg width=\"100%\" x=\"0%\" y=\"48px\"><defs /><svg width=\"100%\" x=\"0\" y=\"0px\"><defs /><text text-anchor=\"middle\" x=\"50%\" y=\"16px\">N</text></svg><svg width=\"100%\" x=\"0%\" y=\"48px\"><defs /><svg width=\"100%\" x=\"0\" y=\"0px\"><defs /><text text-anchor=\"middle\" x=\"50%\" y=\"16px\">dog</text></svg></svg><line stroke=\"black\" x1=\"50%\" x2=\"50%\" y1=\"20px\" y2=\"48px\" /></svg><line stroke=\"black\" x1=\"50%\" x2=\"50%\" y1=\"20px\" y2=\"48px\" /></svg><line stroke=\"black\" x1=\"50%\" x2=\"75%\" y1=\"20px\" y2=\"48px\" /></svg><line stroke=\"black\" x1=\"50%\" x2=\"16.6667%\" y1=\"20px\" y2=\"48px\" /><svg width=\"66.6667%\" x=\"33.3333%\" y=\"48px\"><defs /><svg width=\"100%\" x=\"0\" y=\"0px\"><defs /><text text-anchor=\"middle\" x=\"50%\" y=\"16px\">VP</text></svg><svg width=\"30%\" x=\"0%\" y=\"48px\"><defs /><svg width=\"100%\" x=\"0\" y=\"0px\"><defs /><text text-anchor=\"middle\" x=\"50%\" y=\"16px\">VP</text></svg><svg width=\"100%\" x=\"0%\" y=\"48px\"><defs /><svg width=\"100%\" x=\"0\" y=\"0px\"><defs /><text text-anchor=\"middle\" x=\"50%\" y=\"16px\">V</text></svg><svg width=\"100%\" x=\"0%\" y=\"48px\"><defs /><svg width=\"100%\" x=\"0\" y=\"0px\"><defs /><text text-anchor=\"middle\" x=\"50%\" y=\"16px\">eats</text></svg></svg><line stroke=\"black\" x1=\"50%\" x2=\"50%\" y1=\"20px\" y2=\"48px\" /></svg><line stroke=\"black\" x1=\"50%\" x2=\"50%\" y1=\"20px\" y2=\"48px\" /></svg><line stroke=\"black\" x1=\"50%\" x2=\"15%\" y1=\"20px\" y2=\"48px\" /><svg width=\"30%\" x=\"30%\" y=\"48px\"><defs /><svg width=\"100%\" x=\"0\" y=\"0px\"><defs /><text text-anchor=\"middle\" x=\"50%\" y=\"16px\">Conj</text></svg><svg width=\"100%\" x=\"0%\" y=\"48px\"><defs /><svg width=\"100%\" x=\"0\" y=\"0px\"><defs /><text text-anchor=\"middle\" x=\"50%\" y=\"16px\">and</text></svg></svg><line stroke=\"black\" x1=\"50%\" x2=\"50%\" y1=\"20px\" y2=\"48px\" /></svg><line stroke=\"black\" x1=\"50%\" x2=\"45%\" y1=\"20px\" y2=\"48px\" /><svg width=\"40%\" x=\"60%\" y=\"48px\"><defs /><svg width=\"100%\" x=\"0\" y=\"0px\"><defs /><text text-anchor=\"middle\" x=\"50%\" y=\"16px\">VP</text></svg><svg width=\"100%\" x=\"0%\" y=\"48px\"><defs /><svg width=\"100%\" x=\"0\" y=\"0px\"><defs /><text text-anchor=\"middle\" x=\"50%\" y=\"16px\">V</text></svg><svg width=\"100%\" x=\"0%\" y=\"48px\"><defs /><svg width=\"100%\" x=\"0\" y=\"0px\"><defs /><text text-anchor=\"middle\" x=\"50%\" y=\"16px\">sleeps</text></svg></svg><line stroke=\"black\" x1=\"50%\" x2=\"50%\" y1=\"20px\" y2=\"48px\" /></svg><line stroke=\"black\" x1=\"50%\" x2=\"50%\" y1=\"20px\" y2=\"48px\" /></svg><line stroke=\"black\" x1=\"50%\" x2=\"80%\" y1=\"20px\" y2=\"48px\" /></svg><line stroke=\"black\" x1=\"50%\" x2=\"66.6667%\" y1=\"20px\" y2=\"48px\" /></svg>"
          },
          "metadata": {}
        }
      ]
    },
    {
      "cell_type": "code",
      "source": [
        "sentence = \"the child eats on the couch\".split()\n",
        "for tree in parser.parse(sentence):\n",
        "    display(svgling.draw_tree(tree))"
      ],
      "metadata": {
        "colab": {
          "base_uri": "https://localhost:8080/",
          "height": 333
        },
        "id": "SiquVGnwgIja",
        "outputId": "201b9249-ade5-4cd0-92ef-56f9c772db3d"
      },
      "execution_count": null,
      "outputs": [
        {
          "output_type": "display_data",
          "data": {
            "text/plain": [
              "TreeLayout(Tree('S', [Tree('NP', [Tree('Det', ['the']), Tree('NOM', [Tree('N', ['child'])])]), Tree('VP', [Tree('VP', [Tree('V', ['eats'])]), Tree('PP', [Tree('P', ['on']), Tree('NP', [Tree('Det', ['the']), Tree('NOM', [Tree('N', ['couch'])])])])])]))"
            ],
            "image/svg+xml": "<svg baseProfile=\"full\" height=\"312px\" preserveAspectRatio=\"xMidYMid meet\" style=\"font-family: times, serif; font-weight: normal; font-style: normal; font-size: 16px\" version=\"1.1\" viewBox=\"0,0,272.0,312.0\" width=\"272px\" xmlns=\"http://www.w3.org/2000/svg\" xmlns:ev=\"http://www.w3.org/2001/xml-events\" xmlns:xlink=\"http://www.w3.org/1999/xlink\"><defs /><svg width=\"100%\" x=\"0\" y=\"0px\"><defs /><text text-anchor=\"middle\" x=\"50%\" y=\"16px\">S</text></svg><svg width=\"35.2941%\" x=\"0%\" y=\"48px\"><defs /><svg width=\"100%\" x=\"0\" y=\"0px\"><defs /><text text-anchor=\"middle\" x=\"50%\" y=\"16px\">NP</text></svg><svg width=\"41.6667%\" x=\"0%\" y=\"48px\"><defs /><svg width=\"100%\" x=\"0\" y=\"0px\"><defs /><text text-anchor=\"middle\" x=\"50%\" y=\"16px\">Det</text></svg><svg width=\"100%\" x=\"0%\" y=\"48px\"><defs /><svg width=\"100%\" x=\"0\" y=\"0px\"><defs /><text text-anchor=\"middle\" x=\"50%\" y=\"16px\">the</text></svg></svg><line stroke=\"black\" x1=\"50%\" x2=\"50%\" y1=\"20px\" y2=\"48px\" /></svg><line stroke=\"black\" x1=\"50%\" x2=\"20.8333%\" y1=\"20px\" y2=\"48px\" /><svg width=\"58.3333%\" x=\"41.6667%\" y=\"48px\"><defs /><svg width=\"100%\" x=\"0\" y=\"0px\"><defs /><text text-anchor=\"middle\" x=\"50%\" y=\"16px\">NOM</text></svg><svg width=\"100%\" x=\"0%\" y=\"48px\"><defs /><svg width=\"100%\" x=\"0\" y=\"0px\"><defs /><text text-anchor=\"middle\" x=\"50%\" y=\"16px\">N</text></svg><svg width=\"100%\" x=\"0%\" y=\"48px\"><defs /><svg width=\"100%\" x=\"0\" y=\"0px\"><defs /><text text-anchor=\"middle\" x=\"50%\" y=\"16px\">child</text></svg></svg><line stroke=\"black\" x1=\"50%\" x2=\"50%\" y1=\"20px\" y2=\"48px\" /></svg><line stroke=\"black\" x1=\"50%\" x2=\"50%\" y1=\"20px\" y2=\"48px\" /></svg><line stroke=\"black\" x1=\"50%\" x2=\"70.8333%\" y1=\"20px\" y2=\"48px\" /></svg><line stroke=\"black\" x1=\"50%\" x2=\"17.6471%\" y1=\"20px\" y2=\"48px\" /><svg width=\"64.7059%\" x=\"35.2941%\" y=\"48px\"><defs /><svg width=\"100%\" x=\"0\" y=\"0px\"><defs /><text text-anchor=\"middle\" x=\"50%\" y=\"16px\">VP</text></svg><svg width=\"27.2727%\" x=\"0%\" y=\"48px\"><defs /><svg width=\"100%\" x=\"0\" y=\"0px\"><defs /><text text-anchor=\"middle\" x=\"50%\" y=\"16px\">VP</text></svg><svg width=\"100%\" x=\"0%\" y=\"48px\"><defs /><svg width=\"100%\" x=\"0\" y=\"0px\"><defs /><text text-anchor=\"middle\" x=\"50%\" y=\"16px\">V</text></svg><svg width=\"100%\" x=\"0%\" y=\"48px\"><defs /><svg width=\"100%\" x=\"0\" y=\"0px\"><defs /><text text-anchor=\"middle\" x=\"50%\" y=\"16px\">eats</text></svg></svg><line stroke=\"black\" x1=\"50%\" x2=\"50%\" y1=\"20px\" y2=\"48px\" /></svg><line stroke=\"black\" x1=\"50%\" x2=\"50%\" y1=\"20px\" y2=\"48px\" /></svg><line stroke=\"black\" x1=\"50%\" x2=\"13.6364%\" y1=\"20px\" y2=\"48px\" /><svg width=\"72.7273%\" x=\"27.2727%\" y=\"48px\"><defs /><svg width=\"100%\" x=\"0\" y=\"0px\"><defs /><text text-anchor=\"middle\" x=\"50%\" y=\"16px\">PP</text></svg><svg width=\"25%\" x=\"0%\" y=\"48px\"><defs /><svg width=\"100%\" x=\"0\" y=\"0px\"><defs /><text text-anchor=\"middle\" x=\"50%\" y=\"16px\">P</text></svg><svg width=\"100%\" x=\"0%\" y=\"48px\"><defs /><svg width=\"100%\" x=\"0\" y=\"0px\"><defs /><text text-anchor=\"middle\" x=\"50%\" y=\"16px\">on</text></svg></svg><line stroke=\"black\" x1=\"50%\" x2=\"50%\" y1=\"20px\" y2=\"48px\" /></svg><line stroke=\"black\" x1=\"50%\" x2=\"12.5%\" y1=\"20px\" y2=\"48px\" /><svg width=\"75%\" x=\"25%\" y=\"48px\"><defs /><svg width=\"100%\" x=\"0\" y=\"0px\"><defs /><text text-anchor=\"middle\" x=\"50%\" y=\"16px\">NP</text></svg><svg width=\"41.6667%\" x=\"0%\" y=\"48px\"><defs /><svg width=\"100%\" x=\"0\" y=\"0px\"><defs /><text text-anchor=\"middle\" x=\"50%\" y=\"16px\">Det</text></svg><svg width=\"100%\" x=\"0%\" y=\"48px\"><defs /><svg width=\"100%\" x=\"0\" y=\"0px\"><defs /><text text-anchor=\"middle\" x=\"50%\" y=\"16px\">the</text></svg></svg><line stroke=\"black\" x1=\"50%\" x2=\"50%\" y1=\"20px\" y2=\"48px\" /></svg><line stroke=\"black\" x1=\"50%\" x2=\"20.8333%\" y1=\"20px\" y2=\"48px\" /><svg width=\"58.3333%\" x=\"41.6667%\" y=\"48px\"><defs /><svg width=\"100%\" x=\"0\" y=\"0px\"><defs /><text text-anchor=\"middle\" x=\"50%\" y=\"16px\">NOM</text></svg><svg width=\"100%\" x=\"0%\" y=\"48px\"><defs /><svg width=\"100%\" x=\"0\" y=\"0px\"><defs /><text text-anchor=\"middle\" x=\"50%\" y=\"16px\">N</text></svg><svg width=\"100%\" x=\"0%\" y=\"48px\"><defs /><svg width=\"100%\" x=\"0\" y=\"0px\"><defs /><text text-anchor=\"middle\" x=\"50%\" y=\"16px\">couch</text></svg></svg><line stroke=\"black\" x1=\"50%\" x2=\"50%\" y1=\"20px\" y2=\"48px\" /></svg><line stroke=\"black\" x1=\"50%\" x2=\"50%\" y1=\"20px\" y2=\"48px\" /></svg><line stroke=\"black\" x1=\"50%\" x2=\"70.8333%\" y1=\"20px\" y2=\"48px\" /></svg><line stroke=\"black\" x1=\"50%\" x2=\"62.5%\" y1=\"20px\" y2=\"48px\" /></svg><line stroke=\"black\" x1=\"50%\" x2=\"63.6364%\" y1=\"20px\" y2=\"48px\" /></svg><line stroke=\"black\" x1=\"50%\" x2=\"67.6471%\" y1=\"20px\" y2=\"48px\" /></svg>"
          },
          "metadata": {}
        }
      ]
    },
    {
      "cell_type": "markdown",
      "source": [
        "2. Structurally ambiguous sentence"
      ],
      "metadata": {
        "id": "WBr34lM4nNiw"
      }
    },
    {
      "cell_type": "code",
      "source": [
        "sentence = \"the woman eats and sleeps on the couch\".split()\n",
        "for tree in parser.parse(sentence):\n",
        "    display(svgling.draw_tree(tree))"
      ],
      "metadata": {
        "colab": {
          "base_uri": "https://localhost:8080/",
          "height": 698
        },
        "id": "uBsc2lY_kWaf",
        "outputId": "1e37fda7-2d3e-4ec7-e6c7-812a1fe1c1b3"
      },
      "execution_count": null,
      "outputs": [
        {
          "output_type": "display_data",
          "data": {
            "text/plain": [
              "TreeLayout(Tree('S', [Tree('NP', [Tree('Det', ['the']), Tree('NOM', [Tree('N', ['woman'])])]), Tree('VP', [Tree('VP', [Tree('VP', [Tree('V', ['eats'])]), Tree('Conj', ['and']), Tree('VP', [Tree('V', ['sleeps'])])]), Tree('PP', [Tree('P', ['on']), Tree('NP', [Tree('Det', ['the']), Tree('NOM', [Tree('N', ['couch'])])])])])]))"
            ],
            "image/svg+xml": "<svg baseProfile=\"full\" height=\"312px\" preserveAspectRatio=\"xMidYMid meet\" style=\"font-family: times, serif; font-weight: normal; font-style: normal; font-size: 16px\" version=\"1.1\" viewBox=\"0,0,384.0,312.0\" width=\"384px\" xmlns=\"http://www.w3.org/2000/svg\" xmlns:ev=\"http://www.w3.org/2001/xml-events\" xmlns:xlink=\"http://www.w3.org/1999/xlink\"><defs /><svg width=\"100%\" x=\"0\" y=\"0px\"><defs /><text text-anchor=\"middle\" x=\"50%\" y=\"16px\">S</text></svg><svg width=\"25%\" x=\"0%\" y=\"48px\"><defs /><svg width=\"100%\" x=\"0\" y=\"0px\"><defs /><text text-anchor=\"middle\" x=\"50%\" y=\"16px\">NP</text></svg><svg width=\"41.6667%\" x=\"0%\" y=\"48px\"><defs /><svg width=\"100%\" x=\"0\" y=\"0px\"><defs /><text text-anchor=\"middle\" x=\"50%\" y=\"16px\">Det</text></svg><svg width=\"100%\" x=\"0%\" y=\"48px\"><defs /><svg width=\"100%\" x=\"0\" y=\"0px\"><defs /><text text-anchor=\"middle\" x=\"50%\" y=\"16px\">the</text></svg></svg><line stroke=\"black\" x1=\"50%\" x2=\"50%\" y1=\"20px\" y2=\"48px\" /></svg><line stroke=\"black\" x1=\"50%\" x2=\"20.8333%\" y1=\"20px\" y2=\"48px\" /><svg width=\"58.3333%\" x=\"41.6667%\" y=\"48px\"><defs /><svg width=\"100%\" x=\"0\" y=\"0px\"><defs /><text text-anchor=\"middle\" x=\"50%\" y=\"16px\">NOM</text></svg><svg width=\"100%\" x=\"0%\" y=\"48px\"><defs /><svg width=\"100%\" x=\"0\" y=\"0px\"><defs /><text text-anchor=\"middle\" x=\"50%\" y=\"16px\">N</text></svg><svg width=\"100%\" x=\"0%\" y=\"48px\"><defs /><svg width=\"100%\" x=\"0\" y=\"0px\"><defs /><text text-anchor=\"middle\" x=\"50%\" y=\"16px\">woman</text></svg></svg><line stroke=\"black\" x1=\"50%\" x2=\"50%\" y1=\"20px\" y2=\"48px\" /></svg><line stroke=\"black\" x1=\"50%\" x2=\"50%\" y1=\"20px\" y2=\"48px\" /></svg><line stroke=\"black\" x1=\"50%\" x2=\"70.8333%\" y1=\"20px\" y2=\"48px\" /></svg><line stroke=\"black\" x1=\"50%\" x2=\"12.5%\" y1=\"20px\" y2=\"48px\" /><svg width=\"75%\" x=\"25%\" y=\"48px\"><defs /><svg width=\"100%\" x=\"0\" y=\"0px\"><defs /><text text-anchor=\"middle\" x=\"50%\" y=\"16px\">VP</text></svg><svg width=\"55.5556%\" x=\"0%\" y=\"48px\"><defs /><svg width=\"100%\" x=\"0\" y=\"0px\"><defs /><text text-anchor=\"middle\" x=\"50%\" y=\"16px\">VP</text></svg><svg width=\"30%\" x=\"0%\" y=\"48px\"><defs /><svg width=\"100%\" x=\"0\" y=\"0px\"><defs /><text text-anchor=\"middle\" x=\"50%\" y=\"16px\">VP</text></svg><svg width=\"100%\" x=\"0%\" y=\"48px\"><defs /><svg width=\"100%\" x=\"0\" y=\"0px\"><defs /><text text-anchor=\"middle\" x=\"50%\" y=\"16px\">V</text></svg><svg width=\"100%\" x=\"0%\" y=\"48px\"><defs /><svg width=\"100%\" x=\"0\" y=\"0px\"><defs /><text text-anchor=\"middle\" x=\"50%\" y=\"16px\">eats</text></svg></svg><line stroke=\"black\" x1=\"50%\" x2=\"50%\" y1=\"20px\" y2=\"48px\" /></svg><line stroke=\"black\" x1=\"50%\" x2=\"50%\" y1=\"20px\" y2=\"48px\" /></svg><line stroke=\"black\" x1=\"50%\" x2=\"15%\" y1=\"20px\" y2=\"48px\" /><svg width=\"30%\" x=\"30%\" y=\"48px\"><defs /><svg width=\"100%\" x=\"0\" y=\"0px\"><defs /><text text-anchor=\"middle\" x=\"50%\" y=\"16px\">Conj</text></svg><svg width=\"100%\" x=\"0%\" y=\"48px\"><defs /><svg width=\"100%\" x=\"0\" y=\"0px\"><defs /><text text-anchor=\"middle\" x=\"50%\" y=\"16px\">and</text></svg></svg><line stroke=\"black\" x1=\"50%\" x2=\"50%\" y1=\"20px\" y2=\"48px\" /></svg><line stroke=\"black\" x1=\"50%\" x2=\"45%\" y1=\"20px\" y2=\"48px\" /><svg width=\"40%\" x=\"60%\" y=\"48px\"><defs /><svg width=\"100%\" x=\"0\" y=\"0px\"><defs /><text text-anchor=\"middle\" x=\"50%\" y=\"16px\">VP</text></svg><svg width=\"100%\" x=\"0%\" y=\"48px\"><defs /><svg width=\"100%\" x=\"0\" y=\"0px\"><defs /><text text-anchor=\"middle\" x=\"50%\" y=\"16px\">V</text></svg><svg width=\"100%\" x=\"0%\" y=\"48px\"><defs /><svg width=\"100%\" x=\"0\" y=\"0px\"><defs /><text text-anchor=\"middle\" x=\"50%\" y=\"16px\">sleeps</text></svg></svg><line stroke=\"black\" x1=\"50%\" x2=\"50%\" y1=\"20px\" y2=\"48px\" /></svg><line stroke=\"black\" x1=\"50%\" x2=\"50%\" y1=\"20px\" y2=\"48px\" /></svg><line stroke=\"black\" x1=\"50%\" x2=\"80%\" y1=\"20px\" y2=\"48px\" /></svg><line stroke=\"black\" x1=\"50%\" x2=\"27.7778%\" y1=\"20px\" y2=\"48px\" /><svg width=\"44.4444%\" x=\"55.5556%\" y=\"48px\"><defs /><svg width=\"100%\" x=\"0\" y=\"0px\"><defs /><text text-anchor=\"middle\" x=\"50%\" y=\"16px\">PP</text></svg><svg width=\"25%\" x=\"0%\" y=\"48px\"><defs /><svg width=\"100%\" x=\"0\" y=\"0px\"><defs /><text text-anchor=\"middle\" x=\"50%\" y=\"16px\">P</text></svg><svg width=\"100%\" x=\"0%\" y=\"48px\"><defs /><svg width=\"100%\" x=\"0\" y=\"0px\"><defs /><text text-anchor=\"middle\" x=\"50%\" y=\"16px\">on</text></svg></svg><line stroke=\"black\" x1=\"50%\" x2=\"50%\" y1=\"20px\" y2=\"48px\" /></svg><line stroke=\"black\" x1=\"50%\" x2=\"12.5%\" y1=\"20px\" y2=\"48px\" /><svg width=\"75%\" x=\"25%\" y=\"48px\"><defs /><svg width=\"100%\" x=\"0\" y=\"0px\"><defs /><text text-anchor=\"middle\" x=\"50%\" y=\"16px\">NP</text></svg><svg width=\"41.6667%\" x=\"0%\" y=\"48px\"><defs /><svg width=\"100%\" x=\"0\" y=\"0px\"><defs /><text text-anchor=\"middle\" x=\"50%\" y=\"16px\">Det</text></svg><svg width=\"100%\" x=\"0%\" y=\"48px\"><defs /><svg width=\"100%\" x=\"0\" y=\"0px\"><defs /><text text-anchor=\"middle\" x=\"50%\" y=\"16px\">the</text></svg></svg><line stroke=\"black\" x1=\"50%\" x2=\"50%\" y1=\"20px\" y2=\"48px\" /></svg><line stroke=\"black\" x1=\"50%\" x2=\"20.8333%\" y1=\"20px\" y2=\"48px\" /><svg width=\"58.3333%\" x=\"41.6667%\" y=\"48px\"><defs /><svg width=\"100%\" x=\"0\" y=\"0px\"><defs /><text text-anchor=\"middle\" x=\"50%\" y=\"16px\">NOM</text></svg><svg width=\"100%\" x=\"0%\" y=\"48px\"><defs /><svg width=\"100%\" x=\"0\" y=\"0px\"><defs /><text text-anchor=\"middle\" x=\"50%\" y=\"16px\">N</text></svg><svg width=\"100%\" x=\"0%\" y=\"48px\"><defs /><svg width=\"100%\" x=\"0\" y=\"0px\"><defs /><text text-anchor=\"middle\" x=\"50%\" y=\"16px\">couch</text></svg></svg><line stroke=\"black\" x1=\"50%\" x2=\"50%\" y1=\"20px\" y2=\"48px\" /></svg><line stroke=\"black\" x1=\"50%\" x2=\"50%\" y1=\"20px\" y2=\"48px\" /></svg><line stroke=\"black\" x1=\"50%\" x2=\"70.8333%\" y1=\"20px\" y2=\"48px\" /></svg><line stroke=\"black\" x1=\"50%\" x2=\"62.5%\" y1=\"20px\" y2=\"48px\" /></svg><line stroke=\"black\" x1=\"50%\" x2=\"77.7778%\" y1=\"20px\" y2=\"48px\" /></svg><line stroke=\"black\" x1=\"50%\" x2=\"62.5%\" y1=\"20px\" y2=\"48px\" /></svg>"
          },
          "metadata": {}
        },
        {
          "output_type": "display_data",
          "data": {
            "text/plain": [
              "TreeLayout(Tree('S', [Tree('NP', [Tree('Det', ['the']), Tree('NOM', [Tree('N', ['woman'])])]), Tree('VP', [Tree('VP', [Tree('V', ['eats'])]), Tree('Conj', ['and']), Tree('VP', [Tree('VP', [Tree('V', ['sleeps'])]), Tree('PP', [Tree('P', ['on']), Tree('NP', [Tree('Det', ['the']), Tree('NOM', [Tree('N', ['couch'])])])])])])]))"
            ],
            "image/svg+xml": "<svg baseProfile=\"full\" height=\"360px\" preserveAspectRatio=\"xMidYMid meet\" style=\"font-family: times, serif; font-weight: normal; font-style: normal; font-size: 16px\" version=\"1.1\" viewBox=\"0,0,384.0,360.0\" width=\"384px\" xmlns=\"http://www.w3.org/2000/svg\" xmlns:ev=\"http://www.w3.org/2001/xml-events\" xmlns:xlink=\"http://www.w3.org/1999/xlink\"><defs /><svg width=\"100%\" x=\"0\" y=\"0px\"><defs /><text text-anchor=\"middle\" x=\"50%\" y=\"16px\">S</text></svg><svg width=\"25%\" x=\"0%\" y=\"48px\"><defs /><svg width=\"100%\" x=\"0\" y=\"0px\"><defs /><text text-anchor=\"middle\" x=\"50%\" y=\"16px\">NP</text></svg><svg width=\"41.6667%\" x=\"0%\" y=\"48px\"><defs /><svg width=\"100%\" x=\"0\" y=\"0px\"><defs /><text text-anchor=\"middle\" x=\"50%\" y=\"16px\">Det</text></svg><svg width=\"100%\" x=\"0%\" y=\"48px\"><defs /><svg width=\"100%\" x=\"0\" y=\"0px\"><defs /><text text-anchor=\"middle\" x=\"50%\" y=\"16px\">the</text></svg></svg><line stroke=\"black\" x1=\"50%\" x2=\"50%\" y1=\"20px\" y2=\"48px\" /></svg><line stroke=\"black\" x1=\"50%\" x2=\"20.8333%\" y1=\"20px\" y2=\"48px\" /><svg width=\"58.3333%\" x=\"41.6667%\" y=\"48px\"><defs /><svg width=\"100%\" x=\"0\" y=\"0px\"><defs /><text text-anchor=\"middle\" x=\"50%\" y=\"16px\">NOM</text></svg><svg width=\"100%\" x=\"0%\" y=\"48px\"><defs /><svg width=\"100%\" x=\"0\" y=\"0px\"><defs /><text text-anchor=\"middle\" x=\"50%\" y=\"16px\">N</text></svg><svg width=\"100%\" x=\"0%\" y=\"48px\"><defs /><svg width=\"100%\" x=\"0\" y=\"0px\"><defs /><text text-anchor=\"middle\" x=\"50%\" y=\"16px\">woman</text></svg></svg><line stroke=\"black\" x1=\"50%\" x2=\"50%\" y1=\"20px\" y2=\"48px\" /></svg><line stroke=\"black\" x1=\"50%\" x2=\"50%\" y1=\"20px\" y2=\"48px\" /></svg><line stroke=\"black\" x1=\"50%\" x2=\"70.8333%\" y1=\"20px\" y2=\"48px\" /></svg><line stroke=\"black\" x1=\"50%\" x2=\"12.5%\" y1=\"20px\" y2=\"48px\" /><svg width=\"75%\" x=\"25%\" y=\"48px\"><defs /><svg width=\"100%\" x=\"0\" y=\"0px\"><defs /><text text-anchor=\"middle\" x=\"50%\" y=\"16px\">VP</text></svg><svg width=\"16.6667%\" x=\"0%\" y=\"48px\"><defs /><svg width=\"100%\" x=\"0\" y=\"0px\"><defs /><text text-anchor=\"middle\" x=\"50%\" y=\"16px\">VP</text></svg><svg width=\"100%\" x=\"0%\" y=\"48px\"><defs /><svg width=\"100%\" x=\"0\" y=\"0px\"><defs /><text text-anchor=\"middle\" x=\"50%\" y=\"16px\">V</text></svg><svg width=\"100%\" x=\"0%\" y=\"48px\"><defs /><svg width=\"100%\" x=\"0\" y=\"0px\"><defs /><text text-anchor=\"middle\" x=\"50%\" y=\"16px\">eats</text></svg></svg><line stroke=\"black\" x1=\"50%\" x2=\"50%\" y1=\"20px\" y2=\"48px\" /></svg><line stroke=\"black\" x1=\"50%\" x2=\"50%\" y1=\"20px\" y2=\"48px\" /></svg><line stroke=\"black\" x1=\"50%\" x2=\"8.33333%\" y1=\"20px\" y2=\"48px\" /><svg width=\"16.6667%\" x=\"16.6667%\" y=\"48px\"><defs /><svg width=\"100%\" x=\"0\" y=\"0px\"><defs /><text text-anchor=\"middle\" x=\"50%\" y=\"16px\">Conj</text></svg><svg width=\"100%\" x=\"0%\" y=\"48px\"><defs /><svg width=\"100%\" x=\"0\" y=\"0px\"><defs /><text text-anchor=\"middle\" x=\"50%\" y=\"16px\">and</text></svg></svg><line stroke=\"black\" x1=\"50%\" x2=\"50%\" y1=\"20px\" y2=\"48px\" /></svg><line stroke=\"black\" x1=\"50%\" x2=\"25%\" y1=\"20px\" y2=\"48px\" /><svg width=\"66.6667%\" x=\"33.3333%\" y=\"48px\"><defs /><svg width=\"100%\" x=\"0\" y=\"0px\"><defs /><text text-anchor=\"middle\" x=\"50%\" y=\"16px\">VP</text></svg><svg width=\"33.3333%\" x=\"0%\" y=\"48px\"><defs /><svg width=\"100%\" x=\"0\" y=\"0px\"><defs /><text text-anchor=\"middle\" x=\"50%\" y=\"16px\">VP</text></svg><svg width=\"100%\" x=\"0%\" y=\"48px\"><defs /><svg width=\"100%\" x=\"0\" y=\"0px\"><defs /><text text-anchor=\"middle\" x=\"50%\" y=\"16px\">V</text></svg><svg width=\"100%\" x=\"0%\" y=\"48px\"><defs /><svg width=\"100%\" x=\"0\" y=\"0px\"><defs /><text text-anchor=\"middle\" x=\"50%\" y=\"16px\">sleeps</text></svg></svg><line stroke=\"black\" x1=\"50%\" x2=\"50%\" y1=\"20px\" y2=\"48px\" /></svg><line stroke=\"black\" x1=\"50%\" x2=\"50%\" y1=\"20px\" y2=\"48px\" /></svg><line stroke=\"black\" x1=\"50%\" x2=\"16.6667%\" y1=\"20px\" y2=\"48px\" /><svg width=\"66.6667%\" x=\"33.3333%\" y=\"48px\"><defs /><svg width=\"100%\" x=\"0\" y=\"0px\"><defs /><text text-anchor=\"middle\" x=\"50%\" y=\"16px\">PP</text></svg><svg width=\"25%\" x=\"0%\" y=\"48px\"><defs /><svg width=\"100%\" x=\"0\" y=\"0px\"><defs /><text text-anchor=\"middle\" x=\"50%\" y=\"16px\">P</text></svg><svg width=\"100%\" x=\"0%\" y=\"48px\"><defs /><svg width=\"100%\" x=\"0\" y=\"0px\"><defs /><text text-anchor=\"middle\" x=\"50%\" y=\"16px\">on</text></svg></svg><line stroke=\"black\" x1=\"50%\" x2=\"50%\" y1=\"20px\" y2=\"48px\" /></svg><line stroke=\"black\" x1=\"50%\" x2=\"12.5%\" y1=\"20px\" y2=\"48px\" /><svg width=\"75%\" x=\"25%\" y=\"48px\"><defs /><svg width=\"100%\" x=\"0\" y=\"0px\"><defs /><text text-anchor=\"middle\" x=\"50%\" y=\"16px\">NP</text></svg><svg width=\"41.6667%\" x=\"0%\" y=\"48px\"><defs /><svg width=\"100%\" x=\"0\" y=\"0px\"><defs /><text text-anchor=\"middle\" x=\"50%\" y=\"16px\">Det</text></svg><svg width=\"100%\" x=\"0%\" y=\"48px\"><defs /><svg width=\"100%\" x=\"0\" y=\"0px\"><defs /><text text-anchor=\"middle\" x=\"50%\" y=\"16px\">the</text></svg></svg><line stroke=\"black\" x1=\"50%\" x2=\"50%\" y1=\"20px\" y2=\"48px\" /></svg><line stroke=\"black\" x1=\"50%\" x2=\"20.8333%\" y1=\"20px\" y2=\"48px\" /><svg width=\"58.3333%\" x=\"41.6667%\" y=\"48px\"><defs /><svg width=\"100%\" x=\"0\" y=\"0px\"><defs /><text text-anchor=\"middle\" x=\"50%\" y=\"16px\">NOM</text></svg><svg width=\"100%\" x=\"0%\" y=\"48px\"><defs /><svg width=\"100%\" x=\"0\" y=\"0px\"><defs /><text text-anchor=\"middle\" x=\"50%\" y=\"16px\">N</text></svg><svg width=\"100%\" x=\"0%\" y=\"48px\"><defs /><svg width=\"100%\" x=\"0\" y=\"0px\"><defs /><text text-anchor=\"middle\" x=\"50%\" y=\"16px\">couch</text></svg></svg><line stroke=\"black\" x1=\"50%\" x2=\"50%\" y1=\"20px\" y2=\"48px\" /></svg><line stroke=\"black\" x1=\"50%\" x2=\"50%\" y1=\"20px\" y2=\"48px\" /></svg><line stroke=\"black\" x1=\"50%\" x2=\"70.8333%\" y1=\"20px\" y2=\"48px\" /></svg><line stroke=\"black\" x1=\"50%\" x2=\"62.5%\" y1=\"20px\" y2=\"48px\" /></svg><line stroke=\"black\" x1=\"50%\" x2=\"66.6667%\" y1=\"20px\" y2=\"48px\" /></svg><line stroke=\"black\" x1=\"50%\" x2=\"66.6667%\" y1=\"20px\" y2=\"48px\" /></svg><line stroke=\"black\" x1=\"50%\" x2=\"62.5%\" y1=\"20px\" y2=\"48px\" /></svg>"
          },
          "metadata": {}
        }
      ]
    },
    {
      "cell_type": "markdown",
      "source": [
        "3. Well-formed sentence the grammar does not allow"
      ],
      "metadata": {
        "id": "BHtrsI6Isqxl"
      }
    },
    {
      "cell_type": "code",
      "source": [
        "sentence = \"on the couch the child sleeps\".split()\n",
        "for tree in parser.parse(sentence):\n",
        "    display(svgling.draw_tree(tree))"
      ],
      "metadata": {
        "id": "pWwX7dXTsvAk"
      },
      "execution_count": null,
      "outputs": []
    },
    {
      "cell_type": "markdown",
      "source": [
        "4. Not-well formed sentences the grammar allows"
      ],
      "metadata": {
        "id": "DeEH2JUKvr6Z"
      }
    },
    {
      "cell_type": "code",
      "source": [
        "sentence = \"the woman looked the dog\".split()\n",
        "for tree in parser.parse(sentence):\n",
        "    display(svgling.draw_tree(tree))"
      ],
      "metadata": {
        "colab": {
          "base_uri": "https://localhost:8080/",
          "height": 285
        },
        "id": "N0f-TC99vw9a",
        "outputId": "368a3b62-92ac-4a12-fac0-6de1155784b6"
      },
      "execution_count": null,
      "outputs": [
        {
          "output_type": "display_data",
          "data": {
            "text/plain": [
              "TreeLayout(Tree('S', [Tree('NP', [Tree('Det', ['the']), Tree('NOM', [Tree('N', ['woman'])])]), Tree('VP', [Tree('V', ['looked']), Tree('NP', [Tree('Det', ['the']), Tree('NOM', [Tree('N', ['dog'])])])])]))"
            ],
            "image/svg+xml": "<svg baseProfile=\"full\" height=\"264px\" preserveAspectRatio=\"xMidYMid meet\" style=\"font-family: times, serif; font-weight: normal; font-style: normal; font-size: 16px\" version=\"1.1\" viewBox=\"0,0,240.0,264.0\" width=\"240px\" xmlns=\"http://www.w3.org/2000/svg\" xmlns:ev=\"http://www.w3.org/2001/xml-events\" xmlns:xlink=\"http://www.w3.org/1999/xlink\"><defs /><svg width=\"100%\" x=\"0\" y=\"0px\"><defs /><text text-anchor=\"middle\" x=\"50%\" y=\"16px\">S</text></svg><svg width=\"40%\" x=\"0%\" y=\"48px\"><defs /><svg width=\"100%\" x=\"0\" y=\"0px\"><defs /><text text-anchor=\"middle\" x=\"50%\" y=\"16px\">NP</text></svg><svg width=\"41.6667%\" x=\"0%\" y=\"48px\"><defs /><svg width=\"100%\" x=\"0\" y=\"0px\"><defs /><text text-anchor=\"middle\" x=\"50%\" y=\"16px\">Det</text></svg><svg width=\"100%\" x=\"0%\" y=\"48px\"><defs /><svg width=\"100%\" x=\"0\" y=\"0px\"><defs /><text text-anchor=\"middle\" x=\"50%\" y=\"16px\">the</text></svg></svg><line stroke=\"black\" x1=\"50%\" x2=\"50%\" y1=\"20px\" y2=\"48px\" /></svg><line stroke=\"black\" x1=\"50%\" x2=\"20.8333%\" y1=\"20px\" y2=\"48px\" /><svg width=\"58.3333%\" x=\"41.6667%\" y=\"48px\"><defs /><svg width=\"100%\" x=\"0\" y=\"0px\"><defs /><text text-anchor=\"middle\" x=\"50%\" y=\"16px\">NOM</text></svg><svg width=\"100%\" x=\"0%\" y=\"48px\"><defs /><svg width=\"100%\" x=\"0\" y=\"0px\"><defs /><text text-anchor=\"middle\" x=\"50%\" y=\"16px\">N</text></svg><svg width=\"100%\" x=\"0%\" y=\"48px\"><defs /><svg width=\"100%\" x=\"0\" y=\"0px\"><defs /><text text-anchor=\"middle\" x=\"50%\" y=\"16px\">woman</text></svg></svg><line stroke=\"black\" x1=\"50%\" x2=\"50%\" y1=\"20px\" y2=\"48px\" /></svg><line stroke=\"black\" x1=\"50%\" x2=\"50%\" y1=\"20px\" y2=\"48px\" /></svg><line stroke=\"black\" x1=\"50%\" x2=\"70.8333%\" y1=\"20px\" y2=\"48px\" /></svg><line stroke=\"black\" x1=\"50%\" x2=\"20%\" y1=\"20px\" y2=\"48px\" /><svg width=\"60%\" x=\"40%\" y=\"48px\"><defs /><svg width=\"100%\" x=\"0\" y=\"0px\"><defs /><text text-anchor=\"middle\" x=\"50%\" y=\"16px\">VP</text></svg><svg width=\"44.4444%\" x=\"0%\" y=\"48px\"><defs /><svg width=\"100%\" x=\"0\" y=\"0px\"><defs /><text text-anchor=\"middle\" x=\"50%\" y=\"16px\">V</text></svg><svg width=\"100%\" x=\"0%\" y=\"48px\"><defs /><svg width=\"100%\" x=\"0\" y=\"0px\"><defs /><text text-anchor=\"middle\" x=\"50%\" y=\"16px\">looked</text></svg></svg><line stroke=\"black\" x1=\"50%\" x2=\"50%\" y1=\"20px\" y2=\"48px\" /></svg><line stroke=\"black\" x1=\"50%\" x2=\"22.2222%\" y1=\"20px\" y2=\"48px\" /><svg width=\"55.5556%\" x=\"44.4444%\" y=\"48px\"><defs /><svg width=\"100%\" x=\"0\" y=\"0px\"><defs /><text text-anchor=\"middle\" x=\"50%\" y=\"16px\">NP</text></svg><svg width=\"50%\" x=\"0%\" y=\"48px\"><defs /><svg width=\"100%\" x=\"0\" y=\"0px\"><defs /><text text-anchor=\"middle\" x=\"50%\" y=\"16px\">Det</text></svg><svg width=\"100%\" x=\"0%\" y=\"48px\"><defs /><svg width=\"100%\" x=\"0\" y=\"0px\"><defs /><text text-anchor=\"middle\" x=\"50%\" y=\"16px\">the</text></svg></svg><line stroke=\"black\" x1=\"50%\" x2=\"50%\" y1=\"20px\" y2=\"48px\" /></svg><line stroke=\"black\" x1=\"50%\" x2=\"25%\" y1=\"20px\" y2=\"48px\" /><svg width=\"50%\" x=\"50%\" y=\"48px\"><defs /><svg width=\"100%\" x=\"0\" y=\"0px\"><defs /><text text-anchor=\"middle\" x=\"50%\" y=\"16px\">NOM</text></svg><svg width=\"100%\" x=\"0%\" y=\"48px\"><defs /><svg width=\"100%\" x=\"0\" y=\"0px\"><defs /><text text-anchor=\"middle\" x=\"50%\" y=\"16px\">N</text></svg><svg width=\"100%\" x=\"0%\" y=\"48px\"><defs /><svg width=\"100%\" x=\"0\" y=\"0px\"><defs /><text text-anchor=\"middle\" x=\"50%\" y=\"16px\">dog</text></svg></svg><line stroke=\"black\" x1=\"50%\" x2=\"50%\" y1=\"20px\" y2=\"48px\" /></svg><line stroke=\"black\" x1=\"50%\" x2=\"50%\" y1=\"20px\" y2=\"48px\" /></svg><line stroke=\"black\" x1=\"50%\" x2=\"75%\" y1=\"20px\" y2=\"48px\" /></svg><line stroke=\"black\" x1=\"50%\" x2=\"72.2222%\" y1=\"20px\" y2=\"48px\" /></svg><line stroke=\"black\" x1=\"50%\" x2=\"70%\" y1=\"20px\" y2=\"48px\" /></svg>"
          },
          "metadata": {}
        }
      ]
    },
    {
      "cell_type": "code",
      "source": [
        "sentence = \"the woman sleeps child\".split()\n",
        "for tree in parser.parse(sentence):\n",
        "    display(svgling.draw_tree(tree))"
      ],
      "metadata": {
        "colab": {
          "base_uri": "https://localhost:8080/",
          "height": 285
        },
        "id": "r9NvinP_uKBC",
        "outputId": "e22c5adc-737f-434a-ddb0-2e86eca41d9f"
      },
      "execution_count": null,
      "outputs": [
        {
          "output_type": "display_data",
          "data": {
            "text/plain": [
              "TreeLayout(Tree('S', [Tree('NP', [Tree('Det', ['the']), Tree('NOM', [Tree('N', ['woman'])])]), Tree('VP', [Tree('V', ['sleeps']), Tree('NP', [Tree('NOM', [Tree('N', ['child'])])])])]))"
            ],
            "image/svg+xml": "<svg baseProfile=\"full\" height=\"264px\" preserveAspectRatio=\"xMidYMid meet\" style=\"font-family: times, serif; font-weight: normal; font-style: normal; font-size: 16px\" version=\"1.1\" viewBox=\"0,0,216.0,264.0\" width=\"216px\" xmlns=\"http://www.w3.org/2000/svg\" xmlns:ev=\"http://www.w3.org/2001/xml-events\" xmlns:xlink=\"http://www.w3.org/1999/xlink\"><defs /><svg width=\"100%\" x=\"0\" y=\"0px\"><defs /><text text-anchor=\"middle\" x=\"50%\" y=\"16px\">S</text></svg><svg width=\"44.4444%\" x=\"0%\" y=\"48px\"><defs /><svg width=\"100%\" x=\"0\" y=\"0px\"><defs /><text text-anchor=\"middle\" x=\"50%\" y=\"16px\">NP</text></svg><svg width=\"41.6667%\" x=\"0%\" y=\"48px\"><defs /><svg width=\"100%\" x=\"0\" y=\"0px\"><defs /><text text-anchor=\"middle\" x=\"50%\" y=\"16px\">Det</text></svg><svg width=\"100%\" x=\"0%\" y=\"48px\"><defs /><svg width=\"100%\" x=\"0\" y=\"0px\"><defs /><text text-anchor=\"middle\" x=\"50%\" y=\"16px\">the</text></svg></svg><line stroke=\"black\" x1=\"50%\" x2=\"50%\" y1=\"20px\" y2=\"48px\" /></svg><line stroke=\"black\" x1=\"50%\" x2=\"20.8333%\" y1=\"20px\" y2=\"48px\" /><svg width=\"58.3333%\" x=\"41.6667%\" y=\"48px\"><defs /><svg width=\"100%\" x=\"0\" y=\"0px\"><defs /><text text-anchor=\"middle\" x=\"50%\" y=\"16px\">NOM</text></svg><svg width=\"100%\" x=\"0%\" y=\"48px\"><defs /><svg width=\"100%\" x=\"0\" y=\"0px\"><defs /><text text-anchor=\"middle\" x=\"50%\" y=\"16px\">N</text></svg><svg width=\"100%\" x=\"0%\" y=\"48px\"><defs /><svg width=\"100%\" x=\"0\" y=\"0px\"><defs /><text text-anchor=\"middle\" x=\"50%\" y=\"16px\">woman</text></svg></svg><line stroke=\"black\" x1=\"50%\" x2=\"50%\" y1=\"20px\" y2=\"48px\" /></svg><line stroke=\"black\" x1=\"50%\" x2=\"50%\" y1=\"20px\" y2=\"48px\" /></svg><line stroke=\"black\" x1=\"50%\" x2=\"70.8333%\" y1=\"20px\" y2=\"48px\" /></svg><line stroke=\"black\" x1=\"50%\" x2=\"22.2222%\" y1=\"20px\" y2=\"48px\" /><svg width=\"55.5556%\" x=\"44.4444%\" y=\"48px\"><defs /><svg width=\"100%\" x=\"0\" y=\"0px\"><defs /><text text-anchor=\"middle\" x=\"50%\" y=\"16px\">VP</text></svg><svg width=\"53.3333%\" x=\"0%\" y=\"48px\"><defs /><svg width=\"100%\" x=\"0\" y=\"0px\"><defs /><text text-anchor=\"middle\" x=\"50%\" y=\"16px\">V</text></svg><svg width=\"100%\" x=\"0%\" y=\"48px\"><defs /><svg width=\"100%\" x=\"0\" y=\"0px\"><defs /><text text-anchor=\"middle\" x=\"50%\" y=\"16px\">sleeps</text></svg></svg><line stroke=\"black\" x1=\"50%\" x2=\"50%\" y1=\"20px\" y2=\"48px\" /></svg><line stroke=\"black\" x1=\"50%\" x2=\"26.6667%\" y1=\"20px\" y2=\"48px\" /><svg width=\"46.6667%\" x=\"53.3333%\" y=\"48px\"><defs /><svg width=\"100%\" x=\"0\" y=\"0px\"><defs /><text text-anchor=\"middle\" x=\"50%\" y=\"16px\">NP</text></svg><svg width=\"100%\" x=\"0%\" y=\"48px\"><defs /><svg width=\"100%\" x=\"0\" y=\"0px\"><defs /><text text-anchor=\"middle\" x=\"50%\" y=\"16px\">NOM</text></svg><svg width=\"100%\" x=\"0%\" y=\"48px\"><defs /><svg width=\"100%\" x=\"0\" y=\"0px\"><defs /><text text-anchor=\"middle\" x=\"50%\" y=\"16px\">N</text></svg><svg width=\"100%\" x=\"0%\" y=\"48px\"><defs /><svg width=\"100%\" x=\"0\" y=\"0px\"><defs /><text text-anchor=\"middle\" x=\"50%\" y=\"16px\">child</text></svg></svg><line stroke=\"black\" x1=\"50%\" x2=\"50%\" y1=\"20px\" y2=\"48px\" /></svg><line stroke=\"black\" x1=\"50%\" x2=\"50%\" y1=\"20px\" y2=\"48px\" /></svg><line stroke=\"black\" x1=\"50%\" x2=\"50%\" y1=\"20px\" y2=\"48px\" /></svg><line stroke=\"black\" x1=\"50%\" x2=\"76.6667%\" y1=\"20px\" y2=\"48px\" /></svg><line stroke=\"black\" x1=\"50%\" x2=\"72.2222%\" y1=\"20px\" y2=\"48px\" /></svg>"
          },
          "metadata": {}
        }
      ]
    },
    {
      "cell_type": "code",
      "source": [
        "sentence = \"the woman eats the child a banana\".split()\n",
        "for tree in parser.parse(sentence):\n",
        "    display(svgling.draw_tree(tree))"
      ],
      "metadata": {
        "colab": {
          "base_uri": "https://localhost:8080/",
          "height": 285
        },
        "id": "SNHNXxgB7CMm",
        "outputId": "a0508507-fbc6-45d7-a774-fcd8c5652271"
      },
      "execution_count": null,
      "outputs": [
        {
          "output_type": "display_data",
          "data": {
            "text/plain": [
              "TreeLayout(Tree('S', [Tree('NP', [Tree('Det', ['the']), Tree('NOM', [Tree('N', ['woman'])])]), Tree('VP', [Tree('V', ['eats']), Tree('NP', [Tree('Det', ['the']), Tree('NOM', [Tree('N', ['child'])])]), Tree('NP', [Tree('Det', ['a']), Tree('NOM', [Tree('N', ['banana'])])])])]))"
            ],
            "image/svg+xml": "<svg baseProfile=\"full\" height=\"264px\" preserveAspectRatio=\"xMidYMid meet\" style=\"font-family: times, serif; font-weight: normal; font-style: normal; font-size: 16px\" version=\"1.1\" viewBox=\"0,0,344.0,264.0\" width=\"344px\" xmlns=\"http://www.w3.org/2000/svg\" xmlns:ev=\"http://www.w3.org/2001/xml-events\" xmlns:xlink=\"http://www.w3.org/1999/xlink\"><defs /><svg width=\"100%\" x=\"0\" y=\"0px\"><defs /><text text-anchor=\"middle\" x=\"50%\" y=\"16px\">S</text></svg><svg width=\"27.907%\" x=\"0%\" y=\"48px\"><defs /><svg width=\"100%\" x=\"0\" y=\"0px\"><defs /><text text-anchor=\"middle\" x=\"50%\" y=\"16px\">NP</text></svg><svg width=\"41.6667%\" x=\"0%\" y=\"48px\"><defs /><svg width=\"100%\" x=\"0\" y=\"0px\"><defs /><text text-anchor=\"middle\" x=\"50%\" y=\"16px\">Det</text></svg><svg width=\"100%\" x=\"0%\" y=\"48px\"><defs /><svg width=\"100%\" x=\"0\" y=\"0px\"><defs /><text text-anchor=\"middle\" x=\"50%\" y=\"16px\">the</text></svg></svg><line stroke=\"black\" x1=\"50%\" x2=\"50%\" y1=\"20px\" y2=\"48px\" /></svg><line stroke=\"black\" x1=\"50%\" x2=\"20.8333%\" y1=\"20px\" y2=\"48px\" /><svg width=\"58.3333%\" x=\"41.6667%\" y=\"48px\"><defs /><svg width=\"100%\" x=\"0\" y=\"0px\"><defs /><text text-anchor=\"middle\" x=\"50%\" y=\"16px\">NOM</text></svg><svg width=\"100%\" x=\"0%\" y=\"48px\"><defs /><svg width=\"100%\" x=\"0\" y=\"0px\"><defs /><text text-anchor=\"middle\" x=\"50%\" y=\"16px\">N</text></svg><svg width=\"100%\" x=\"0%\" y=\"48px\"><defs /><svg width=\"100%\" x=\"0\" y=\"0px\"><defs /><text text-anchor=\"middle\" x=\"50%\" y=\"16px\">woman</text></svg></svg><line stroke=\"black\" x1=\"50%\" x2=\"50%\" y1=\"20px\" y2=\"48px\" /></svg><line stroke=\"black\" x1=\"50%\" x2=\"50%\" y1=\"20px\" y2=\"48px\" /></svg><line stroke=\"black\" x1=\"50%\" x2=\"70.8333%\" y1=\"20px\" y2=\"48px\" /></svg><line stroke=\"black\" x1=\"50%\" x2=\"13.9535%\" y1=\"20px\" y2=\"48px\" /><svg width=\"72.093%\" x=\"27.907%\" y=\"48px\"><defs /><svg width=\"100%\" x=\"0\" y=\"0px\"><defs /><text text-anchor=\"middle\" x=\"50%\" y=\"16px\">VP</text></svg><svg width=\"19.3548%\" x=\"0%\" y=\"48px\"><defs /><svg width=\"100%\" x=\"0\" y=\"0px\"><defs /><text text-anchor=\"middle\" x=\"50%\" y=\"16px\">V</text></svg><svg width=\"100%\" x=\"0%\" y=\"48px\"><defs /><svg width=\"100%\" x=\"0\" y=\"0px\"><defs /><text text-anchor=\"middle\" x=\"50%\" y=\"16px\">eats</text></svg></svg><line stroke=\"black\" x1=\"50%\" x2=\"50%\" y1=\"20px\" y2=\"48px\" /></svg><line stroke=\"black\" x1=\"50%\" x2=\"9.67742%\" y1=\"20px\" y2=\"48px\" /><svg width=\"38.7097%\" x=\"19.3548%\" y=\"48px\"><defs /><svg width=\"100%\" x=\"0\" y=\"0px\"><defs /><text text-anchor=\"middle\" x=\"50%\" y=\"16px\">NP</text></svg><svg width=\"41.6667%\" x=\"0%\" y=\"48px\"><defs /><svg width=\"100%\" x=\"0\" y=\"0px\"><defs /><text text-anchor=\"middle\" x=\"50%\" y=\"16px\">Det</text></svg><svg width=\"100%\" x=\"0%\" y=\"48px\"><defs /><svg width=\"100%\" x=\"0\" y=\"0px\"><defs /><text text-anchor=\"middle\" x=\"50%\" y=\"16px\">the</text></svg></svg><line stroke=\"black\" x1=\"50%\" x2=\"50%\" y1=\"20px\" y2=\"48px\" /></svg><line stroke=\"black\" x1=\"50%\" x2=\"20.8333%\" y1=\"20px\" y2=\"48px\" /><svg width=\"58.3333%\" x=\"41.6667%\" y=\"48px\"><defs /><svg width=\"100%\" x=\"0\" y=\"0px\"><defs /><text text-anchor=\"middle\" x=\"50%\" y=\"16px\">NOM</text></svg><svg width=\"100%\" x=\"0%\" y=\"48px\"><defs /><svg width=\"100%\" x=\"0\" y=\"0px\"><defs /><text text-anchor=\"middle\" x=\"50%\" y=\"16px\">N</text></svg><svg width=\"100%\" x=\"0%\" y=\"48px\"><defs /><svg width=\"100%\" x=\"0\" y=\"0px\"><defs /><text text-anchor=\"middle\" x=\"50%\" y=\"16px\">child</text></svg></svg><line stroke=\"black\" x1=\"50%\" x2=\"50%\" y1=\"20px\" y2=\"48px\" /></svg><line stroke=\"black\" x1=\"50%\" x2=\"50%\" y1=\"20px\" y2=\"48px\" /></svg><line stroke=\"black\" x1=\"50%\" x2=\"70.8333%\" y1=\"20px\" y2=\"48px\" /></svg><line stroke=\"black\" x1=\"50%\" x2=\"38.7097%\" y1=\"20px\" y2=\"48px\" /><svg width=\"41.9355%\" x=\"58.0645%\" y=\"48px\"><defs /><svg width=\"100%\" x=\"0\" y=\"0px\"><defs /><text text-anchor=\"middle\" x=\"50%\" y=\"16px\">NP</text></svg><svg width=\"38.4615%\" x=\"0%\" y=\"48px\"><defs /><svg width=\"100%\" x=\"0\" y=\"0px\"><defs /><text text-anchor=\"middle\" x=\"50%\" y=\"16px\">Det</text></svg><svg width=\"100%\" x=\"0%\" y=\"48px\"><defs /><svg width=\"100%\" x=\"0\" y=\"0px\"><defs /><text text-anchor=\"middle\" x=\"50%\" y=\"16px\">a</text></svg></svg><line stroke=\"black\" x1=\"50%\" x2=\"50%\" y1=\"20px\" y2=\"48px\" /></svg><line stroke=\"black\" x1=\"50%\" x2=\"19.2308%\" y1=\"20px\" y2=\"48px\" /><svg width=\"61.5385%\" x=\"38.4615%\" y=\"48px\"><defs /><svg width=\"100%\" x=\"0\" y=\"0px\"><defs /><text text-anchor=\"middle\" x=\"50%\" y=\"16px\">NOM</text></svg><svg width=\"100%\" x=\"0%\" y=\"48px\"><defs /><svg width=\"100%\" x=\"0\" y=\"0px\"><defs /><text text-anchor=\"middle\" x=\"50%\" y=\"16px\">N</text></svg><svg width=\"100%\" x=\"0%\" y=\"48px\"><defs /><svg width=\"100%\" x=\"0\" y=\"0px\"><defs /><text text-anchor=\"middle\" x=\"50%\" y=\"16px\">banana</text></svg></svg><line stroke=\"black\" x1=\"50%\" x2=\"50%\" y1=\"20px\" y2=\"48px\" /></svg><line stroke=\"black\" x1=\"50%\" x2=\"50%\" y1=\"20px\" y2=\"48px\" /></svg><line stroke=\"black\" x1=\"50%\" x2=\"69.2308%\" y1=\"20px\" y2=\"48px\" /></svg><line stroke=\"black\" x1=\"50%\" x2=\"79.0323%\" y1=\"20px\" y2=\"48px\" /></svg><line stroke=\"black\" x1=\"50%\" x2=\"63.9535%\" y1=\"20px\" y2=\"48px\" /></svg>"
          },
          "metadata": {}
        }
      ]
    },
    {
      "cell_type": "markdown",
      "source": [
        "Adapting the grammar to allow for (3) and exclude (4)"
      ],
      "metadata": {
        "id": "wBeoVzfu4e8H"
      }
    },
    {
      "cell_type": "code",
      "source": [
        "grammar = nltk.CFG.fromstring(\"\"\"\n",
        "   S -> NP VP | PP NP VP\n",
        "   S -> S Conj S\n",
        "   NP -> Det NOM | NOM\n",
        "   NP -> NP Conj NP\n",
        "   VP -> IV | IV PP | TV NP | TV NP PP | DTV NP NP | DTV NP NP PP | DTV NP PP\n",
        "   VP -> VP Conj VP\n",
        "   NOM -> N\n",
        "   NOM -> NOM PP\n",
        "   NOM -> NOM Conj NOM\n",
        "   PP -> P NP\n",
        "   PP -> PP Conj PP\n",
        "   N -> \"woman\" | \"child\" | \"dog\" | \"book\" | \"couch\" | \"banana\"\n",
        "   TV -> \"eats\"\n",
        "   IV -> \"sleeps\" | \"looked\"\n",
        "   DTV -> \"reads\"\n",
        "   P -> \"on\" | \"at\"\n",
        "   Det -> \"a\" | \"the\"\n",
        "   Conj -> \"and\" | \"or\"\n",
        "   \"\"\")\n",
        "parser = nltk.ChartParser(grammar)\n",
        "\n",
        "# To include (3): Add rule that allows for a sentence to start with PP\n",
        "\n",
        "# To exclude (4) : Split V into:\n",
        "# transitive verbs (TV) requiring a direct object\n",
        "# intransitive verbs that can take a prepositional phrase (IV)\n",
        "# ditransitive verbs that can take 2 objects\n"
      ],
      "metadata": {
        "id": "l9MZa8An4mTw"
      },
      "execution_count": null,
      "outputs": []
    },
    {
      "cell_type": "code",
      "source": [
        "sentence = \"on the couch the child sleeps\".split()\n",
        "for tree in parser.parse(sentence):\n",
        "    display(svgling.draw_tree(tree))"
      ],
      "metadata": {
        "colab": {
          "base_uri": "https://localhost:8080/",
          "height": 285
        },
        "id": "JVu4r3fs4eWj",
        "outputId": "a8af5ca7-a8ab-4c0a-d693-bbd0f664e839"
      },
      "execution_count": null,
      "outputs": [
        {
          "output_type": "display_data",
          "data": {
            "text/plain": [
              "TreeLayout(Tree('S', [Tree('PP', [Tree('P', ['on']), Tree('NP', [Tree('Det', ['the']), Tree('NOM', [Tree('N', ['couch'])])])]), Tree('NP', [Tree('Det', ['the']), Tree('NOM', [Tree('N', ['child'])])]), Tree('VP', [Tree('IV', ['sleeps'])])]))"
            ],
            "image/svg+xml": "<svg baseProfile=\"full\" height=\"264px\" preserveAspectRatio=\"xMidYMid meet\" style=\"font-family: times, serif; font-weight: normal; font-style: normal; font-size: 16px\" version=\"1.1\" viewBox=\"0,0,288.0,264.0\" width=\"288px\" xmlns=\"http://www.w3.org/2000/svg\" xmlns:ev=\"http://www.w3.org/2001/xml-events\" xmlns:xlink=\"http://www.w3.org/1999/xlink\"><defs /><svg width=\"100%\" x=\"0\" y=\"0px\"><defs /><text text-anchor=\"middle\" x=\"50%\" y=\"16px\">S</text></svg><svg width=\"44.4444%\" x=\"0%\" y=\"48px\"><defs /><svg width=\"100%\" x=\"0\" y=\"0px\"><defs /><text text-anchor=\"middle\" x=\"50%\" y=\"16px\">PP</text></svg><svg width=\"25%\" x=\"0%\" y=\"48px\"><defs /><svg width=\"100%\" x=\"0\" y=\"0px\"><defs /><text text-anchor=\"middle\" x=\"50%\" y=\"16px\">P</text></svg><svg width=\"100%\" x=\"0%\" y=\"48px\"><defs /><svg width=\"100%\" x=\"0\" y=\"0px\"><defs /><text text-anchor=\"middle\" x=\"50%\" y=\"16px\">on</text></svg></svg><line stroke=\"black\" x1=\"50%\" x2=\"50%\" y1=\"20px\" y2=\"48px\" /></svg><line stroke=\"black\" x1=\"50%\" x2=\"12.5%\" y1=\"20px\" y2=\"48px\" /><svg width=\"75%\" x=\"25%\" y=\"48px\"><defs /><svg width=\"100%\" x=\"0\" y=\"0px\"><defs /><text text-anchor=\"middle\" x=\"50%\" y=\"16px\">NP</text></svg><svg width=\"41.6667%\" x=\"0%\" y=\"48px\"><defs /><svg width=\"100%\" x=\"0\" y=\"0px\"><defs /><text text-anchor=\"middle\" x=\"50%\" y=\"16px\">Det</text></svg><svg width=\"100%\" x=\"0%\" y=\"48px\"><defs /><svg width=\"100%\" x=\"0\" y=\"0px\"><defs /><text text-anchor=\"middle\" x=\"50%\" y=\"16px\">the</text></svg></svg><line stroke=\"black\" x1=\"50%\" x2=\"50%\" y1=\"20px\" y2=\"48px\" /></svg><line stroke=\"black\" x1=\"50%\" x2=\"20.8333%\" y1=\"20px\" y2=\"48px\" /><svg width=\"58.3333%\" x=\"41.6667%\" y=\"48px\"><defs /><svg width=\"100%\" x=\"0\" y=\"0px\"><defs /><text text-anchor=\"middle\" x=\"50%\" y=\"16px\">NOM</text></svg><svg width=\"100%\" x=\"0%\" y=\"48px\"><defs /><svg width=\"100%\" x=\"0\" y=\"0px\"><defs /><text text-anchor=\"middle\" x=\"50%\" y=\"16px\">N</text></svg><svg width=\"100%\" x=\"0%\" y=\"48px\"><defs /><svg width=\"100%\" x=\"0\" y=\"0px\"><defs /><text text-anchor=\"middle\" x=\"50%\" y=\"16px\">couch</text></svg></svg><line stroke=\"black\" x1=\"50%\" x2=\"50%\" y1=\"20px\" y2=\"48px\" /></svg><line stroke=\"black\" x1=\"50%\" x2=\"50%\" y1=\"20px\" y2=\"48px\" /></svg><line stroke=\"black\" x1=\"50%\" x2=\"70.8333%\" y1=\"20px\" y2=\"48px\" /></svg><line stroke=\"black\" x1=\"50%\" x2=\"62.5%\" y1=\"20px\" y2=\"48px\" /></svg><line stroke=\"black\" x1=\"50%\" x2=\"22.2222%\" y1=\"20px\" y2=\"48px\" /><svg width=\"33.3333%\" x=\"44.4444%\" y=\"48px\"><defs /><svg width=\"100%\" x=\"0\" y=\"0px\"><defs /><text text-anchor=\"middle\" x=\"50%\" y=\"16px\">NP</text></svg><svg width=\"41.6667%\" x=\"0%\" y=\"48px\"><defs /><svg width=\"100%\" x=\"0\" y=\"0px\"><defs /><text text-anchor=\"middle\" x=\"50%\" y=\"16px\">Det</text></svg><svg width=\"100%\" x=\"0%\" y=\"48px\"><defs /><svg width=\"100%\" x=\"0\" y=\"0px\"><defs /><text text-anchor=\"middle\" x=\"50%\" y=\"16px\">the</text></svg></svg><line stroke=\"black\" x1=\"50%\" x2=\"50%\" y1=\"20px\" y2=\"48px\" /></svg><line stroke=\"black\" x1=\"50%\" x2=\"20.8333%\" y1=\"20px\" y2=\"48px\" /><svg width=\"58.3333%\" x=\"41.6667%\" y=\"48px\"><defs /><svg width=\"100%\" x=\"0\" y=\"0px\"><defs /><text text-anchor=\"middle\" x=\"50%\" y=\"16px\">NOM</text></svg><svg width=\"100%\" x=\"0%\" y=\"48px\"><defs /><svg width=\"100%\" x=\"0\" y=\"0px\"><defs /><text text-anchor=\"middle\" x=\"50%\" y=\"16px\">N</text></svg><svg width=\"100%\" x=\"0%\" y=\"48px\"><defs /><svg width=\"100%\" x=\"0\" y=\"0px\"><defs /><text text-anchor=\"middle\" x=\"50%\" y=\"16px\">child</text></svg></svg><line stroke=\"black\" x1=\"50%\" x2=\"50%\" y1=\"20px\" y2=\"48px\" /></svg><line stroke=\"black\" x1=\"50%\" x2=\"50%\" y1=\"20px\" y2=\"48px\" /></svg><line stroke=\"black\" x1=\"50%\" x2=\"70.8333%\" y1=\"20px\" y2=\"48px\" /></svg><line stroke=\"black\" x1=\"50%\" x2=\"61.1111%\" y1=\"20px\" y2=\"48px\" /><svg width=\"22.2222%\" x=\"77.7778%\" y=\"48px\"><defs /><svg width=\"100%\" x=\"0\" y=\"0px\"><defs /><text text-anchor=\"middle\" x=\"50%\" y=\"16px\">VP</text></svg><svg width=\"100%\" x=\"0%\" y=\"48px\"><defs /><svg width=\"100%\" x=\"0\" y=\"0px\"><defs /><text text-anchor=\"middle\" x=\"50%\" y=\"16px\">IV</text></svg><svg width=\"100%\" x=\"0%\" y=\"48px\"><defs /><svg width=\"100%\" x=\"0\" y=\"0px\"><defs /><text text-anchor=\"middle\" x=\"50%\" y=\"16px\">sleeps</text></svg></svg><line stroke=\"black\" x1=\"50%\" x2=\"50%\" y1=\"20px\" y2=\"48px\" /></svg><line stroke=\"black\" x1=\"50%\" x2=\"50%\" y1=\"20px\" y2=\"48px\" /></svg><line stroke=\"black\" x1=\"50%\" x2=\"88.8889%\" y1=\"20px\" y2=\"48px\" /></svg>"
          },
          "metadata": {}
        }
      ]
    },
    {
      "cell_type": "code",
      "source": [
        "sentence = \"the woman looked the dog\".split()\n",
        "for tree in parser.parse(sentence):\n",
        "    display(svgling.draw_tree(tree))"
      ],
      "metadata": {
        "id": "S6fD5uUP5x1K"
      },
      "execution_count": null,
      "outputs": []
    },
    {
      "cell_type": "code",
      "source": [
        "sentence = \"the woman sleeps child\".split()\n",
        "for tree in parser.parse(sentence):\n",
        "    display(svgling.draw_tree(tree))"
      ],
      "metadata": {
        "id": "4I9K8U5b76H3"
      },
      "execution_count": null,
      "outputs": []
    },
    {
      "cell_type": "code",
      "source": [
        "sentence = \"the woman eats the child a banana\".split()\n",
        "for tree in parser.parse(sentence):\n",
        "    display(svgling.draw_tree(tree))"
      ],
      "metadata": {
        "id": "VMJlyLoy75-7"
      },
      "execution_count": null,
      "outputs": []
    },
    {
      "cell_type": "markdown",
      "source": [
        "### Implementing CFGs\n",
        "\n",
        "In this exercise, we will implement a small fragment of context free grammar, and see how we can use it to parse sentences. For this exercise, we'll make use of the module `nltk`. Import the module using the code below:"
      ],
      "metadata": {
        "id": "RduwlrZJWnKe"
      }
    },
    {
      "cell_type": "code",
      "source": [
        "import nltk\n",
        "from nltk.draw.tree import draw_trees"
      ],
      "metadata": {
        "id": "at9naC_oECQi"
      },
      "execution_count": null,
      "outputs": []
    },
    {
      "cell_type": "markdown",
      "source": [
        "Our initial CFG grammar consists of the following rules:\n",
        "\n",
        "```\n",
        "   S -> NP VP\n",
        "   NP -> Det N | N\n",
        "   VP -> V PP | V\n",
        "   PP -> P NP\n",
        "```\n",
        "\n",
        "and the following lexicon:\n",
        "\n",
        "```\n",
        "   N -> \"hamsters\" | \"wheels\" | \"people\" | \"ruins\" | \"building\" | \"children\" |\"ice-cream\" | \"professor\" | \"article\" | \"men\" | \"musketeers\" | \"king\"\n",
        "   V -> \"run\" | \"like\" | \"fell\" | \"writes\" | \"became\" | \"hate\"\n",
        "   P -> \"in\"\n",
        "   Det -> \"all\" | \"many\" | \"some\" | \"every\" | \"each\" | \"an\" | \"three\" | \"one\" | \"the\"\n",
        "```\n",
        "\n",
        "Note that the vertical bar (`|`) denotes a choice, i.e., an `NP` can be rewritten as `Det N` or as `N`. We can load our initial grammar using the following command:"
      ],
      "metadata": {
        "id": "YlchmMF4xuIt"
      }
    },
    {
      "cell_type": "code",
      "source": [
        "grammar = nltk.CFG.fromstring(\"\"\"\n",
        "   S -> NP VP\n",
        "   NP -> Det N | N\n",
        "   VP -> V PP | V\n",
        "   PP -> P NP\n",
        "   N -> \"hamsters\" | \"wheels\" | \"people\" | \"ruins\" | \"building\" | \"children\" |\"ice-cream\" | \"professor\" | \"article\" | \"men\" | \"musketeers\" | \"king\"\n",
        "   V -> \"run\" | \"like\" | \"fell\" | \"writes\" | \"became\" | \"hate\"\n",
        "   P -> \"in\"\n",
        "   Det -> \"all\" | \"many\" | \"some\" | \"every\" | \"each\" | \"an\" | \"three\" | \"one\" | \"the\"\n",
        "   \"\"\")"
      ],
      "metadata": {
        "id": "aRB1A5vax2dA"
      },
      "execution_count": null,
      "outputs": []
    },
    {
      "cell_type": "markdown",
      "source": [
        "We'll equally define a parser, which parses a given input string based on the grammar we defined (and returns all of the possible parses):"
      ],
      "metadata": {
        "id": "C13KC2CTyEB1"
      }
    },
    {
      "cell_type": "code",
      "source": [
        "parser = nltk.ChartParser(grammar)"
      ],
      "metadata": {
        "id": "Cp9FIWwNyHHZ"
      },
      "execution_count": null,
      "outputs": []
    },
    {
      "cell_type": "markdown",
      "source": [
        "We can now use the parser to parse a given input string:"
      ],
      "metadata": {
        "id": "aQYvgwQQyLD4"
      }
    },
    {
      "cell_type": "code",
      "source": [
        "sentence = \"all hamsters run in wheels\".split()\n",
        "for tree in parser.parse(sentence):\n",
        "    print(tree)"
      ],
      "metadata": {
        "id": "BiPRZx6eyKmT",
        "colab": {
          "base_uri": "https://localhost:8080/"
        },
        "outputId": "785e0e93-0b26-4b37-9728-ce82a50124aa"
      },
      "execution_count": null,
      "outputs": [
        {
          "output_type": "stream",
          "name": "stdout",
          "text": [
            "(S\n",
            "  (NP (Det all) (N hamsters))\n",
            "  (VP (V run) (PP (P in) (NP (N wheels)))))\n"
          ]
        }
      ]
    },
    {
      "cell_type": "code",
      "source": [
        "!pip install -q svgling\n",
        "import svgling\n",
        "from IPython.display import display"
      ],
      "metadata": {
        "id": "KMCNRiDayQTY"
      },
      "execution_count": null,
      "outputs": []
    },
    {
      "cell_type": "markdown",
      "source": [
        "We can now visualize the parse tree using the following command:\n"
      ],
      "metadata": {
        "id": "d-DT3OAgyVJy"
      }
    },
    {
      "cell_type": "code",
      "source": [
        "for tree in parser.parse(sentence):\n",
        "    display(svgling.draw_tree(tree))"
      ],
      "metadata": {
        "id": "8DmxRI7QyW1Z",
        "colab": {
          "base_uri": "https://localhost:8080/",
          "height": 285
        },
        "outputId": "a1898fee-58bd-4874-dbd3-f72373f0b2eb"
      },
      "execution_count": null,
      "outputs": [
        {
          "output_type": "display_data",
          "data": {
            "text/plain": [
              "TreeLayout(Tree('S', [Tree('NP', [Tree('Det', ['all']), Tree('N', ['hamsters'])]), Tree('VP', [Tree('V', ['run']), Tree('PP', [Tree('P', ['in']), Tree('NP', [Tree('N', ['wheels'])])])])]))"
            ],
            "image/svg+xml": "<svg baseProfile=\"full\" height=\"264px\" preserveAspectRatio=\"xMidYMid meet\" style=\"font-family: times, serif; font-weight: normal; font-style: normal; font-size: 16px\" version=\"1.1\" viewBox=\"0,0,256.0,264.0\" width=\"256px\" xmlns=\"http://www.w3.org/2000/svg\" xmlns:ev=\"http://www.w3.org/2001/xml-events\" xmlns:xlink=\"http://www.w3.org/1999/xlink\"><defs /><svg width=\"100%\" x=\"0\" y=\"0px\"><defs /><text text-anchor=\"middle\" x=\"50%\" y=\"16px\">S</text></svg><svg width=\"46.875%\" x=\"0%\" y=\"48px\"><defs /><svg width=\"100%\" x=\"0\" y=\"0px\"><defs /><text text-anchor=\"middle\" x=\"50%\" y=\"16px\">NP</text></svg><svg width=\"33.3333%\" x=\"0%\" y=\"48px\"><defs /><svg width=\"100%\" x=\"0\" y=\"0px\"><defs /><text text-anchor=\"middle\" x=\"50%\" y=\"16px\">Det</text></svg><svg width=\"100%\" x=\"0%\" y=\"48px\"><defs /><svg width=\"100%\" x=\"0\" y=\"0px\"><defs /><text text-anchor=\"middle\" x=\"50%\" y=\"16px\">all</text></svg></svg><line stroke=\"black\" x1=\"50%\" x2=\"50%\" y1=\"20px\" y2=\"48px\" /></svg><line stroke=\"black\" x1=\"50%\" x2=\"16.6667%\" y1=\"20px\" y2=\"48px\" /><svg width=\"66.6667%\" x=\"33.3333%\" y=\"48px\"><defs /><svg width=\"100%\" x=\"0\" y=\"0px\"><defs /><text text-anchor=\"middle\" x=\"50%\" y=\"16px\">N</text></svg><svg width=\"100%\" x=\"0%\" y=\"48px\"><defs /><svg width=\"100%\" x=\"0\" y=\"0px\"><defs /><text text-anchor=\"middle\" x=\"50%\" y=\"16px\">hamsters</text></svg></svg><line stroke=\"black\" x1=\"50%\" x2=\"50%\" y1=\"20px\" y2=\"48px\" /></svg><line stroke=\"black\" x1=\"50%\" x2=\"66.6667%\" y1=\"20px\" y2=\"48px\" /></svg><line stroke=\"black\" x1=\"50%\" x2=\"23.4375%\" y1=\"20px\" y2=\"48px\" /><svg width=\"53.125%\" x=\"46.875%\" y=\"48px\"><defs /><svg width=\"100%\" x=\"0\" y=\"0px\"><defs /><text text-anchor=\"middle\" x=\"50%\" y=\"16px\">VP</text></svg><svg width=\"29.4118%\" x=\"0%\" y=\"48px\"><defs /><svg width=\"100%\" x=\"0\" y=\"0px\"><defs /><text text-anchor=\"middle\" x=\"50%\" y=\"16px\">V</text></svg><svg width=\"100%\" x=\"0%\" y=\"48px\"><defs /><svg width=\"100%\" x=\"0\" y=\"0px\"><defs /><text text-anchor=\"middle\" x=\"50%\" y=\"16px\">run</text></svg></svg><line stroke=\"black\" x1=\"50%\" x2=\"50%\" y1=\"20px\" y2=\"48px\" /></svg><line stroke=\"black\" x1=\"50%\" x2=\"14.7059%\" y1=\"20px\" y2=\"48px\" /><svg width=\"70.5882%\" x=\"29.4118%\" y=\"48px\"><defs /><svg width=\"100%\" x=\"0\" y=\"0px\"><defs /><text text-anchor=\"middle\" x=\"50%\" y=\"16px\">PP</text></svg><svg width=\"33.3333%\" x=\"0%\" y=\"48px\"><defs /><svg width=\"100%\" x=\"0\" y=\"0px\"><defs /><text text-anchor=\"middle\" x=\"50%\" y=\"16px\">P</text></svg><svg width=\"100%\" x=\"0%\" y=\"48px\"><defs /><svg width=\"100%\" x=\"0\" y=\"0px\"><defs /><text text-anchor=\"middle\" x=\"50%\" y=\"16px\">in</text></svg></svg><line stroke=\"black\" x1=\"50%\" x2=\"50%\" y1=\"20px\" y2=\"48px\" /></svg><line stroke=\"black\" x1=\"50%\" x2=\"16.6667%\" y1=\"20px\" y2=\"48px\" /><svg width=\"66.6667%\" x=\"33.3333%\" y=\"48px\"><defs /><svg width=\"100%\" x=\"0\" y=\"0px\"><defs /><text text-anchor=\"middle\" x=\"50%\" y=\"16px\">NP</text></svg><svg width=\"100%\" x=\"0%\" y=\"48px\"><defs /><svg width=\"100%\" x=\"0\" y=\"0px\"><defs /><text text-anchor=\"middle\" x=\"50%\" y=\"16px\">N</text></svg><svg width=\"100%\" x=\"0%\" y=\"48px\"><defs /><svg width=\"100%\" x=\"0\" y=\"0px\"><defs /><text text-anchor=\"middle\" x=\"50%\" y=\"16px\">wheels</text></svg></svg><line stroke=\"black\" x1=\"50%\" x2=\"50%\" y1=\"20px\" y2=\"48px\" /></svg><line stroke=\"black\" x1=\"50%\" x2=\"50%\" y1=\"20px\" y2=\"48px\" /></svg><line stroke=\"black\" x1=\"50%\" x2=\"66.6667%\" y1=\"20px\" y2=\"48px\" /></svg><line stroke=\"black\" x1=\"50%\" x2=\"64.7059%\" y1=\"20px\" y2=\"48px\" /></svg><line stroke=\"black\" x1=\"50%\" x2=\"73.4375%\" y1=\"20px\" y2=\"48px\" /></svg>"
          },
          "metadata": {}
        }
      ]
    },
    {
      "cell_type": "markdown",
      "source": [
        "**Exercises:**\n",
        "\n",
        "Consider the following sentences:\n",
        "\n",
        "```\n",
        "    all hamsters run in wheels\n",
        "    many people like linguistics\n",
        "    every building fell in ruins\n",
        "    some children hate ice-cream\n",
        "    each professor writes an article\n",
        "    three men became musketeers\n",
        "    one man became the king\n",
        "```\n",
        "\n",
        "\n",
        " 1. Try to parse these sentences, and make sure they are adequately covered by the grammar. Adapt the grammar when necessary.\n",
        "\n",
        " Note: you can either adapt the grammar in the original code, or you can copy the original code and adapt it in the cell below. In any case, note that you will need to rerun both the command that defines the grammar (`nltk.CFG.fromstring`) and the command that defines the parser (`nltk.ChartParser`) in order to properly load your adapted grammar.\n"
      ],
      "metadata": {
        "id": "jMl3vUE9yi0o"
      }
    },
    {
      "cell_type": "code",
      "source": [
        "# see full grammar below"
      ],
      "metadata": {
        "id": "ufeHQpI7zmCb"
      },
      "execution_count": null,
      "outputs": []
    },
    {
      "cell_type": "markdown",
      "source": [
        " 2. Try parsing the following ungrammatical sentence:\n",
        "\n",
        "```\n",
        "    * many people like\n",
        "```    \n",
        "\n",
        "> How can we mediate the grammar such that it prohibits this kind of ungrammatical sentences?"
      ],
      "metadata": {
        "id": "Ll7Od5dUz1yK"
      }
    },
    {
      "cell_type": "code",
      "source": [
        "grammar = nltk.CFG.fromstring(\"\"\"\n",
        "   S -> NP VP\n",
        "   NP -> Det N | N\n",
        "   VP -> IV | IV PP | TV NP | TV NP PP | DTV NP NP | DTV NP PP |\n",
        "   PP -> P NP\n",
        "   N -> \"hamsters\" | \"wheels\" | \"people\" | \"ruins\" | \"building\" | \"children\" |\"ice-cream\" | \"professor\" | \"article\" | \"men\" | \"musketeers\" | \"king\" | \"linguistics\" | \"man\" | \"letters\" | \"she\" | \"her\"\n",
        "   IV -> \"run\" | \"fell\" |\n",
        "   TV -> \"like\" | \"writes\" | \"became\" | \"hate\"\n",
        "   DTV -> \"writes\"\n",
        "   P -> \"in\" | \"to\"\n",
        "   Det -> \"all\" | \"many\" | \"some\" | \"every\" | \"each\" | \"an\" | \"three\" | \"one\" | \"the\"\n",
        "   \"\"\")\n",
        "\n",
        "parser = nltk.ChartParser(grammar)"
      ],
      "metadata": {
        "id": "_4fEw6TN0Swa"
      },
      "execution_count": null,
      "outputs": []
    },
    {
      "cell_type": "code",
      "source": [
        "sents = \"\"\"\n",
        "    all hamsters run in wheels.\n",
        "    many people like linguistics.\n",
        "    every building fell in ruins.\n",
        "    some children hate ice-cream.\n",
        "    each professor writes an article.\n",
        "    three men became musketeers.\n",
        "    one man became the king.\n",
        "    \"\"\"\n",
        "\n",
        "for sentence in sents.split('.'):\n",
        "  sentence = sentence.split()\n",
        "  for tree in parser.parse(sentence):\n",
        "      print(tree)"
      ],
      "metadata": {
        "colab": {
          "base_uri": "https://localhost:8080/"
        },
        "id": "wlgifqjA8SIa",
        "outputId": "71da97c0-47c7-46f5-bd3c-5764f741a298"
      },
      "execution_count": null,
      "outputs": [
        {
          "output_type": "stream",
          "name": "stdout",
          "text": [
            "(S\n",
            "  (NP (Det all) (N hamsters))\n",
            "  (VP (IV run) (PP (P in) (NP (N wheels)))))\n",
            "(S (NP (Det many) (N people)) (VP (TV like) (NP (N linguistics))))\n",
            "(S\n",
            "  (NP (Det every) (N building))\n",
            "  (VP (IV fell) (PP (P in) (NP (N ruins)))))\n",
            "(S (NP (Det some) (N children)) (VP (TV hate) (NP (N ice-cream))))\n",
            "(S\n",
            "  (NP (Det each) (N professor))\n",
            "  (VP (TV writes) (NP (Det an) (N article))))\n",
            "(S (NP (Det three) (N men)) (VP (TV became) (NP (N musketeers))))\n",
            "(S (NP (Det one) (N man)) (VP (TV became) (NP (Det the) (N king))))\n"
          ]
        }
      ]
    },
    {
      "cell_type": "code",
      "source": [
        "sentence = \"many people like\".split()\n",
        "for tree in parser.parse(sentence):\n",
        "      print(tree)"
      ],
      "metadata": {
        "id": "kiXIEJVm8zt4"
      },
      "execution_count": null,
      "outputs": []
    },
    {
      "cell_type": "markdown",
      "source": [
        "## Ex.2 Graph-based Dependency Parsing\n",
        "\n",
        "(Paper-only exercise)\n",
        "[FOR SOLUTIONS SEE SLIDES PROVIDED ON TOLEDO]"
      ],
      "metadata": {
        "id": "fs-Ttts_D3Yu"
      }
    },
    {
      "cell_type": "markdown",
      "source": [
        "\n",
        "Graph-based dependency parsers search through the space of possible trees for a given sentence for a tree (or trees) that maximises some score. Given a sentence $S$ we start by creating a graph $G$ which is a fully-connected, weighted, directed graph where the vertices are the input words and the directed edges represent all possible head-dependent assignments. We’ll include an additional ROOT node with outgoing edges directed at all of the other vertices. The weights of each edge in G reflect the score for each possible head-dependent relation assigned by some scoring algorithm.\n",
        "\n",
        "The best dependency tree for $S$ is the **maximum spanning tree**, or the tree spanning over graph $G$, starting from the ROOT that is a subset of $G$ and covers all vertices in $G$ which has the maximum score.\n",
        "\n",
        "To find such a tree, we can use the Chu and Liu and Edmonds algorithm (CLE). See a detailed explanation on pages 16 and 17 of Chapter 19 of the SLP textbook.\n",
        "\n"
      ],
      "metadata": {
        "id": "85jKtyvR1MxF"
      }
    },
    {
      "cell_type": "markdown",
      "source": [
        "**Exercise**: Consider the following sentence:\n",
        "> The cat sees the tree with the binoculars.\n",
        "\n",
        "There is an ambiguity in the meaning of the sentence. We will create a dependency parse of this sentence from the following scores given by a model. Use the CLE algorithm to find the maximum spanning tree and find the optimum parse tree for the sentence. Which of the two possible meanings does this parse correspond to?\n",
        "\n",
        "![image](https://github.com/LAGoM-NLP/NLP-data-repo/blob/0943f185400e47225bc8b04a23c07e57528f86e6/tree.png?raw=true)\n",
        "\n"
      ],
      "metadata": {
        "id": "JlzdgYdiMr28"
      }
    },
    {
      "cell_type": "markdown",
      "source": [
        "If you are interested in learning about how to implement neural models that can be used to obtain the edge scores above, see this tutorial on biaffine graph-based dependency parsing: https://www.cse.chalmers.se/~richajo/nlp2019/l7/Biaffine%20dependency%20parsing.html"
      ],
      "metadata": {
        "id": "y7S4rtHXA-aE"
      }
    },
    {
      "cell_type": "markdown",
      "source": [
        "## Ex.3 Using spaCy\n",
        "\n",
        "In this exercise we will introduce the spaCy library that is designed to implement natural language processing pipelines. It can be used to preprocess text with sentence segmentation, tokenization, lemmatization (as we have seen in earlier exercises). It is also very efficient in carrying out simple NLP tasks like POS tagging, NER, and dependency parsing. Let's install and import the package:"
      ],
      "metadata": {
        "id": "_i-WdS_u0jnv"
      }
    },
    {
      "cell_type": "code",
      "source": [
        "!pip install -q spacy\n",
        "import spacy"
      ],
      "metadata": {
        "id": "JH4hWmBX0ldA"
      },
      "execution_count": null,
      "outputs": []
    },
    {
      "cell_type": "markdown",
      "source": [
        "We will use spaCy to preprocess some English text (although it is available in many other languages). The library contains many trained models that have to be loaded before we can process anything. Let's load a model for English (you can also try others in : https://spacy.io/models/en):"
      ],
      "metadata": {
        "id": "J_Bh5t276a55"
      }
    },
    {
      "cell_type": "code",
      "source": [
        "nlp = spacy.load(\"en_core_web_sm\")"
      ],
      "metadata": {
        "id": "wb35Q08i6sEx"
      },
      "execution_count": null,
      "outputs": []
    },
    {
      "cell_type": "markdown",
      "source": [
        "We can now process a string of characters using Spacy's preprocessing pipeline. The code below first puts a text string in the variable `text`; this string is then processed by Spacy's pipeline, such that the variable `doc` contains the text augmented with Spacy's annotations."
      ],
      "metadata": {
        "id": "_ezkn_uF7SwE"
      }
    },
    {
      "cell_type": "code",
      "source": [
        "text = \"The cat sees the tree with the binoculars.\"\n",
        "doc = nlp(text)\n",
        "print(doc)\n",
        "for token in doc:\n",
        "  print(token.text, token.lemma_, token.pos_)"
      ],
      "metadata": {
        "id": "NZU66PG37T8z",
        "collapsed": true,
        "colab": {
          "base_uri": "https://localhost:8080/"
        },
        "outputId": "1e5ff3fc-178e-4eb1-98f3-e81f58c4db73"
      },
      "execution_count": null,
      "outputs": [
        {
          "output_type": "stream",
          "name": "stdout",
          "text": [
            "The cat sees the tree with the binoculars.\n",
            "The the DET\n",
            "cat cat NOUN\n",
            "sees see VERB\n",
            "the the DET\n",
            "tree tree NOUN\n",
            "with with ADP\n",
            "the the DET\n",
            "binoculars binocular NOUN\n",
            ". . PUNCT\n"
          ]
        }
      ]
    },
    {
      "cell_type": "markdown",
      "source": [
        "### Morphological Analysis\n",
        "\n",
        "The spaCy module can be very useful for morphological analyses of text.\n",
        "\n",
        "[Universal Dependencies (UD)](https://universaldependencies.org/) is a project for creating universal and comparable gold standard treebanks across languages. UD contains consistent linguistic annotations such as parts of speech, syntactic dependencies and morphological features. It has enabled much cross-lingual and multilingual NLP research.\n",
        "UD contains sentences annotated with morphological tags that can be used for morphological analyses. We invite you to go through the [UD annotation guidelines](https://universaldependencies.org/u/overview/morphology.html) for morphologial annotations to understand what they look like. We will learn how to use these annotations with spaCy (based on https://spacy.io/usage/linguistic-features#morphology).\n",
        "\n"
      ],
      "metadata": {
        "id": "dqmcJM6uNHu6"
      }
    },
    {
      "cell_type": "code",
      "source": [
        "for token in doc:\n",
        "  print(token, token.morph)"
      ],
      "metadata": {
        "id": "mG6sQ5v-Ejda",
        "colab": {
          "base_uri": "https://localhost:8080/"
        },
        "outputId": "110c4edb-e745-49e5-80c3-b595b208e788"
      },
      "execution_count": null,
      "outputs": [
        {
          "output_type": "stream",
          "name": "stdout",
          "text": [
            "The Definite=Def|PronType=Art\n",
            "cat Number=Sing\n",
            "sees Number=Sing|Person=3|Tense=Pres|VerbForm=Fin\n",
            "the Definite=Def|PronType=Art\n",
            "tree Number=Sing\n",
            "with \n",
            "the Definite=Def|PronType=Art\n",
            "binoculars Number=Plur\n",
            ". PunctType=Peri\n"
          ]
        }
      ]
    },
    {
      "cell_type": "code",
      "source": [
        "doc[0].morph.get('PronType') #get the 'PronType' for the 1st element in doc"
      ],
      "metadata": {
        "id": "5sCiOMVoF0tA",
        "colab": {
          "base_uri": "https://localhost:8080/"
        },
        "outputId": "40389cf7-6376-42cd-d6da-5570670f700d"
      },
      "execution_count": null,
      "outputs": [
        {
          "output_type": "execute_result",
          "data": {
            "text/plain": [
              "['Art']"
            ]
          },
          "metadata": {},
          "execution_count": 114
        }
      ]
    },
    {
      "cell_type": "markdown",
      "source": [
        "The [Morphologizer](https://spacy.io/api/morphologizer) is the pipeline component of spaCy that handles morphological tagging. It is trainable, which means that you can train it on your own morphologically tagged dataset to create your own custom morphological analyser. You can explore the documentation linked here for details if interested."
      ],
      "metadata": {
        "id": "aYsxbREj9yGW"
      }
    },
    {
      "cell_type": "markdown",
      "source": [
        "### Dependency Parsing\n",
        "\n"
      ],
      "metadata": {
        "id": "tsbCuX5DOlaI"
      }
    },
    {
      "cell_type": "markdown",
      "source": [
        "The spaCy module also contains a dependency parsing component that applies a transition-based parser to its trained statistical and neural models to generate dependency annotations. They can be accessed as follows:"
      ],
      "metadata": {
        "id": "qcgYuj994r1j"
      }
    },
    {
      "cell_type": "code",
      "source": [
        "for token in doc:\n",
        "  print(token.text, token.pos_, '<-', token.head, token.head.pos_, '(', token.dep_, ')', '| children: ',[child for child in token.children])"
      ],
      "metadata": {
        "id": "Af-MxdGCOnTQ",
        "colab": {
          "base_uri": "https://localhost:8080/"
        },
        "outputId": "05985c41-81bf-4f4f-ce6c-681214666f6a"
      },
      "execution_count": null,
      "outputs": [
        {
          "output_type": "stream",
          "name": "stdout",
          "text": [
            "The DET <- cat NOUN ( det ) | children:  []\n",
            "cat NOUN <- sees VERB ( nsubj ) | children:  [The]\n",
            "sees VERB <- sees VERB ( ROOT ) | children:  [cat, tree, with, .]\n",
            "the DET <- tree NOUN ( det ) | children:  []\n",
            "tree NOUN <- sees VERB ( dobj ) | children:  [the]\n",
            "with ADP <- sees VERB ( prep ) | children:  [binoculars]\n",
            "the DET <- binoculars NOUN ( det ) | children:  []\n",
            "binoculars NOUN <- with ADP ( pobj ) | children:  [the]\n",
            ". PUNCT <- sees VERB ( punct ) | children:  []\n"
          ]
        }
      ]
    },
    {
      "cell_type": "markdown",
      "source": [
        "You can use the `.explain` method to understand what each tag means:"
      ],
      "metadata": {
        "id": "TLUXI15D_vKQ"
      }
    },
    {
      "cell_type": "code",
      "source": [
        "spacy.explain('PRP$')"
      ],
      "metadata": {
        "id": "h9X0u---YDPw",
        "colab": {
          "base_uri": "https://localhost:8080/",
          "height": 35
        },
        "outputId": "1e5d681b-ddc1-4952-f4fa-a2985be28844"
      },
      "execution_count": null,
      "outputs": [
        {
          "output_type": "execute_result",
          "data": {
            "text/plain": [
              "'pronoun, possessive'"
            ],
            "application/vnd.google.colaboratory.intrinsic+json": {
              "type": "string"
            }
          },
          "metadata": {},
          "execution_count": 116
        }
      ]
    },
    {
      "cell_type": "markdown",
      "source": [
        "You can also visualise your dependency tree in a more human-readable format:"
      ],
      "metadata": {
        "id": "DRUHCixf_5Nb"
      }
    },
    {
      "cell_type": "code",
      "source": [
        "from spacy import displacy"
      ],
      "metadata": {
        "id": "mM6HAH-gXVpC"
      },
      "execution_count": null,
      "outputs": []
    },
    {
      "cell_type": "code",
      "source": [
        "displacy.render(doc, style = 'dep', jupyter = True, options = {'distance': 90})"
      ],
      "metadata": {
        "id": "OKJQ4qIpXert",
        "colab": {
          "base_uri": "https://localhost:8080/",
          "height": 293
        },
        "outputId": "99b68bcc-7297-43f6-8fa1-eeae301c2e0c"
      },
      "execution_count": null,
      "outputs": [
        {
          "output_type": "display_data",
          "data": {
            "text/plain": [
              "<IPython.core.display.HTML object>"
            ],
            "text/html": [
              "<span class=\"tex2jax_ignore\"><svg xmlns=\"http://www.w3.org/2000/svg\" xmlns:xlink=\"http://www.w3.org/1999/xlink\" xml:lang=\"en\" id=\"02c65a20351545ac9ef6c9fd0badb1c9-0\" class=\"displacy\" width=\"770\" height=\"272.0\" direction=\"ltr\" style=\"max-width: none; height: 272.0px; color: #000000; background: #ffffff; font-family: Arial; direction: ltr\">\n",
              "<text class=\"displacy-token\" fill=\"currentColor\" text-anchor=\"middle\" y=\"182.0\">\n",
              "    <tspan class=\"displacy-word\" fill=\"currentColor\" x=\"50\">The</tspan>\n",
              "    <tspan class=\"displacy-tag\" dy=\"2em\" fill=\"currentColor\" x=\"50\">DET</tspan>\n",
              "</text>\n",
              "\n",
              "<text class=\"displacy-token\" fill=\"currentColor\" text-anchor=\"middle\" y=\"182.0\">\n",
              "    <tspan class=\"displacy-word\" fill=\"currentColor\" x=\"140\">cat</tspan>\n",
              "    <tspan class=\"displacy-tag\" dy=\"2em\" fill=\"currentColor\" x=\"140\">NOUN</tspan>\n",
              "</text>\n",
              "\n",
              "<text class=\"displacy-token\" fill=\"currentColor\" text-anchor=\"middle\" y=\"182.0\">\n",
              "    <tspan class=\"displacy-word\" fill=\"currentColor\" x=\"230\">sees</tspan>\n",
              "    <tspan class=\"displacy-tag\" dy=\"2em\" fill=\"currentColor\" x=\"230\">VERB</tspan>\n",
              "</text>\n",
              "\n",
              "<text class=\"displacy-token\" fill=\"currentColor\" text-anchor=\"middle\" y=\"182.0\">\n",
              "    <tspan class=\"displacy-word\" fill=\"currentColor\" x=\"320\">the</tspan>\n",
              "    <tspan class=\"displacy-tag\" dy=\"2em\" fill=\"currentColor\" x=\"320\">DET</tspan>\n",
              "</text>\n",
              "\n",
              "<text class=\"displacy-token\" fill=\"currentColor\" text-anchor=\"middle\" y=\"182.0\">\n",
              "    <tspan class=\"displacy-word\" fill=\"currentColor\" x=\"410\">tree</tspan>\n",
              "    <tspan class=\"displacy-tag\" dy=\"2em\" fill=\"currentColor\" x=\"410\">NOUN</tspan>\n",
              "</text>\n",
              "\n",
              "<text class=\"displacy-token\" fill=\"currentColor\" text-anchor=\"middle\" y=\"182.0\">\n",
              "    <tspan class=\"displacy-word\" fill=\"currentColor\" x=\"500\">with</tspan>\n",
              "    <tspan class=\"displacy-tag\" dy=\"2em\" fill=\"currentColor\" x=\"500\">ADP</tspan>\n",
              "</text>\n",
              "\n",
              "<text class=\"displacy-token\" fill=\"currentColor\" text-anchor=\"middle\" y=\"182.0\">\n",
              "    <tspan class=\"displacy-word\" fill=\"currentColor\" x=\"590\">the</tspan>\n",
              "    <tspan class=\"displacy-tag\" dy=\"2em\" fill=\"currentColor\" x=\"590\">DET</tspan>\n",
              "</text>\n",
              "\n",
              "<text class=\"displacy-token\" fill=\"currentColor\" text-anchor=\"middle\" y=\"182.0\">\n",
              "    <tspan class=\"displacy-word\" fill=\"currentColor\" x=\"680\">binoculars.</tspan>\n",
              "    <tspan class=\"displacy-tag\" dy=\"2em\" fill=\"currentColor\" x=\"680\">NOUN</tspan>\n",
              "</text>\n",
              "\n",
              "<g class=\"displacy-arrow\">\n",
              "    <path class=\"displacy-arc\" id=\"arrow-02c65a20351545ac9ef6c9fd0badb1c9-0-0\" stroke-width=\"2px\" d=\"M70,137.0 C70,92.0 130.0,92.0 130.0,137.0\" fill=\"none\" stroke=\"currentColor\"/>\n",
              "    <text dy=\"1.25em\" style=\"font-size: 0.8em; letter-spacing: 1px\">\n",
              "        <textPath xlink:href=\"#arrow-02c65a20351545ac9ef6c9fd0badb1c9-0-0\" class=\"displacy-label\" startOffset=\"50%\" side=\"left\" fill=\"currentColor\" text-anchor=\"middle\">det</textPath>\n",
              "    </text>\n",
              "    <path class=\"displacy-arrowhead\" d=\"M70,139.0 L62,127.0 78,127.0\" fill=\"currentColor\"/>\n",
              "</g>\n",
              "\n",
              "<g class=\"displacy-arrow\">\n",
              "    <path class=\"displacy-arc\" id=\"arrow-02c65a20351545ac9ef6c9fd0badb1c9-0-1\" stroke-width=\"2px\" d=\"M160,137.0 C160,92.0 220.0,92.0 220.0,137.0\" fill=\"none\" stroke=\"currentColor\"/>\n",
              "    <text dy=\"1.25em\" style=\"font-size: 0.8em; letter-spacing: 1px\">\n",
              "        <textPath xlink:href=\"#arrow-02c65a20351545ac9ef6c9fd0badb1c9-0-1\" class=\"displacy-label\" startOffset=\"50%\" side=\"left\" fill=\"currentColor\" text-anchor=\"middle\">nsubj</textPath>\n",
              "    </text>\n",
              "    <path class=\"displacy-arrowhead\" d=\"M160,139.0 L152,127.0 168,127.0\" fill=\"currentColor\"/>\n",
              "</g>\n",
              "\n",
              "<g class=\"displacy-arrow\">\n",
              "    <path class=\"displacy-arc\" id=\"arrow-02c65a20351545ac9ef6c9fd0badb1c9-0-2\" stroke-width=\"2px\" d=\"M340,137.0 C340,92.0 400.0,92.0 400.0,137.0\" fill=\"none\" stroke=\"currentColor\"/>\n",
              "    <text dy=\"1.25em\" style=\"font-size: 0.8em; letter-spacing: 1px\">\n",
              "        <textPath xlink:href=\"#arrow-02c65a20351545ac9ef6c9fd0badb1c9-0-2\" class=\"displacy-label\" startOffset=\"50%\" side=\"left\" fill=\"currentColor\" text-anchor=\"middle\">det</textPath>\n",
              "    </text>\n",
              "    <path class=\"displacy-arrowhead\" d=\"M340,139.0 L332,127.0 348,127.0\" fill=\"currentColor\"/>\n",
              "</g>\n",
              "\n",
              "<g class=\"displacy-arrow\">\n",
              "    <path class=\"displacy-arc\" id=\"arrow-02c65a20351545ac9ef6c9fd0badb1c9-0-3\" stroke-width=\"2px\" d=\"M250,137.0 C250,47.0 405.0,47.0 405.0,137.0\" fill=\"none\" stroke=\"currentColor\"/>\n",
              "    <text dy=\"1.25em\" style=\"font-size: 0.8em; letter-spacing: 1px\">\n",
              "        <textPath xlink:href=\"#arrow-02c65a20351545ac9ef6c9fd0badb1c9-0-3\" class=\"displacy-label\" startOffset=\"50%\" side=\"left\" fill=\"currentColor\" text-anchor=\"middle\">dobj</textPath>\n",
              "    </text>\n",
              "    <path class=\"displacy-arrowhead\" d=\"M405.0,139.0 L413.0,127.0 397.0,127.0\" fill=\"currentColor\"/>\n",
              "</g>\n",
              "\n",
              "<g class=\"displacy-arrow\">\n",
              "    <path class=\"displacy-arc\" id=\"arrow-02c65a20351545ac9ef6c9fd0badb1c9-0-4\" stroke-width=\"2px\" d=\"M250,137.0 C250,2.0 500.0,2.0 500.0,137.0\" fill=\"none\" stroke=\"currentColor\"/>\n",
              "    <text dy=\"1.25em\" style=\"font-size: 0.8em; letter-spacing: 1px\">\n",
              "        <textPath xlink:href=\"#arrow-02c65a20351545ac9ef6c9fd0badb1c9-0-4\" class=\"displacy-label\" startOffset=\"50%\" side=\"left\" fill=\"currentColor\" text-anchor=\"middle\">prep</textPath>\n",
              "    </text>\n",
              "    <path class=\"displacy-arrowhead\" d=\"M500.0,139.0 L508.0,127.0 492.0,127.0\" fill=\"currentColor\"/>\n",
              "</g>\n",
              "\n",
              "<g class=\"displacy-arrow\">\n",
              "    <path class=\"displacy-arc\" id=\"arrow-02c65a20351545ac9ef6c9fd0badb1c9-0-5\" stroke-width=\"2px\" d=\"M610,137.0 C610,92.0 670.0,92.0 670.0,137.0\" fill=\"none\" stroke=\"currentColor\"/>\n",
              "    <text dy=\"1.25em\" style=\"font-size: 0.8em; letter-spacing: 1px\">\n",
              "        <textPath xlink:href=\"#arrow-02c65a20351545ac9ef6c9fd0badb1c9-0-5\" class=\"displacy-label\" startOffset=\"50%\" side=\"left\" fill=\"currentColor\" text-anchor=\"middle\">det</textPath>\n",
              "    </text>\n",
              "    <path class=\"displacy-arrowhead\" d=\"M610,139.0 L602,127.0 618,127.0\" fill=\"currentColor\"/>\n",
              "</g>\n",
              "\n",
              "<g class=\"displacy-arrow\">\n",
              "    <path class=\"displacy-arc\" id=\"arrow-02c65a20351545ac9ef6c9fd0badb1c9-0-6\" stroke-width=\"2px\" d=\"M520,137.0 C520,47.0 675.0,47.0 675.0,137.0\" fill=\"none\" stroke=\"currentColor\"/>\n",
              "    <text dy=\"1.25em\" style=\"font-size: 0.8em; letter-spacing: 1px\">\n",
              "        <textPath xlink:href=\"#arrow-02c65a20351545ac9ef6c9fd0badb1c9-0-6\" class=\"displacy-label\" startOffset=\"50%\" side=\"left\" fill=\"currentColor\" text-anchor=\"middle\">pobj</textPath>\n",
              "    </text>\n",
              "    <path class=\"displacy-arrowhead\" d=\"M675.0,139.0 L683.0,127.0 667.0,127.0\" fill=\"currentColor\"/>\n",
              "</g>\n",
              "</svg></span>"
            ]
          },
          "metadata": {}
        }
      ]
    },
    {
      "cell_type": "markdown",
      "source": [
        "Each word can have only one head (only a single arrow can arrive at a word), but a word can have multiple dependents (multiple arrows can start from a word). The root of the sentence (the main verb) does not have a head.\n",
        "\n",
        "You can use the syntactic annotation in order to search for syntactic constructions of interest. As an example, the code below finds nouns together with their determiners:"
      ],
      "metadata": {
        "id": "DzYEqGl2AD5I"
      }
    },
    {
      "cell_type": "code",
      "source": [
        "det_nouns = []\n",
        "for candidate in doc:\n",
        "    if candidate.dep_ == 'det' and candidate.head.pos_ == 'NOUN':\n",
        "        det_nouns.append((candidate, candidate.head))\n",
        "print(det_nouns)"
      ],
      "metadata": {
        "id": "oLWmB9OPXgT_",
        "colab": {
          "base_uri": "https://localhost:8080/"
        },
        "outputId": "adfa8893-6424-4a21-cb1e-49beec92460a"
      },
      "execution_count": null,
      "outputs": [
        {
          "output_type": "stream",
          "name": "stdout",
          "text": [
            "[(The, cat), (the, tree), (the, binoculars)]\n"
          ]
        }
      ]
    },
    {
      "cell_type": "markdown",
      "source": [
        "**Exercise**: Load the dev set (en_ewt-ud-dev.conllu) of the [UD_English-EWT](https://github.com/UniversalDependencies/UD_English-EWT/tree/master) treebank and process the examples in spaCy.\n",
        ">`!git clone https://github.com/UniversalDependencies/UD_English-EWT.git`\n",
        "\n",
        "Tip: You can use the `pyconll` package (https://pyconll.readthedocs.io/en/latest/starting.html) to easily load and process conllu files.\n",
        "\n",
        "Use the acquired annotations to find:\n",
        ">a. All possible combinations of verbs and subjects in the data. Only extract the verb and the head noun of the subject. For example, in the sentence *the dog of the neighbours sleeps*, extract the tuple *(dog, sleeps)*.\n",
        "\n",
        ">b. All instances where the ROOT of the sentence is not a verb.\n",
        "\n",
        ">c. All combinations of verbs and adjectives in the data, where the adjective appears as modifier to the subject of the verb. As an example, in the sentence *the white dog sleeps*, extract the tuple *(white, sleeps)*.\n",
        "\n",
        "Try the different English models available in the spaCy pipeline to get dependency parse trees for the same sentences. Do you see a difference?\n",
        "\n",
        "OPTIONAL: If you speak another language, you can also try running a similar pipeline for a treebank from another language. Simply load a model for that language from https://spacy.io/models using `spacy.load()`. Links to all UD treebanks are in https://universaldependencies.org/."
      ],
      "metadata": {
        "id": "r6n-ngW2BML_"
      }
    },
    {
      "cell_type": "code",
      "source": [
        "!pip install pyconll"
      ],
      "metadata": {
        "id": "R6Ycid2Rc7w7",
        "colab": {
          "base_uri": "https://localhost:8080/"
        },
        "outputId": "257c7bba-63a2-43dd-dfb0-88827dc6c43d"
      },
      "execution_count": null,
      "outputs": [
        {
          "output_type": "stream",
          "name": "stdout",
          "text": [
            "Collecting pyconll\n",
            "  Downloading pyconll-3.2.0-py3-none-any.whl.metadata (8.0 kB)\n",
            "Downloading pyconll-3.2.0-py3-none-any.whl (27 kB)\n",
            "Installing collected packages: pyconll\n",
            "Successfully installed pyconll-3.2.0\n"
          ]
        }
      ]
    },
    {
      "cell_type": "code",
      "source": [
        "!git clone https://github.com/UniversalDependencies/UD_English-EWT.git"
      ],
      "metadata": {
        "colab": {
          "base_uri": "https://localhost:8080/"
        },
        "id": "ZRaYR5uh-nfu",
        "outputId": "a70bc476-e3da-46aa-cb21-bb4dfd90ee87"
      },
      "execution_count": null,
      "outputs": [
        {
          "output_type": "stream",
          "name": "stdout",
          "text": [
            "Cloning into 'UD_English-EWT'...\n",
            "remote: Enumerating objects: 45788, done.\u001b[K\n",
            "remote: Counting objects: 100% (16575/16575), done.\u001b[K\n",
            "remote: Compressing objects: 100% (2879/2879), done.\u001b[K\n",
            "remote: Total 45788 (delta 14577), reused 15278 (delta 13695), pack-reused 29213 (from 1)\u001b[K\n",
            "Receiving objects: 100% (45788/45788), 340.62 MiB | 23.37 MiB/s, done.\n",
            "Resolving deltas: 100% (40712/40712), done.\n"
          ]
        }
      ]
    },
    {
      "cell_type": "code",
      "source": [
        "import pyconll"
      ],
      "metadata": {
        "id": "q3hllatVEK1o"
      },
      "execution_count": null,
      "outputs": []
    },
    {
      "cell_type": "code",
      "source": [
        "conll = pyconll.load_from_file(\"UD_English-EWT/en_ewt-ud-dev.conllu\")\n",
        "parses = []\n",
        "for sent in conll:\n",
        "    text = sent.text\n",
        "    doc = nlp(text)\n",
        "    parses.append(doc)"
      ],
      "metadata": {
        "collapsed": true,
        "id": "rxkLa3NM-r1F"
      },
      "execution_count": null,
      "outputs": []
    },
    {
      "cell_type": "code",
      "source": [
        "tags = []\n",
        "deps = []\n",
        "for parse in parses:\n",
        "  for token in parse:\n",
        "    tags.append(token.pos_)\n",
        "    deps.append(token.dep_)"
      ],
      "metadata": {
        "id": "fw9OaquIHW8x"
      },
      "execution_count": null,
      "outputs": []
    },
    {
      "cell_type": "code",
      "source": [
        "print(set(tags)) # get the names of the POS tags"
      ],
      "metadata": {
        "colab": {
          "base_uri": "https://localhost:8080/"
        },
        "id": "actosLgUHvgA",
        "outputId": "2355b268-3a8a-40ff-f9d8-18e5e9162feb"
      },
      "execution_count": null,
      "outputs": [
        {
          "output_type": "stream",
          "name": "stdout",
          "text": [
            "{'NUM', 'ADJ', 'VERB', 'AUX', 'ADV', 'X', 'INTJ', 'PRON', 'NOUN', 'CCONJ', 'SCONJ', 'PROPN', 'ADP', 'PART', 'SYM', 'DET', 'PUNCT'}\n"
          ]
        }
      ]
    },
    {
      "cell_type": "code",
      "source": [
        "print(set(deps)) # get the names of the dependency labels"
      ],
      "metadata": {
        "colab": {
          "base_uri": "https://localhost:8080/"
        },
        "id": "g8iIm-icHx4P",
        "outputId": "74f2817b-65c5-4424-cd74-32fca7577686"
      },
      "execution_count": null,
      "outputs": [
        {
          "output_type": "stream",
          "name": "stdout",
          "text": [
            "{'oprd', 'acl', 'dep', 'advmod', 'punct', 'conj', 'csubj', 'advcl', 'attr', 'amod', 'ccomp', 'neg', 'dobj', 'nsubjpass', 'cc', 'pobj', 'preconj', 'agent', 'nmod', 'predet', 'nsubj', 'mark', 'ROOT', 'appos', 'prt', 'xcomp', 'case', 'det', 'expl', 'parataxis', 'relcl', 'meta', 'auxpass', 'prep', 'intj', 'nummod', 'compound', 'acomp', 'quantmod', 'npadvmod', 'aux', 'poss', 'dative', 'pcomp'}\n"
          ]
        }
      ]
    },
    {
      "cell_type": "code",
      "source": [
        "verb_subj = []\n",
        "roots_not_verbs = []\n",
        "adj_subj = []\n",
        "\n",
        "for parse in parses:\n",
        "  for token in parse:\n",
        "    if token.pos_ == 'VERB':\n",
        "      if token.head.dep_ == 'nsubj':\n",
        "        verb_subj.append((token, token.head))\n",
        "    if token.dep_ == 'ROOT':\n",
        "      if token.tag != 'VERB':\n",
        "        roots_not_verbs.append(parse)\n",
        "    if token.dep_ == 'amod':\n",
        "      if token.head.dep_ == 'nsubj':\n",
        "        adj_subj.append((token, token.head.head))"
      ],
      "metadata": {
        "id": "aNvEYoeXE_lh"
      },
      "execution_count": null,
      "outputs": []
    },
    {
      "cell_type": "code",
      "source": [
        "verb_subj"
      ],
      "metadata": {
        "colab": {
          "base_uri": "https://localhost:8080/"
        },
        "id": "PEDCj6sdKUtU",
        "outputId": "3a0f37ed-260b-4f20-d909-d6f7bf51f4cc"
      },
      "execution_count": null,
      "outputs": [
        {
          "output_type": "execute_result",
          "data": {
            "text/plain": [
              "[(stated, goals),\n",
              " (driven, strategy),\n",
              " (gives, strategy),\n",
              " (festering, struggle),\n",
              " (attracted, customers),\n",
              " (has, Sources),\n",
              " (do, weapons),\n",
              " (married, tip),\n",
              " (guess, book),\n",
              " (makes, move),\n",
              " (provoke, decision),\n",
              " (goes, decision),\n",
              " (acting, premise),\n",
              " (See, file),\n",
              " (attached, file),\n",
              " (moving, Heather),\n",
              " (hear, Glad),\n",
              " (seek, all),\n",
              " (want, All),\n",
              " (find, agreement),\n",
              " (have, All),\n",
              " (wearing, women),\n",
              " (get, nothing),\n",
              " (filed, complaint),\n",
              " (doing, thing),\n",
              " (do, things),\n",
              " (like, one),\n",
              " (called, tune),\n",
              " (remember, line),\n",
              " (living, foreigner),\n",
              " (got, year),\n",
              " (see, sights),\n",
              " (see, sights),\n",
              " (have, packages),\n",
              " (m, pizza),\n",
              " (answered, boy),\n",
              " (go, reason),\n",
              " (guessing, guy),\n",
              " (adding, Thought),\n",
              " (botched, repair),\n",
              " (say, All)]"
            ]
          },
          "metadata": {},
          "execution_count": 126
        }
      ]
    },
    {
      "cell_type": "code",
      "source": [
        "roots_not_verbs"
      ],
      "metadata": {
        "colab": {
          "base_uri": "https://localhost:8080/"
        },
        "id": "D6jrnLAQKXHf",
        "outputId": "7fcdf551-c7de-4719-e3b5-f81d87d5f1ae"
      },
      "execution_count": null,
      "outputs": [
        {
          "output_type": "execute_result",
          "data": {
            "text/plain": [
              "[From the AP comes this story :,\n",
              " President Bush on Tuesday nominated two individuals to replace retiring jurists on federal courts in the Washington area.,\n",
              " Bush nominated Jennifer M. Anderson for a 15-year term as associate judge of the Superior Court of the District of Columbia, replacing Steffen W. Graae.,\n",
              " ***,\n",
              " Bush also nominated A. Noel Anketell Kramer for a 15-year term as associate judge of the District of Columbia Court of Appeals, replacing John Montague Steadman.,\n",
              " The sheikh in wheel-chair has been attacked with a F-16-launched bomb.,\n",
              " He could be killed years ago and the israelians have all the reasons, since he founded and he is the spiritual leader of Hamas, but they didn't.,\n",
              " Today's incident proves that Sharon has lost his patience and his hope in peace.,\n",
              " Nervous people make mistakes, so I suppose there will be a wave of succesfull arab attacks.,\n",
              " A la guerre c'est comme a la guerre!,\n",
              " In the eastern city of Baqubah, guerrillas detonated a car bomb outside a police station, killing several people.,\n",
              " The US lost yet another helicopter to hostile fire near Habbaniyah in the Sunni heartland, but this time the crew was safe.,\n",
              " In Fallujah, hundreds of demonstrators came out against US troops when they briefly arrested a yound newlywed bride.,\n",
              " (I hope that the US army got an enormous amount of information from her relatives, because otherwise this move was a bad, bad tradeoff).,\n",
              " The US troops fired into the hostile crowd, killing 4.,\n",
              " It seems clear to me that the manhunt for high Baath officials in the Sunni heartland is being done wrong, or at least in ways that are bad for US standing with local Iraqis.,\n",
              " Google has finally had an analyst day -- a chance to present the company's story to the (miniscule number of) people who haven't heard it.,\n",
              " Usually, these are just a chance for the suckups to suck up, but this time people are actually concerned about the company's plans.,\n",
              " They work on Wall Street, after all, so when they hear a company who's stated goals include \"Don't be evil,\" they imagine a company who's eventually history will be \"Don't be profitable.\",\n",
              " It's not quite as freewheeling an environment as you'd imagine: Sergey Brin has actually created a mathematical 'proof' that the company's self-driven research strategy, which gives employees one day a week to do research projects on their own, is a good, respectable idea .,\n",
              " Read the entire article; there's a punchline, too.,\n",
              " My opinion piece on the implications of Arafat's passing for al-Qaeda has appeared at Newsday.,\n",
              " Excerpt:,\n",
              " \"Arafat's secular nationalism was supple enough to compromise with Israel and to imagine a two-state solution, even if the road of negotiations remained rocky.,\n",
              " The continued Israeli colonization of the occupied Palestinian territories during the 1990s helped, along with terrorist attacks by radical groups such as Hamas, to derail the peace process, which Sharon had always opposed.,\n",
              " Arafat's death creates a vacuum in Palestinian leadership that will not soon be filled.,\n",
              " Sharon's assassination of major Hamas leaders has also weakened authority structures in that party.,\n",
              " If the Israelis and the Palestinian leadership cannot find a way to reinvigorate the peace process, cells of radical young Palestinians may grow up that look to bin Laden for their cues.,\n",
              " Even if local Palestinian leaders remain strong enough to keep al-Qaida out, the festering Israeli-Palestinian struggle remains among the best recruiting posters for al-Qaida with young Muslim men.,\n",
              " Resolving this conflict would be the most effective weapon the United States could deploy in its war on terror.\",\n",
              " Xinhua reports that a wide range of Iraqi political forces on Tuesday condemned Sharon's murder of Sheikh Ahmed Yassin, a religious leader of Hamas, the day before.,\n",
              " The Board of Muslim clerics in Fallujah, 50 km west of Baghdad, \"condemned the assassination and promised immediate revenge against the coalition soldiers in Iraq.\",\n",
              " Ash-Sharq al-Awsat reports that Fallujah was closed Tuesday in a general strike.,\n",
              " US troops there clashed with guerrillas in a fight that left one Iraqi dead.,\n",
              " In Ramadi, there was a big demonstration.,\n",
              " Radical Shiite cleric Muqtada al-Sadr said the attack was \"criminal\" and that \"the Zionists have left only one choice for the Arabs, that of fighting and jihad\".,\n",
              " The interim Governing Council issued a communique saying, \"It is a proof of the emptiness of the Israeli authority and a destruction of the peace endeavors in the region . . .,\n",
              " This operation would only consolidate the terrorist acts in the world and would not bring peace to the region,\" the message claimed.,\n",
              " Xinhua alleged that \"Many of the Iraqis, who suffer the American occupation of Iraq, relate their case with that of the Palestinian people, under the Israeli occupation.\",\n",
              " In an apparently unrelated incidents, some eleven Iraqis were killed by snipers on Tuesday, including a group of police trainees in a bus near Hilla and two police in Kirkuk.,\n",
              " Ever since the first whispers about Google's IPO, most investors have feared that the stock would come public at such a ridiculously high price that, even with a spectacularly profitable business model and some nearly flawless execution, the price would be too high for investors to make a real profit.,\n",
              " We've moved on.,\n",
              " We've grown up.,\n",
              " Now, people wonder if Google can even survive .,\n",
              " That's overstating it, I know.,\n",
              " What they wonder is whether Google can be anything more than what it's always been -- a great search engine with some real grass-roots support, successful by the grace of simplicity.,\n",
              " Simplicity gave it that blessed, laudatory lack of clutter, the efficient and effective text-based ads, and the support of anyone with a dial-up connection.,\n",
              " The problem is that customers attracted by a simple interface are among the least loyal you can find -- witness the fight-for-fewest-features between low-end camera companies.,\n",
              " The other problem?,\n",
              " It's tough to make money branching out when your appeal is in your focus.,\n",
              " As the survey cited in the above-linked article shows, most Google users don't intend to use Gmail, and Google isn't even as popular as Yahoo! and AOL.,\n",
              " If they continue to add features so they can justify their likely sky-high valuation, Google risks losing a huge chunk of their customer base to the next keep-it-simple search engine.,\n",
              " Remember when a whole lot of people had to die because a Swedish newspaper printed those cartoons of the Prophet Mohammed?,\n",
              " Now Iran wants to turn the tables and is inviting cartoonists to do their best by depicting the Holocaust.,\n",
              " Amazingly, these idiots think a cartoon of Mohammed is comparable to what we can expect in this new fun contest:,\n",
              " TEHRAN (AFP) -,\n",
              " An international contest of cartoons on the Holocaust opened in Tehran in response to the publication in Western papers last September of caricatures of the Prophet Mohammed.,\n",
              " \"We staged this fair to explore the limits of freedom Westerners believe in,\" Masoud Shojai, head of the country's \"Iran Cartoon\" association and the fair organizer, said.,\n",
              " \"They can freely write anything they like about our prophet, but if one raises doubts about the Holocaust he is either fined or sent to prison,\" he added.,\n",
              " \"Though we do not deny that fact that Jews were killed in the (second world) war, why should the Palestinians pay for it?\",\n",
              " Shojai told the opening ceremony of the month-long fair in Tehran's Palestine Contemporary Art Museum.,\n",
              " He added that around 1,100 cartoons were submitted by participants from more than 60 countries and that more than 200 are on show.,\n",
              " He said the top three cartoons will be announced on September 2, with the winners being awarded prizes of 12,000, 8,000 and 5,000 dollars respectively.,\n",
              " This cute little stunt is only going to prove just how fanatic the extremist Muslims are.,\n",
              " When they saw a cartoon of their prophet, people had to die.,\n",
              " When their precious cartoons are released I highly doubt it will look like the end of the world.,\n",
              " US Marines moved into most of Fallujah on Wednesday, though they were still meeting pockets of resistance.,\n",
              " The Fallujah fighting has killed fair numbers of Iraqi noncombatants, including Shaikh Abdul Wahhab al-Janabi of the respected Association of Muslim Scholars.,\n",
              " Armed clashes broke out in several northern Iraqi cities on Wednesday, leaving some 22 persons dead in Mosul, Baiji, and Tuz.,\n",
              " Hundreds of persons mounted demonstrations against the Fallujah campaign in Tikrit and Huwaijah, as well, according to az-Zaman .,\n",
              " The battles and demonstrations were provoked by the US assault on Fallujah.,\n",
              " Guerrillas threatened to assassinate Prime Minister Iyad Allawi and Minister of Defense Hazem Shaalan in retaliation for the attack.,\n",
              " Allawi's aged cousin and the man's wife and daughter-in-law were abducted and guerrillas threaten to behead them if the Fallujah compaign is not stopped.,\n",
              " In Iraqi society, PM Allawi is responsible for protecting his clan, including especially his first cousins, so this kidnapping makes him look weak and brings substantial shame on him.,\n",
              " The US Marines took most of Fallujah Wednesday, but still face pockets of resistance.,\n",
              " If Samarra and other cities are any guide, those pockets of resistance could go on bedeviling the US for some time to come.,\n",
              " The intrepid Ed Wong of the NYT has more on the Sunni boycott of the elections.,\n",
              " He reports that the Iraqi Islamic Party, which had earlier been absolutely committed to getting out the Sunni vote, is now wavering and saying their position will depend on the situation.,\n",
              " The outbreak of demonstrations and violence throughout the Sunni Arab regions on Wednesday did not bode well for Sunni participation in the January elections.,\n",
              " Jim Lobe has more on the political implications of the Fallujah assault, both in Iraq and in Washington.,\n",
              " For some black satire on Fallujah, see Unconfirmed Sources which has some fun with my Weblog.,\n",
              " [Am at a conference and can't blog much right now but will try to catch up the next couple of days.],\n",
              " The hottest item on Christmas wish lists this year is nuclear weapons.,\n",
              " Al-Qaeda wants them, Iran wants them, Russia wants the better ones, and all the US wants is to give them all a piece of coal.,\n",
              " For the last few years there have been tensions with Iran’s nuclear program with word coming this week that a deal was reached through the European Union that meets with the approval of the International Atomic Energy Agency.,\n",
              " At the same time, an Iranian Opposition Group released what they call proof of a covert nuclear weapons program.,\n",
              " Arial photos, loose connections to AQ Kahn and Libya make up the evidence that the group presented.,\n",
              " Russia also announced that it was seeking and building the best nukes the world’s ever seen.,\n",
              " President Vladimir Putin said Russia is will have new nuclear weapons that other countries do not and will not have.,\n",
              " With the demand so high, the question arises on to who should be or has the right to be the Santa of nuclear weapons.,\n",
              " Right now that seems to be the US, EU, and IAEA.,\n",
              " But not always do those three agree, and not always are their decisions equal.,\n",
              " The US has strongly opposed a nuclear weapons program of Iran, yet Israel, which to this day has never officially said that they posses nuclear weapons, ranks around fifth in nuclear strength.,\n",
              " It is estimated that Israel has over 200 nuclear weapons yet neither the US nor any of her allies expresses the slightest concern.,\n",
              " North Korea’s Kim Jong Ill also has the bomb at the top of his list and Santa seems to have already come a few years ago.,\n",
              " It is rumored that North Korea has at least a couple nuclear weapons.,\n",
              " But getting past who should get them, is who has them, and who is really close.,\n",
              " The case against Iran has a feeling of Déjà vu.,\n",
              " Arial photos of the lab were uranium is being enriched, somewhat like those of chemical weapons stockpiles in Iraq.,\n",
              " America cried wolf in Iraq, and what’s scary is that sooner or later, that wolf will probably get us.,\n",
              " I ran across this item on the Internet.,\n",
              " Sooooo.,\n",
              " The United States goes into a war zone and evacuates a bunch of U.S. citizens (most of whom were \"dual-citizens\").,\n",
              " Then, eschewing normal procedure, the Department of State waived the fees that they charge for evacuating U.S. citizen.,\n",
              " Why?,\n",
              " To pander to the mythical \"Arab street\", of course.,\n",
              " Now, I would argue that one could have reasonably predicted that some form of military violence was likely to occur in Lebanon (considering that the country has been experiencing some form of conflict for approximately the last 32 years).,\n",
              " In other words, those Americans were there by their own choice, mired in a situation that was totally predictable.,\n",
              " Yet we didn't charge them for the evacuation.,\n",
              " This is unlike the situation last year in Asia when we evacuated U.S. citizens from areas that were hit by the tsunami - a phenomenon that is much less predictable than the Hezbollah-provoked destruction that rained down on Lebanon.,\n",
              " And what do we get for this effort?,\n",
              " A lawsuit.,\n",
              " That's right, folks.,\n",
              " The American-Arab Discrimination Committee is suing Condoleeza Rice and Donald Rumsfeld, charging that they mismanaged the evacuation efforts.,\n",
              " Here's an excerpt from the article:,\n",
              " Nina Chahine, 19, who with her family was among the named plaintiffs in the lawsuit, said her wedding in the southern city of Tyre was set for July 13.,\n",
              " The wedding had to be postponed as family members fled the outbreak of the war, she said.,\n",
              " \"We were on the road and the first bridge was bombed and we drove home and all the other bridges were bombed and there was absolutely no way for us to get home,\" Chahine told reporters outside federal court in Detroit.,\n",
              " \"We were all American citizens and there was no way that anybody helped us.,\n",
              " No communications nothing.,\n",
              " I was on my way to my wedding fearing death, basically.\",\n",
              " Chahine said her immediate family spent about $20,000 to return to Detroit via Syria and Jordan.,\n",
              " Dear Nina,,\n",
              " Here's a tip: Don't get married in countries that house illegal militias that attack other countries and hence are likely to come under counter-attack!,\n",
              " Crap like this sure makes me want to rush right out and rescue people from dilemmas of their own making.,\n",
              " Though I am loathe to quote other writers at legnth in this space, this little bit from Dan Froomkin's \"White House Briefing\" column in the WashPost today is just too good to pass up (read the whole column here ):,\n",
              " At the Ask the President event on Friday, one of the questions was about whether Bush has any thoughts about his memoirs.,\n",
              " This is one example of what happens when Bush gets a question that he hasn't anticipated.,\n",
              " \"Q Thank you -- I was wondering, there's a lot of talk right now about memoirs being written with the former President.,\n",
              " After you are elected in 2004, what will your memoirs say about you, what will the title be, and what will the main theme say?,\n",
              " \"THE PRESIDENT: I appreciate that.,\n",
              " (Laughter.),\n",
              " There is a painting on my wall in the Oval -- first of all, I don't know.,\n",
              " I'm just speculating now.,\n",
              " I really haven't thought about writing a book.,\n",
              " My life is too complicated right now trying to do my job.,\n",
              " (Laughter.),\n",
              " But if -- there's a painting on the wall in the Oval Office that shows a horseman charging up a steep cliff, and there are at least two other horsemen following.,\n",
              " It's a Western scene by a guy named W.H.S. Koerner called 'A Charge to Keep.',\n",
              " It's on loan, by the way, from a guy named Joe O'Neill in Midland, Texas.,\n",
              " He was the person, he and his wife Jan, introduced -- reintroduced me and Laura in his backyard in July of 1977.,\n",
              " Four months later, we were married.,\n",
              " So he's got a -- I'm a decision-maker and I can make good decisions.,\n",
              " (Applause.),\n",
              " \"And so we sang this hymn -- this is a long story trying to get to your answer.,\n",
              " (Laughter.),\n",
              " This is not a filibuster.,\n",
              " (Laughter.),\n",
              " That's a Senate term -- particularly on good judges.,\n",
              " (Applause.),\n",
              " The hymn was sung at my first inaugural church service as governor.,\n",
              " Laura and I are Methodists.,\n",
              " One of the Wesley boys wrote the hymn.,\n",
              " The painting is based upon the hymn called, 'A Charge to Keep.',\n",
              " I have.,\n",
              " The hymn talks about serving something greater than yourself in life.,\n",
              " I -- which I try to do, as best as I possibly can.,\n",
              " (Applause.),\n",
              " \"The book -- I guess one way, one thing to think about it is -- one of the themes would be, I was given a charge to keep.,\n",
              " And I gave it all my heart, all my energy, based upon principles that did not change once I got into the Oval Office.,\n",
              " (Applause.)\",\n",
              " Now that's a rambling response.,\n",
              " And I have to wonder: Did he forget that he already has a memoir called \"A Charge to Keep\"?,\n",
              " That was the name of his \"autobiography\" -- ghost-written by adviser Karen Hughes in 1999.,\n",
              " There has been random speculation about Google developiong a new browser and/or acquiring Firefox.,\n",
              " It is true that Google has been in acquisition mode.,\n",
              " They have acquired Urchin, Zipdash, Applied Semantics, Picasa, Blogger, and satellite imaging company Keyhole, so why not Firefox?,\n",
              " I have no inside information, but I have been following links today that strongly indicate that Google is damn serious about securing permanent control of the leading edge browser technology in Firefox.,\n",
              " Ben Goodger is the lead engineer for Mozilla Firefox.,\n",
              " He announced this in January:,\n",
              " As of January 10, 2005, my source of income changed from The Mozilla Foundation to Google, Inc. of Mountain View, California.,\n",
              " My role with Firefox and the Mozilla project will remain largely unchanged, I will continue doing much the same work as I have described above - with the new goal of successful 1.1, 1.5 and 2.0 releases.,\n",
              " I remain devoted full-time to the advancement of Firefox, the Mozilla platform and web browsing in general.,\n",
              " He also announced this in January:,\n",
              " Welcome Darin!,\n",
              " I just want to extend a big \"Welcome!\" to Darin Darin Fisher who joined me at Google this week.,\n",
              " I just want to extend a big \"Welcome!\" to Darin Darin Fisher who joined me at Google this week.,\n",
              " 2005 is going to rock!,\n",
              " Darin Fisher wrote this response on January 25, 2005:,\n",
              " Me and the big \"G\",\n",
              " Following on the heels of Ben's annoucement yesterday, I thought I'd post that I have joined Google as well.,\n",
              " Like Ben, I will still be very much involved with the Mozilla project and community :-),\n",
              " Posted by darin,\n",
              " Ben made another announcement on March 28, 2005:,\n",
              " I want to use this opportunity to welcome Brian Ryner to Google!,\n",
              " Brian has been one of the most crucial elements to the success of Mozilla software over the past few years,...,\n",
              " Great to have you on board!,\n",
              " Now, none of this has been confirmed by Google at the present time, but it's an old adage that you follow the money to see who is behind something.,\n",
              " In this case, following the talent leads me to think that Google will be making an announcement this year that formalizes the Google-Mozilla/Firefox relationship.,\n",
              " If you have not already seen the Flash movie Epic , you should take a few minutes and view the future history of media as conceived by Robin Sloan and Matt Thompson, with music by Aaron McLeran.,\n",
              " In this movie Google and Amazon (GOOGLEZON ) create a brave new world of media in 2008.,\n",
              " This is one thought-provoking film.,\n",
              " Every move Google makes brings this particular future closer.,\n",
              " Just one small commment - it's not possible, as far as I know, for Google to \"Aquire\" Firefox.,\n",
              " They already have rights to take it, alter it, and release those changes to the world - this is what the whole open source thing is about.,\n",
              " I'm inclined to say that google is doing what they can to both shape and support the growth of the most popular non-Microsoft browser out there - by taking on the leading lights in Firefox development, they're ensuring the continued life of the project, and ensuring (not that I think they need to) that their voice will be heard admidst the higher echelons of the firefox development team.,\n",
              " It's this sort of enlightened self interest that keeps large open source projects alive.,\n",
              " Fascinating viewpoint of the future in Epic.,\n",
              " Thanks for the link.,\n",
              " Malach, What you say makes sense.,\n",
              " Acquiring open source talent gives a company an inexpensive way of influencing and anticipating the direction an open source project will go.,\n",
              " It probably gives more bang for the buck than acquiring a private company and having to handle the inevitable culture clashes and process mis-matches.,\n",
              " The Coalition decision to provoke a fight with Muqtada al-Sadr's movement only three months before the Coalition Provisional Authority goes out of business has to be seen as a form of gross incompetence in governance.,\n",
              " How did the CPA get to the point where it has turned even Iraqi Shiites, who were initially grateful for the removal of Saddam Hussein, against the United States?,\n",
              " Where it risks fighting dual Sunni Arab and Shiite insurgencies simultaneously, at a time when US troops are rotating on a massive scale and hoping to downsize their forces in country?,\n",
              " At a time when the Spanish, Thai and other contingents are already committed to leaving, and the UN is reluctant to get involved?,\n",
              " One answer is that the Pentagon prevented the State Department from running the CPA.,\n",
              " State is the body with experience in international affairs and administration.,\n",
              " The civilians in the Department of Defense only know how to blow things up.,\n",
              " Rumsfeld, Wolfowitz and Feith staffed the CPA with Neoconservatives, most of whom had no administrative experience, no Arabic, and no respect for Muslim culture (or knowledge about it).,\n",
              " They actively excluded State Department Iraq hands like Tom Warrick.,\n",
              " (Only recently have a few experienced State Department Arabists been allowed in to try to begin mopping up the mess.),\n",
              " The Neocons in the CPA have all sorts of ulterior motives and social experiments they want to impose on the Iraqi people, including Polish-style economic shock therapy, some sort of sweetheart deal for Israel, and maybe even breaking the country up into three parts.,\n",
              " The Washington Monthly's Who's Who of Neocons in Iraq helps explain the extreme incompetence and possibly double-dealing of many in the CPA.,\n",
              " Sept. 11 Commission member Philip Zelikow, who is close to the Bush administration, admitted on Sept. 10, 2002, that the ulterior motive of the Bush administration for the Iraq War was to \"protect Israel,\" according to the Asian Times .,\n",
              " I have long been a trenchant critic of the Sadrists.,\n",
              " But they haven't been up to anything extraordinary as far as I can see in recent weeks.,\n",
              " Someone in the CPA sat down and thought up ways to stir them up by closing their newspaper and issuing 28 arrest warrants and taking in people like Yaqubi.,\n",
              " This is either gross incompetence or was done with dark ulterior motives that can scarcely be guessed at.,\n",
              " There is a classical logical fallacy, post hoc ergo propter hoc (Z happens after X, therefore Z is caused by X), and I keep revising this posting this evening because I don't want to fall into it.,\n",
              " But sometimes, of course, when Z happens after X it is because of X.,\n",
              " So I may as well just come out with it: It is pretty suspicious, given the Neocon predominance in the CPA and in the upper reaches of the Defense Department that on April 2 AP reported of Muqtada:,\n",
              " ' A radical Shiite Muslim cleric has expressed solidarity with the militant Palestinian group Hamas and said that he should be considered the group's \"striking arm\" in Iraq.,\n",
              " \"I have said and I repeat my expression of solidarity which Hassan Nasrallah called for to stand with Hamas,\" Shiite cleric Muqtada al-Sadr said Friday in a reference to Nasrallah, the leader of the militant Lebanese Shiite group Hezbollah.,\n",
              " Last month, Nasrallah announced that his party would close ranks with Hamas.,\n",
              " \"Let (Hamas) consider me their striking arm in Iraq because the fate of Iraq and Palestine is the same,\" al-Sadr said during a Friday prayer sermon in Kufa, his home base south of Baghdad.,\n",
              " He did comment on what he meant by the phrase. ',\n",
              " And on April 3 his chief aide in Najaf was suddenly arrested along with 13 other members of his organization, and the Coalition forces are put into violent conflict with his organization, which leaves 7 US soldiers dead.,\n",
              " The Army is unlikely to forgive or forget; but who provoked it and why?,\n",
              " I'm not even in Iraq and I could have predicted to you the consequences of doing what the CPA has been doing.,\n",
              " Anthony Shadid of the Washington Post reveals that the warrants for the arrests had been issued months be for.,\n",
              " Why were they suddenly acted on Saturday?,\n",
              " i am not going unless lisa promises to get all wasted and boob out.,\n",
              " I definitely could use a drink, actually a couple would probably do better.,\n",
              " Bryan, you're in, right?,\n",
              " Anybody up for happy hour after work?,\n",
              " I was thinking Kenneally's at around 5.,\n",
              " Let me know,\n",
              " you don't know what that means?,\n",
              " where did you grow up?,\n",
              " india?,\n",
              " boob out?,\n",
              " should I be embarrassed that I haven't the slightest idea what that means?,\n",
              " i am going out tonight to get wasted if anyone is interested.,\n",
              " jill allen finishes her cpa today and she and her friends are going to party.,\n",
              " max and jen are looking for you.,\n",
              " call them at 303-832-8160.,\n",
              " they haven't heard from you in a while.,\n",
              " Work it into your speech-- something along the line of, \"And Jen, you come from great people and have fantastic friends.,\n",
              " In fact Peder and I were remarking on how agreeable they all are as the sucked on our balls last night.,\n",
              " Fucking bitches!\",\n",
              " i have to go to butt-fucking mississippi.,\n",
              " i am not looking foward to that but don't tell val.,\n",
              " the following weekend i will be ready to rock.,\n",
              " i think they are all bark and no bite.,\n",
              " i think they could get their asses kicked by cats.,\n",
              " they look like they were doberman pinchers who were shrunk.,\n",
              " you should get a cockerspaniel.,\n",
              " no, i am not kidding and no i don't want it b/c of the taco bell dog.,\n",
              " no, i am not kidding and no i don't want it b/c of the taco bell dog.,\n",
              " i want it b/c it is really small and cute.,\n",
              " i want it b/c it is really small and cute.,\n",
              " i knew someone in college who had one and i loved it.,\n",
              " why do you think they are mean?,\n",
              " are you kidding?,\n",
              " why would you want a chihuahua?,\n",
              " those dogs aren't even friendly.,\n",
              " do you think they are cool b/c of the taco bell dog?,\n",
              " \"Les Spahnn\" <spahnn@hnks.com>,\n",
              " 02/13/2001 08:02 PM,\n",
              " All:,\n",
              " It is my understanding, from good sources in the Govs office that the Gov will order Loretta Lynch to expeditiously implement the provision to suspend all parties auhtority to enter into direct access contracts.,\n",
              " The premise with which the administartion is acting is that if they expeditiously suspend everyone's right to bilateral contracts quickly, it sets up a barrier which the direct access coalition must break through.,\n",
              " In other words the table is set.,\n",
              " Deal your meal from where the dishes are located.,\n",
              " I.E. the Davis Administration wants to place all direct access advocates in the position of having to justify why each and every party should be the exception to the suspension rather than have a general rule concerning how direct access should work for all parties.,\n",
              " It clearly gives the Admin a very strong upper hand to control who when and where direct access can occur without having to say that they oppose direct access.,\n",
              " Power be where power lies.,\n",
              " you aren't going in for the wedding until sunday now?,\n",
              " I'm in,\n",
              " Regards,,\n",
              " Kevin A. Boone Accenture -- Houston Consultant -- Energy (Octel) 713.837.1638 (Client) 281.848.1619 (C) 713.306.7940 (H) 713.864.4149 Kevin.A.Boone@accenture.com,\n",
              " Kevin A. Boone Accenture -- Houston Consultant -- Energy (Octel) 713.837.1638 (Client) 281.848.1619 (C) 713.306.7940 (H) 713.864.4149 Kevin.A.Boone@accenture.com,\n",
              " Kevin A. Boone Accenture -- Houston Consultant -- Energy (Octel) 713.837.1638 (Client) 281.848.1619 (C) 713.306.7940 (H) 713.864.4149 Kevin.A.Boone@accenture.com,\n",
              " Our web address is http://www.accenture.com,\n",
              " \"Lenhart, Matthew\",\n",
              " you guys want to watch the game at woodrows tomorrow?,\n",
              " there will be some girls there and then we can get them to meet up with us at that garden in the heights party later that night.,\n",
              " there will be some girls there and then we can get them to meet up with us at that garden in the heights party later that night.,\n",
              " plus we can be outside watching it.,\n",
              " This message is for the designated recipient only and may contain privileged or confidential information.,\n",
              " If you have received it in error, please notify the sender immediately and delete the original.,\n",
              " Any other use of the email by you is prohibited.,\n",
              " just call me on my cell phone.,\n",
              " i am going to happy hour after work to eat and drink.,\n",
              " what do you mean i am perverted?,\n",
              " whatever, you're the perverted old man.,\n",
              " you love it when i come over.,\n",
              " i satisfy your appetitie for lovin.,\n",
              " Robert Bryngelson@AZURIX,\n",
              " 08/16/2000 12:05 PM,\n",
              " I just wanted to send you a quick note to let you know that I'm outta here!,\n",
              " Today is my last day in the office here at Azurix, and in the coming months, I will start in a new position as SVP in the LNG development group at El Paso Energy.,\n",
              " This happened very quickly, and I wanted to make sure that I let everyone know before I left.,\n",
              " I don't have any contact information yet for my new job, but if you want to reach me, you can do so at RobBrnglsn@aol.com or at 713-664-7478.,\n",
              " I enjoyed working with all of you during the past five years at Enron / Azurix, and I wish you all of the best.,\n",
              " Take care.,\n",
              " Rob Bryngelson,\n",
              " PS -- There is a happy hour tonight at Scudeiros on Dallas Street (just west of the Met Garage) beginning around 5:00.,\n",
              " If you can make it, please come!,\n",
              " Traci Warner@ENRON COMMUNICATIONS on 08/16/2000 03:14:14 PM,\n",
              " Steve, Rod and Elyse -,\n",
              " Just wanted to confirm our meeting on Tuesday Aug 29th from 1:30 -2:30 to discuss Uof H's endowment proposal.,\n",
              " We will meeting Rod's office EB4054,\n",
              " I look forward to seeing you all there.,\n",
              " Sincerely,,\n",
              " Traci,\n",
              " Traci Warner Enron Broadband Services, Inc. Phone (713) 853-3242 Cell (713) 705-7201,\n",
              " Traci Warner Enron Broadband Services, Inc. Phone (713) 853-3242 Cell (713) 705-7201,\n",
              " Kay Mann,\n",
              " 04/26/2001 07:17 AM,\n",
              " Will you be providing an execution version with questions removed/blanks filled in?,\n",
              " Please send it directly to kent.shoemaker@ae.ge.com, copy to me.,\n",
              " Thanks,,\n",
              " Thanks,,\n",
              " Kay,\n",
              " \"paulhastings.com\" made the following annotations on 04/25/01 12:42:55,\n",
              " We have changed our e-mail address.,\n",
              " Our new domain name is paulhastings.com.,\n",
              " In most cases, our address is composed of conventional first name and last name plus @paulhastings.com.,\n",
              " Here are two examples: janesmith@paulhastings.com and danjones@paulhastings.com.,\n",
              " If you have any questions, please contact us at noc@paulhastings.com.,\n",
              " ==============================================================================,\n",
              " \"The information transmitted is intended only for the person or entity to which it is addressed and may contain confidential and/or privileged material.,\n",
              " Any review, retransmission, dissemination or other use of, or taking of any action in reliance upon, this information by persons or entities other than the intended recipient is prohibited.,\n",
              " If you received this in error, please contact the sender and delete the material from all computers.\",\n",
              " ==============================================================================,\n",
              " Attached please find the GE Guarantee in Word format.?,\n",
              " Also, we have attached a pdf black-line of the Guarantee vs the form of guarantee in the Turbine Contract.,\n",
              " ?,\n",
              " Do not hesitate to call us with any questions.,\n",
              " ?,\n",
              " Best regards.,\n",
              " ?,\n",
              " ______________________,\n",
              " John Staikos Direct Dial:? 203.961.7523 Direct Fax:? 203.674.7723 E-mail:? johnstaikos@paulhastings.com,\n",
              " John Staikos Direct Dial:? 203.961.7523 Direct Fax:? 203.674.7723 E-mail:? johnstaikos@paulhastings.com,\n",
              " John Staikos Direct Dial:? 203.961.7523 Direct Fax:? 203.674.7723 E-mail:? johnstaikos@paulhastings.com,\n",
              " ?,\n",
              " Sean Boyle,\n",
              " 08/17/2000 11:21 AM,\n",
              " I spoke to Bruce Garcey at NiMo regarding their RFP.,\n",
              " Bruce indicated NiMo short listed five companies who all bid higher than ENA.,\n",
              " However, he also mentioned we were a close sixth, that is close to the fifth highest bid.,\n",
              " He gave no indication on the value of the highest bid.,\n",
              " He also said that the other five companies making the short list all proposed alternative structures to the proposed NiMo Tier Structure.,\n",
              " NiMo released an additional RFP for peaking supplies for this winter, I believe Phil should have or be getting that RFP.,\n",
              " Phil if you could please make copies and distribute ASAP.,\n",
              " Thanks,,\n",
              " Sean,\n",
              " Here you go.,\n",
              " If you have any other questions, please let me know.,\n",
              " Scott Neal,\n",
              " 08/16/2000 03:48 PM,\n",
              " John Griffith@ENRON,\n",
              " 08/15/2000 06:23 PM,\n",
              " SOblander@carrfut.com on 08/15/2000 06:03:48 PM,\n",
              " The information contained herein is based on sources that we believe to be reliable, but we do not represent that it is accurate or complete.,\n",
              " Nothing contained herein should be considered as an offer to sell or a solicitation of an offer to buy any financial instruments discussed herein.,\n",
              " Any opinions expressed herein are solely those of the author.,\n",
              " As such, they may differ in material respects from those of, or expressed or published by on behalf of Carr Futures or its officers, directors, employees or affiliates. ,,\n",
              " 2000 Carr Futures,\n",
              " The charts are now in the most recent version of Adobe Acrobat 4.0 and they should print clearly from Adobe Acrobat Reader 3.0 or higher.,\n",
              " Adobe Acrobat Reader 4.0 may be downloaded for FREE from www.adobe.com.,\n",
              " (See attached file: UnleadedStocks.pdf)(See attached file: CrudeStocks.pdf) (See attached file: HeatingOilStocks.pdf)(See attached file: PADDIIstocksCL.pdf)(See attached file: PADDIstocksHO.pdf)(See attached file: PADDIstocksHU.pdf)(See attached file: API.pdf),\n",
              " - UnleadedStocks.pdf,\n",
              " - CrudeStocks.pdf,\n",
              " - HeatingOilStocks.pdf,\n",
              " - PADDIIstocksCL.pdf,\n",
              " - PADDIstocksHO.pdf,\n",
              " - PADDIstocksHU.pdf,\n",
              " - API.pdf,\n",
              " Marlene Hilliard,\n",
              " 10/08/99 08:52 AM,\n",
              " On or about September 23, 1999 a request for service was placed by the above referenced counterparty.,\n",
              " The request was for a Intrastate Gas Transportation Agreement and 311 Gas Transportation Agreement.,\n",
              " These agreements were forwarded to the counterparty, CCNG, Inc..,\n",
              " On or about October 6, 1999, Kelly Cloud, Senior Vice President of CCNG, Inc. (713) 235-1972, called and informed me that the counterparty should be CCGM, L.P..,\n",
              " Further, she informed me that Section 7 of the agreement, which reads in part: Gas is free from liens and adverse claims of every kind, should be changed because the gas that the counterparty will be transporting on HPL may and/or is subject to liens.,\n",
              " She was instructed to destroy the agreement and another would be forwarded to her with the necessary corrections and re-wording of Section 7.,\n",
              " Attached find the agreements for the necessary changes in Section 7.,\n",
              " Kelly,\n",
              " Cloud has instructed me to call with any further questions.,\n",
              " Thanks.,\n",
              " Marlene D. Hilliard,\n",
              " Ginny, Please see the attached guaranty.,\n",
              " A clean and redlined version are attached.,\n",
              " I revised the language based on our discussions and added the language concerning interest which we had both previously approved.,\n",
              " We are OK to execute this form.,\n",
              " Let me know if acceptable and I will go ahead and execute.,\n",
              " Thanks.,\n",
              " \"Townsend, George\" <gtownsend@manorisd.net>,\n",
              " 03/27/2001 09:11 AM,\n",
              " Puto,,\n",
              " What's going on dude?,\n",
              " Antigua was awesome.,\n",
              " I survived it without a problem.,\n",
              " Heather moving in has been a different story.,\n",
              " I didn't realize how much \"stuff\" you could pack into a one bedroom apartment.,\n",
              " How is your love life.,\n",
              " The gal from the wedding was pretty hot.,\n",
              " Are you still chasing that?,\n",
              " Lets get together soon.,\n",
              " Our extra bedroom is nicer now.,\n",
              " My old bed got tossed in a dumpster.,\n",
              " It smelled like shit.,\n",
              " Talk to you later,\n",
              " GT,\n",
              " How is it going?,\n",
              " Did you survive the honeymoon?,\n",
              " These look fine to me.,\n",
              " Go ahead and forward to Brant if you are ready.,\n",
              " Joan Woodson,\n",
              " 08/10/2000 08:28 AM,\n",
              " Enron Investment Partners,\n",
              " Congratulations!,\n",
              " You've all won!,\n",
              " ...Now comes the fun part....,\n",
              " The following have made a team for the game show on August 17th!.,\n",
              " Thanks to all who volunteered.,\n",
              " You will remain as alternates.,\n",
              " Analyst Team Participants:,\n",
              " Analyst Team 1: Coach: Lisa Gilette,\n",
              " Kristen Quinn, Sarah Mulholland, Samuel Pak, Daniel Kang,\n",
              " Analyst Team 2: Coach: Doug Sewell,\n",
              " Jeffrey Synder, Ryan Hinze, Sheetal Patel, Johnathan Anderson,\n",
              " Associate Team Participants:,\n",
              " Associate Team 1: Coach: Ben Markey,\n",
              " Mary John, Russell Dyk, Webb Jennings, Martin Gonzales,\n",
              " Mixed A/ATeam 2: Coach: Melanie King Brandon Luna - Analyst, Bryan Hull - Analyst, Eduardo Tellechea - Associate, Milson Mundim - Associate,\n",
              " Alternates: Heather Johnson, Usman Shaukat, Gerard Benitez, Matthew Almy, Travis Hanson,\n",
              " WHO WANTS TO HELP MILLIONS FOR UNITED WAY?,\n",
              " We hope you do!,\n",
              " How to Pledge:,\n",
              " This year it is very easy to make your contribution.,\n",
              " Simply type in the following United Way link, http://unitedway.enron.com or go directly to Internet Explorer or Netscape and type in unitedway.enron.com in the address field.,\n",
              " Either option should take you directly to Enron's United Way 2000 Campaign site.,\n",
              " PLEASE NOTE: Your pledge is to be made electronically - it only takes minutes.,\n",
              " PLEASE NOTE: Your pledge is to be made electronically - it only takes minutes.,\n",
              " No physical pledge cards.,\n",
              " Questions: If you have any questions regarding the pledging process, please contact Joan Woodson (3-5213), Bert Frazier (3-5076) or Kathy Mayfield (3-3264).,\n",
              " you know that both o'neal and matt are out?,\n",
              " Game tonight at 7, it's time to kick some ass.,\n",
              " i have not gotten a good response so i think shanna and i are going to stay in town.,\n",
              " i have not gotten a good response so i think shanna and i are going to stay in town.,\n",
              " the weather is going to be fine, hector was just blowing smoke.,\n",
              " Christa Winfrey,\n",
              " 08/08/2000 11:36 AM,\n",
              " have you heard from anyone?,\n",
              " also, what's the deal with the weather this weekend?,\n",
              " is it supposed to be storming?,\n",
              " by the way, buy it now b/c it is going to 100 by year end.,\n",
              " Your father never listens to me, what can I say?,\n",
              " But, I'm very happy for you!,\n",
              " How are you?,\n",
              " Any news on Aunt Toni?,\n",
              " LU,\n",
              " -M,\n",
              " Glad to hear all is well.,\n",
              " I meant to comment that I thought the people profiled in the article should pull their heads out of their self important asses.,\n",
              " It isn't about finding the meaning of life at work.,\n",
              " It is all about the $$$.,\n",
              " Work hard.,\n",
              " Make $$$.,\n",
              " Retire young.,\n",
              " Things with me are great.,\n",
              " Moving back to Calgary in about a month which is a little sooner than I thought I would be going back but when opportunity knocks you gotta go.,\n",
              " Take care.,\n",
              " I don't hear from you in months and then you level me with such a thought provoking, soul searching article.,\n",
              " Thanks for thinking of me to send it to.,\n",
              " I really enjoyed reading it.,\n",
              " We certainly fit into certain parts of the article.,\n",
              " There are a few life theories like that which working through.,\n",
              " Its all interesting stuff.,\n",
              " How are things going with you?,\n",
              " Are you enjoying Houston?,\n",
              " London has been great.,\n",
              " Brokering over here has been pretty rewarding.,\n",
              " Traders over here seem to have a lot more respect for other humans.,\n",
              " Catriona is well and has landed herself a pretty cool job in PR.,\n",
              " Keep in touch,,\n",
              " Mike,\n",
              " Michael J. McDermott mjmcdermott@hotmail.com,\n",
              " _________________________________________________________________,\n",
              " Get your FREE download of MSN Explorer at http://explorer.msn.com/intl.asp,\n",
              " For me it isn't about fulfillment or finding my life's purpose in my work.,\n",
              " It's all about the $$$.,\n",
              " Work hard and retire early.,\n",
              " Cheers,\n",
              " Chris,\n",
              " P.S. I am moving back to Calgary in about a month.,\n",
              " P.S. I am moving back to Calgary in about a month.,\n",
              " Enron continues to feel free to move me around at will.,\n",
              " I am actually really looking forward to it.,\n",
              " let's discuss next time we have amstel lights together.,\n",
              " Jolene Harvey,\n",
              " 05/22/2001 09:25 AM,\n",
              " about our lifestyle...,\n",
              " (See attached file: TEXT.htm),\n",
              " ********************************NOTICE*************************************,\n",
              " This transmittal and/or attachments may be a confidential attorney-client communication or may otherwise be privileged or confidential.,\n",
              " If you are not the intended recipient, you are hereby notified that you have received this transmittal in error; any review, dissemination, distribution or copying of this transmittal is strictly prohibited.,\n",
              " If you have received this transmittal and/or attachments in error, please notify us immediately by reply or by telephone (call us collect at +1 212-848-8400) and immediately delete this message and all its attachments.,\n",
              " Thank you.,\n",
              " - TEXT.htm << File: TEXT.htm >>,\n",
              " - TEXT.htm << File: TEXT.htm >>,\n",
              " I was thinking of converting it to a hover vehicle.,\n",
              " I might just sell the car and get you to drive me around all winter.,\n",
              " How about skidoo skis for the front and tracks for the back..,\n",
              " Lexus IS 300.,\n",
              " Not sure if I am going to buy 17\" or 16\" wheels for the winter.,\n",
              " Jackass.,\n",
              " You have always been on the move seeking affectionate, satisfying and harmonious relationships.,\n",
              " Your ultimate goal has been the realisation of an intimate union in which there could be love, self-sacrifice and mutual trust.,\n",
              " It has often been said that \"True love is just around the corner\"...and maybe... if you haven't found it as yet - you possibly soon will.,\n",
              " In the past there have been .. and maybe there still are many things that you have had to do without.,\n",
              " In the past there have been .. and maybe there still are many things that you have had to do without.,\n",
              " You have now decided to set your sights on a position or situation that could give you greater prestige and which will afford you considerable self esteem.,\n",
              " You wear your heart on your sleeve ... and since you are an emotional person you are apt to give your all ... heart and soul ... to all those that show you a little affection ... but take care... it would appear that you have been extremely hurt in the past...and you keep leaving yourself wide open for punishment..,\n",
              " You wear your heart on your sleeve ... and since you are an emotional person you are apt to give your all ... heart and soul ... to all those that show you a little affection ... but take care... it would appear that you have been extremely hurt in the past...and you keep leaving yourself wide open for punishment..,\n",
              " Whatever you strive to do, something always seems to be holding you back.,\n",
              " There is no subterfuge in you.,\n",
              " You are a clear thinker and all you demand from life, in a relationship, is a partner whom you can trust and with whom you can, together, develop a foundation of trust based on understanding.,\n",
              " You are your own person... and you demand freedom of thought ...to follow your own convictions.,\n",
              " You have no interest in \"two-timing\" and all you seek is sincerity and \"straight-dealing\".,\n",
              " You wish to be left in peace... no more conflict and no more differences of opinion ...,\n",
              " You wish to be left in peace... no more conflict and no more differences of opinion ...,\n",
              " In fact you just don't want to be involved in any arguments of any shape or form ...,\n",
              " All you want is for \"them\" to get on with it - and to leave you alone..,\n",
              " John,,\n",
              " sorry for not sending it to you earlier (totally forgot to open my outlook).,\n",
              " Raw data is on the fisrt tab of the file to the right.,\n",
              " Let me know if you have any questions.,\n",
              " Vladi.,\n",
              " Hey Vladi,,\n",
              " Do you still have the historical nymex settle file that you created for Lavo's spread analysis?,\n",
              " If you do would you send me a copy?,\n",
              " Thanks.,\n",
              " John,\n",
              " Attached is a new link for employees unable to attend the all-employee meeting today at 10 a.m. (CDT) at the Hyatt Regency Houston, Imperial Ballroom.,\n",
              " If you are located in London, Calgary, Toronto, Omaha, New York, Portland (ENA) or Houston, you can access the live event at http://home.enron.com/employeemeeting.,\n",
              " Constance,,\n",
              " I was on vacation from October 4th to October 19th and I didn't submit my timesheet yet.,\n",
              " I was on vacation from October 4th to October 19th and I didn't submit my timesheet yet.,\n",
              " I tried to do it on the HRonline web-site, but the procedure is too complicated.,\n",
              " Is it possible that you or somebody else in the HR department mark the vacation time?,\n",
              " I would really appreciate that.,\n",
              " Thank you.,\n",
              " Vladi Pimenov ext. 37625,\n",
              " \"McGilloway, Vangie\" <Vangie.McGilloway@powersrc.com>,\n",
              " 03/23/2001 10:13 AM,\n",
              " Good Morning Debra -,\n",
              " I have attached a revised copy of the GISB Agreement and Special Provisions for your review and consideration.,\n",
              " I anticipate completing the review of the Master Agreement form and submitting comments to you by Monday.,\n",
              " In addition, I received feedback from our Gas Desk that the access to the Gas segment of Enron On-Line was cut off to CPS --- do you know who would handle this at Enron that we can speak to?,\n",
              " Greatly appreciate your prompt feedback to this inquiry.,\n",
              " I look forward to your feedback on the GISB.,\n",
              " Regards,,\n",
              " Vangie McGilloway Constellation Power Source, Inc. (\"CPS\") 111 Market Place Ste 500 Baltimore,MD 21202 Phone 410-468-3798 Fax 410-468-3499 Email vangie.mcgilloway@powersrc.com,\n",
              " PS- Were you having phone system problems this morning?,\n",
              " Myself and Credit were calling in and none of the calls rolled into voice mail (?).,\n",
              " Further to our conversation, please see attached sample agreements.,\n",
              " Upon your review, please give me a call to discuss any questionsand or issues you may have regarding this matter.,\n",
              " (See attached file: Constellation Power (GISB draft).doc)(See attached file: Sam3102.doc),\n",
              " Regards,,\n",
              " Debra Perlingiere,\n",
              " - ENRON-CPS (GISB rev1).doc,\n",
              " I have sent your question re on line trading to that area.,\n",
              " They will contact you.,\n",
              " I am in the process of reviewing your special provisions.,\n",
              " Best regards,,\n",
              " Debra Perlingiere,\n",
              " Jackie Taylor - she is located at Court House Concessionaire and under her name in the directory.,\n",
              " Debra Perlingiere,\n",
              " Please clarify \"all\" do you intend 10MM for ENA as well?,\n",
              " Thx,\n",
              " dp,\n",
              " Debra Perlingiere,\n",
              " Revised Article 4.6,\n",
              " Debra Perlingiere,\n",
              " The only agreement I can find is a Master Sale Spot w/ City of Springfield.,\n",
              " Please let me know if you need anything else.,\n",
              " dp,\n",
              " Debra Perlingiere,\n",
              " Tammi,,\n",
              " Attached is an image of the GISB.,\n",
              " As you see it was CES acquired by ENA in asset purchase.,\n",
              " Please let me know how you would like to proceed.,\n",
              " Best regards,,\n",
              " Debra Perlingiere,\n",
              " Debra Perlingiere,\n",
              " Priscilla,,\n",
              " I do not find the term \"Alternate Transporter Imbalance\" in our agreement..,\n",
              " The term \"Aggregate Transporter Imbalance\" is located in several sections.,\n",
              " Could this be what your referencing?,\n",
              " Regards,,\n",
              " Debra Perlingiere,\n",
              " See attached revised Article 4.6 Masters below.,\n",
              " Dp,\n",
              " Debra Perlingiere,\n",
              " Gerald Nemec,\n",
              " These look fine to me.,\n",
              " Go ahead and forward to Brant if you are ready.,\n",
              " Debra Perlingiere,\n",
              " 03/27/2001 01:58 PM,\n",
              " Revised Article 4.6,\n",
              " Debra Perlingiere,\n",
              " Kathleen,,\n",
              " You are correct, I will make the appropriate changes and give you another review before sending execution papers.,\n",
              " Best regards,,\n",
              " Debra Perlingiere,\n",
              " 4105SF,\n",
              " Debra Perlingiere,\n",
              " Jill:,\n",
              " As discussed, attached is a GISB draft for Pioneer.,\n",
              " As you can see there are several blanks concerning administrative information for ENA Upstream.,\n",
              " I was able to secure a Duns# and Fed Tax ID however, I am lacking Fax and bank account numbers.,\n",
              " Do you have this information?,\n",
              " Dp,\n",
              " Debra Perlingiere,\n",
              " Debra Perlingiere,\n",
              " Jeffrey T Hodge,\n",
              " 03/29/2001 09:01 AM,\n",
              " Rudwell Johnson/ENRON@enronXgate,\n",
              " 03/28/2001 05:09 PM,\n",
              " Jeff!,\n",
              " Please find attached a credit worksheet for a Master Firm contract for the above mentioned counterparty.,\n",
              " Please complete agreement and forward to counterparty.,\n",
              " Thanks,\n",
              " Rudwell 53596.,\n",
              " Cindy,,\n",
              " Please forward a copy of the J.M. Huber Corporation Guaranty to my attention.,\n",
              " The Guaranty is dated August 1, 2000.,\n",
              " Thanks!!,\n",
              " Debra Perlingiere,\n",
              " They are taking delivery in the U.S.,\n",
              " Debra Perlingiere,\n",
              " Visit,,\n",
              " Thanks for your message.,\n",
              " Can you send me the data you used: I shall take a look at it.,\n",
              " Vince,\n",
              " Dear All,,\n",
              " My mane is Visit Phunnarungsi.,\n",
              " I used to e-mail Vince Kaminski about the advice on his article \"The Challenge of Pricing and Risk Managing Electricity Derivatives\" and he had mailed me the copy.,\n",
              " I am now modelling the Queensland electricity spot price using Geometric Brownian Mean Reverting Jump Diffusion Model and have followed your paper \"Making the most of mean reversion\" to estimate the mean reversion speed.,\n",
              " I use Queensland half-hourly price during 13 December, 1998-30 June 2001 giving about 44,000 price observations.,\n",
              " However, the result from Ordinary Least Squares was not as expected due to different sign for both slope & intercept.,\n",
              " The coefficient and standard error are as followed:,\n",
              " Intercept: -0.3931 (0.0076),\n",
              " Slope: 0.1171 (0.0022),\n",
              " R Square: 0.0585,\n",
              " Therefore I could not estimate the mean reversion rate as the estimated slope has the positive sign.,\n",
              " I have also tried monthly data and the results are the same.,\n",
              " It would be appreciated if you could advice me on this matter.,\n",
              " Kindest regards,,\n",
              " Visit,\n",
              " Get your FREE download of MSN Explorer at http://explorer.msn.com << File: 'http://go.msn.com/bql/hmtag_itl_EN.asp' >>,\n",
              " Get your FREE download of MSN Explorer at http://explorer.msn.com << File: 'http://go.msn.com/bql/hmtag_itl_EN.asp' >>,\n",
              " Chris,,\n",
              " Plz contact Shirley Crenshaw (X 3-5290) regarding a copy of an article.,\n",
              " Vince,\n",
              " Traci,,\n",
              " Thanks.,\n",
              " This is the best solution given all the uncertainties we face.,\n",
              " Vince,\n",
              " Vince -,\n",
              " Thanks for the message regarding a possible intern for your group.,\n",
              " Right now, we are in the process of evaluating both our new hire needs and our summer needs and will be making those decisions after the first of the year.,\n",
              " Until we have come up with those numbers it would be premature to make any offers for the summer.,\n",
              " What I would like to do in this case is get the information to Jeff Davis, who is responsible for Georgia Tech and ask him to get Sungjoo's resume and start a file on him with a notation that you would like to hire him for summer.,\n",
              " When we start the summer process, we will interview the candidate and slot him for your group.,\n",
              " Is this okay with you?,\n",
              " Hope all is well with you,\n",
              " Take Care,\n",
              " Traci,\n",
              " Traci,,\n",
              " I have visited Georgia Tech on Thursday.,\n",
              " One of the students indicated that he is interested in a summer internship.,\n",
              " He came across as a very bright person, very personable.,\n",
              " I can take him as a summer intern.,\n",
              " Vince,\n",
              " Dear Dr. Vincent Kaminski,,\n",
              " Hi.,\n",
              " How are you doing?,\n",
              " I hope you have a good flight back to home.,\n",
              " It was a good opportunity to know about Enron and its finance sector.,\n",
              " Thank you for your time.,\n",
              " I have already submitted my resume and cover letter right after the talk.,\n",
              " However, you ask me to send a copy of resume and cover letter again.,\n",
              " Those attachments are what I was asked.,\n",
              " Again, it was a good chance for me to get to know what I can do in this field and what I have to more focus on in school.,\n",
              " I am looking forward to hearing from you soon and have a nice day.,\n",
              " Thank you.,\n",
              " ************************************************,\n",
              " Sungjoo Lee Stochastic Processes and Simulation in Finance Georgia Institute of Technology School of Industrial and Systems Engineering E-mail address: goldconn@isye.gatech.edu gte114t@prism.gatech.edu Home : 404-449-1026 Office: Coming Soon!,\n",
              " ************************************************,\n",
              " - Lisa_coverletter.doc << File: Lisa_coverletter.doc >>,\n",
              " - Lisa_coverletter.doc << File: Lisa_coverletter.doc >>,\n",
              " - Lisa_resume.doc << File: Lisa_resume.doc >>,\n",
              " - Lisa_resume.doc << File: Lisa_resume.doc >>,\n",
              " FYI,\n",
              " Vince,\n",
              " P.S. Tom, Please, contact Vernon and get the details.,\n",
              " Renee,,\n",
              " I would like to have a meeting to go over the payment methodology.,\n",
              " Scott Neal and Tom Martin would like to attend as well.,\n",
              " This afternoon at 2 PM or later would work for us.,\n",
              " Please let me know what time we could meet.,\n",
              " Thank you,,\n",
              " Phillip,\n",
              " Phillip,,\n",
              " This section pertains to terminated employees who are paid out in the year following the termination event.,\n",
              " The way the tax law works, the tax basis for your share distribution will be based on the closing stock price the day preceding notification to the transfer agent.,\n",
              " As such, we will distribute net shares calculating the proper withholding at fair market value the day prior to notifying the transfer agent.,\n",
              " We will be distributing the shares reflected on your 9/30/01 statement (6,606 shares plus cash for fractional shares).,\n",
              " If you would prefer to settle the taxes with a personal check, we can distribute gross shares.,\n",
              " Please let me know you preference.,\n",
              " As you know, we are in the process of transferring recordkeeping services from NTRC to Hewitt.,\n",
              " As such, we have a CPA, Larry Lewis, working with us to audit and set up transition files.,\n",
              " He has become our department expert on the PSA account (much more knowledgeable than myself) and the various plan provision amendments.,\n",
              " If you would like, we can set up a conference call with you, myself, and Larry to go over the payment methodology.,\n",
              " Please let me know a date and time that is convenient for you.,\n",
              " Thanks,,\n",
              " Renee,\n",
              " Renee,,\n",
              " Thank you for digging in to the issue of Deferred Phantom Stock Units.,\n",
              " It is clear that the payment will be made in shares.,\n",
              " However, I still don't understand which date will be used to determine the value and calculate how many shares.,\n",
              " The plan document under VII.,\n",
              " Amount of Benefit Payments reads \"The value of the shares, and resulting payment amount will be based on the closing price of Enron Corp. common stock on the January 1 before the date of payment, and such payment shall be made in shares of Enron Corp. common stock.\",\n",
              " Can you help me interpret this statement and work through the numbers on my account.,\n",
              " Thank you,,\n",
              " Phillip Allen,\n",
              " Let me know when you get the quotes from Pauline.,\n",
              " I am expecting to pay something in the $3,to $5,000 range.,\n",
              " I would like to see the quotes and a description of the work to be done.,\n",
              " It is my understanding that some rock will be removed and replaced with siding.,\n",
              " If they are getting quotes to put up new rock then we will need to clarify.,\n",
              " Jacques is ready to drop in a dollar amount on the release.,\n",
              " If the negotiations stall, it seems like I need to go ahead and cut off the utilities.,\n",
              " Hopefully things will go smoothly.,\n",
              " Phillip,\n",
              " Attendees: Pam Butler,\n",
              " Renee Ratcliff,\n",
              " Larry Lewis,\n",
              " Tom Martin,\n",
              " Scott Neal,\n",
              " Phillip Allen,\n",
              " Greg,,\n",
              " I faxed you the promotional on 10300 Heritage Office Building with the Nimitz post office.,\n",
              " The broker called back shortly after I spoke to you to let me know that the kestrel air park building and the strip center at fm78 & walzem had both sold.,\n",
              " Let me know what you think of this property.,\n",
              " Also, let me know of any other ideas about replacement property.,\n",
              " Phillip,\n",
              " Jim,,\n",
              " Take a look at this spreadsheet.,\n",
              " I tried to calculate the IRR on the port Aransas and Roma post offices.,\n",
              " Is this how your clients usually evaluate these properties?,\n",
              " The Roma deal looks much better.,\n",
              " Phillip,\n",
              " Mery,,\n",
              " This sounds better than the limitations you were describing in the meeting.,\n",
              " We should be able to work with this.,\n",
              " Phillip,\n",
              " Hope you enjoy the posts and feel free to jump in anywhere.,\n",
              " Hope to see you soon!,\n",
              " The Alaskan Knight,\n",
              " All you have to do is sign up for one free offer (such as efax) and then cancel within the offer time frame.,\n",
              " Absolutely free.,\n",
              " Email: franz371...@gmail.com,\n",
              " Site made!,\n",
              " and it seems this is the FIRST site of ragnarok 2 hahaha since the site is new send me your suggestions and comments,\n",
              " Reply,\n",
              " Email: davidr...@optonline.net,\n",
              " Groups: alt.animals.breeders.rabbits, alt.animals.cat, alt.animals.crab, alt.animals.dog, alt.animals.dogs.collies.open-forum, alt.animals.dolphins, alt.animals.eagle.bald, alt.animals.ethics.vegetarian, alt.animals.falcon,\n",
              " This message was cancelled from within Mozilla.,\n",
              " I took a tip from Carri and looked up Rat ASCII's on Google.,\n",
              " Check these out:,\n",
              " \"...there is no companion quite so devoted, so communicative, so loving and so mesmerizing as a rat.\",\n",
              " ~CGoehring,\n",
              " for Books that Speak for Themselves....,\n",
              " Interested in audiobooks?,\n",
              " Come visit irc server: irc.yankeedot.net and join #audiobooks for sharing, discussion and a great trivia game!,\n",
              " large selection of fiction, science fiction and best sellers.,\n",
              " for Books that Speak for Themselves....,\n",
              " Interested in audiobooks?,\n",
              " Come visit irc server: irc.yankeedot.net and join #audiobooks for sharing, discussion and a great trivia game! large selection of fiction, science fiction and best sellers.,\n",
              " Come visit irc server: irc.yankeedot.net and join #audiobooks for sharing, discussion and a great trivia game! large selection of fiction, science fiction and best sellers.,\n",
              " Based on specific intelligence inputs, Army arrested Ghulam Mohiuddin Lone, a LeT man, from Doda district.,\n",
              " During the preliminary interrogation, Lone 'confessed' his involvement in the blasts and gave several vital clues.,\n",
              " The India Diaries,\n",
              " Truly a moment that speaks for itself.,\n",
              " He-he.,\n",
              " _____,\n",
              " Visit Capt. Spastic's Joke List for all the information and options: <>,\n",
              " Capt. Spastic's Demented World is located at: <>,\n",
              " Outlook.jpg,\n",
              " 39K Download,\n",
              " $5250 Deposited Directly to your PayPal account!,\n",
              " Try our ultimate program that will generate a blast of $10 and $8 payments deposited directly to your PayPal account.,\n",
              " All you have to do is become a member and watch your earnings grow!,\n",
              " Thank you for helping us to sell out of our first issue, now let your friends and local news organizations know that a delicious reprint, with a hot spanking new cover by Greg Mannino, is available for order on our website.,\n",
              " Share the love!,\n",
              " The end of the year is a time for compiling statistics - and according to the World Conservation Union (IUCN), the year 2003 has been bad news for plants and non-human animals, with many species now closer to extinction than ever before.,\n",
              " s,\n",
              " Animal News Center Webmaster,\n",
              " Just to let you all know Matt has confirmed the booking for 3rd Dec i s OK.,\n",
              " Just to let you all know Matt has confirmed the booking for 3rd Dec i s OK.,\n",
              " He has also had to pay the £15 each up front so woul d be grateful if you could get the cash to him as soon as poss ible.,\n",
              " Thanks,\n",
              " See you climbing later,\n",
              " Lizzie,\n",
              " I apologize for the following inconvenience, but I have decided to move this group to Yahoo, so that we can post files and photos and other useful things.,\n",
              " So please update whatever you need to and go to,\n",
              " Again I apologize, but it'll be better over there.,\n",
              " R.E. Glenn,\n",
              " Email: franz371...@gmail.com,\n",
              " lol, last news message came out kinda weird, i was trying to browse the japanese website while i changed the text iwas supposed to put up but i ran out of time so there are no real pictures yet... but i'll add the links soon sry.,\n",
              " lol, last news message came out kinda weird, i was trying to browse the japanese website while i changed the text iwas supposed to put up but i ran out of time so there are no real pictures yet... but i'll add the links soon sry.,\n",
              " Reply,\n",
              " Dan I for one was very happy to hear about your quitting smoking.,\n",
              " I've never been a smoker & am a very strong anti-smoker, but I'm an over-eater & so I know how hard it is to change a habit.,\n",
              " Good luck w/it & will pray for you to have the willpower to be smoke-free :),\n",
              " Email: \"Ryan Reynolds\"<rreynol...@cogeco.ca>,\n",
              " Groups: alt.animals.breeders.rabbits,\n",
              " I would like to invite you to come to a site where you can hear talking parakeets that are not just mimicking, but actually talking in sophisticated conversational language.,\n",
              " This is a major breakthrough in the animal intelligence field and a must see/hear for every animal intelligence enthusiast.,\n",
              " http://www.budgieresearch.com,\n",
              " Email: franz371...@gmail.com,\n",
              " November 22th 2005,\n",
              " I got these pictures from tgs, look at all of them if you have time, they're preety cool...,\n",
              " http://www.4gamer.net/news/image/2005.09/20050920111900_21big.html,\n",
              " http://www.4gamer.net/news/image/2005.09/20050919032951_21big.html,\n",
              " http://www.4gamer.net/news/image/2005.09/20050919032951_32big.html,\n",
              " http://www.4gamer.net/news/image/2005.09/20050919032951_39big.html,\n",
              " http://www.4gamer.net/news/image/2005.09/20050919032951_42big.html,\n",
              " http://www.4gamer.net/news/image/2005.09/20050919032951_41big.html,\n",
              " http://www.4gamer.net/news/image/2005.09/20050919032951_40big.html,\n",
              " http://www.4gamer.net/news/image/2005.09/20050917034321_15big.html,\n",
              " http://www.4gamer.net/news/image/2005.09/20050917034321_2big.html,\n",
              " http://www.4gamer.net/news/image/2005.09/20050909152208_14big.html,\n",
              " http://www.4gamer.net/news/image/2005.09/20050917024918_1big.html,\n",
              " btw, they're all from 4gamer.,\n",
              " Reply,\n",
              " Email: \"Sean Figaro\"<sfig...@houston.rr.com>,\n",
              " Groups: alt.animals.cat,\n",
              " I have a friend that has to get rid of one of her cats because of allergies, he is the youngest at 3 years old black, long hair, incredibly friendly.,\n",
              " He comes with everything, litter box, carrier, ect.,\n",
              " Needs good family in Houston or surronding area, needs lots of attention, very loving.,\n",
              " Email: \"Julie\"<julie...@bellsouth.net>,\n",
              " Groups: alt.animals.cat,\n",
              " Like you said \"the kids egg him on\".,\n",
              " maybe too much .,\n",
              " Sounds like your cat is stressed out .,\n",
              " Maybe he doesn't want to play when they want to..,\n",
              " He didn't take a dislike to the kids for \"no\" reason!,\n",
              " cats react to the treatment they receive, they are not toys.,\n",
              " maybe the cat needs a \"new' home.........,\n",
              " Julie,\n",
              " I am looking for people who would like to play D&D 3.5 and live in or around the Chillicothe, OH area.,\n",
              " We have two people so far, and I am able to DM...although DM's are welcome.,\n",
              " The games will have to take place on Fri, Sat, or Sun.,\n",
              " Please let me know if this sounds good, and if you have any question, please ask.,\n",
              " Thank you very much and we hope to hear from you soon!,\n",
              " Email: BBC Breaking News Alert <dailyem...@ebs.bbc.co.uk>,\n",
              " The former Iraqi leader Saddam Hussein is refusing to enter the Baghdad courtroom, in protest at how his trial is being conducted.,\n",
              " For more details: http://www.bbc.co.uk/news,\n",
              " ------------------------------------------------,\n",
              " This e-mail is never sent unsolicited.,\n",
              " You have received this BBC Breaking News Alert because you subscribed to it or, someone forwarded it to you.,\n",
              " To unsubscribe (or subscribe if this message was forwarded to you) go to: http://www.bbc.co.uk/email,\n",
              " [http://www.usatoday.com/tech/science/space/2005-03-09-nasa-search_x.htm?csp=34],\n",
              " While there have been spasms of speculation about the Bush administration naming a replacement for O'Keefe, no nominee has been declared.,\n",
              " Shuttle veteran and longtime NASA executive Fred Gregory is temporarily at the helm of the 18,000-person agency.,\n",
              " It looks like the future of space exploration might as well be with the space tourists .,\n",
              " Very sad too since NASA's astronaut's may not fly in the next five years.,\n",
              " --,\n",
              " Posted by Hidden Nook to Hidden Nook at 3/9/2005 11:16:00 PM,\n",
              " Hello dear list members,,\n",
              " The multiple planetary afflictions are taking their toll.,\n",
              " Currently, Mercury and Venus is conjunct and the conjunction is being closely aspected by Rahu.,\n",
              " In Pakistan national chart besides the transit affliction to transit Venus in the fourth house by FMs Rahu and Mercury, natal Saturn and Venus are also under the close affliction of transit Rahu.,\n",
              " This has resulted in a major rail accident in Pakistan involving three trains and involving more than 300 deaths.,\n",
              " In Indian national chart besides the transit affliction to transit Mercury by Rahu and Venus the natal Saturn and Venus are also under the transit affliction of Rahu which has resulted into floods in many parts of the country taking toll of human lives, properties, etc.,\n",
              " V K Choudhry,\n",
              " Email: \"The Cat Album\"<thecatal...@hotmail.com>,\n",
              " Groups: alt.animals.cat,\n",
              " - U P D A T E D -,\n",
              " -Page 71, 72 and 73 with 48 new pictures of cats and kittens are added to The Cat Album today.,\n",
              " Take a look !!!,\n",
              " Now more than 1100 pictures.,\n",
              " www.thecatalbum.com,\n",
              " If you are new to \"The Cat Album\" I can tell you that you'll find more than 1100 pictures of cute cats at this site.,\n",
              " Most of them are of high quality.,\n",
              " You'll also find some stories.,\n",
              " The idea about this site is that the visitors can send in their own pictures and get them added to the album.,\n",
              " That way we'll all be part of building a huge archive of cat pictures.,\n",
              " And if you send me a story, that would be great to!,\n",
              " Please join our growing family !!!! :-),\n",
              " http://www.thecatalbum.com,\n",
              " purrs,\n",
              " Runar,\n",
              " Email: \"Andre\"<webmas...@globelingerie.com>,\n",
              " Heh, yep, I like to wear silk chemises, panties even stockings with garter belt.,\n",
              " I feel great in it.,\n",
              " First time I started wearing woman's lingerie I was very young.,\n",
              " I didn't fought is it good or not than.,\n",
              " Later on I red somewhere that it's seakness.,\n",
              " I was ashamed to be in friendship with girls ... until I undrstood that it's not seakness as well as women wearing men's pants isn't seak :),\n",
              " Now I have wife and son.,\n",
              " My wife know my harmless secret and supports me.,\n",
              " So, I'm Men and love to wear women's lingerie :-).,\n",
              " http://lingerie.selectedsex.com,\n",
              " Email: \"TJO\"<ded69...@hotmail.com>,\n",
              " There nothing wrong with men dressing in lingerie, when I get home at night the first thing I do is change into a nice silky nightgown or nightie, love the feel.,\n",
              " Email: Adelia Smith <adorabledelia6...@gmail.com>,\n",
              " Today's Article,\n",
              " Frequent travelers and executives are among the masses that get a lot of discount in the airfare.,\n",
              " It is easy to get discount airfare for them since they travel very frequently.,\n",
              " Cheap air tickets for Corporate,\n",
              " Some of the corporate also get cheap air tickets because they tie up with some of the airlines for a certain period based on the discount and services they get from the airlines.,\n",
              " Corporate plans are clubbed with other services through some agencies to provide better service for their staff.,\n",
              " Promotional discount airfare,\n",
              " Some countries like Malaysia and Singapore promote trading for foreign visitors during some part of the year.,\n",
              " During this period, they offer cheap air tickets to their country on certain flights.,\n",
              " If you can check with the other airlines during this period, you may get excellent discount airfare, which may even surprise you.,\n",
              " COMPLETE ARTICLE AT: http://discountairlineticket.blogspot.com/2005/10/some-techniques-to-...,\n",
              " Several years ago I developed a short paper and pencil screening test which, in a small pilot study, discriminated between ADHD, LD, and control subjects.,\n",
              " I recently converted this test to an online test in order to norm it to a larger population and, subsequently, to make it available to any one who has access to a computer and the Internet.,\n",
              " The test itself is what is called a substitution test.,\n",
              " It has two parts, both of which are timed for 90 seconds each and the differential between the resulting two scores determines the likelihood of having a learning disability or attention deficit disorder.,\n",
              " I am in need of test subjects and hope you will take it.,\n",
              " The test, along with an information form, is available at: .,\n",
              " I think a test like this one is much needed.,\n",
              " A person can take it directly instead of others completing behavioral checklists or a completing a lengthy program intensive test like TOVA.,\n",
              " Perhaps you are willing to recommend this site and, if you have a website, place a link on your website.,\n",
              " are there any sadists out there who share the same tastes as i do ?,\n",
              " i dont know what it is , but since a very young age i have had a strange but very gratifying urge to torture or maime animals.,\n",
              " i am deadly serious, i really do get sexual releif from even hearing of torture of animals, now some people may call me a brute or a coward but i cant help my true feelings.,\n",
              " badger baiting is natrually a huge turn on, so i thought a few words in this group might uncover some mutual enthusiasts.,\n",
              " sincere appologies to anyone who is offended by my request but my request is genuine.,\n",
              " ----== Posted via Newsfeed.Com - Unlimited-Uncensored-Secure Usenet News==----,\n",
              " ----== Posted via Newsfeed.Com - Unlimited-Uncensored-Secure Usenet News==----,\n",
              " ----== Posted via Newsfeed.Com - Unlimited-Uncensored-Secure Usenet News==----,\n",
              " The #1 Newsgroup Service in the World!,\n",
              " >100,000 Newsgroups,\n",
              " ---= 19 East/West-Coast Specialized Servers - Total Privacy via Encryption =---,\n",
              " ----== Posted via Newsfeed.Com - Unlimited-Uncensored-Secure Usenet News==----,\n",
              " ----== Posted via Newsfeed.Com - Unlimited-Uncensored-Secure Usenet News==----,\n",
              " ----== Posted via Newsfeed.Com - Unlimited-Uncensored-Secure Usenet News==----,\n",
              " The #1 Newsgroup Service in the World!,\n",
              " >100,000 Newsgroups,\n",
              " ---= 19 East/West-Coast Specialized Servers - Total Privacy via Encryption =---,\n",
              " Greetings.,\n",
              " My name is Bill Gottlieb:,\n",
              " I'm a freelance journalist specializing in health, with 30 years experience.,\n",
              " I'm the author of three books (including the 1.3 million seller ALTERNATIVE CURES) and hundreds of magazine articles, and worked for 20 years at Rodale Press, as a writer and as editor-in-chief of Prevention and Rodale Books.,\n",
              " Currently, I am writing a book on natural supplements to aid weight loss, with Harry Preuss, MD, a Professor of Medicine at Georgetown University; it is scheduled for publication by Broadway (Random House) in January 2007.,\n",
              " I am seeking anecdotes (first name, last initial) from dieters who successfully used a natural supplement to assist their weight loss; the therapeutic agents under discussion include HCA, MCT, green or oolong tea extract, CLA, chromium, starch-blockers, chitosan, 5-HTP, hoodia and caralluma, HMB, and BCAA.,\n",
              " If you've successfully used any of these supplement to aid weight loss, please write me at gottlie...@yahoo.com and let me know, telling me about your experience.,\n",
              " Thank you for your time and attention.,\n",
              " Warm regards,,\n",
              " Bill Gottlieb,\n",
              " Once upon a time (in 2001, to be specific), the Coca-Cola corporation built a bottling plant in a small and remote Indian village in the state of Kerala.,\n",
              " In exchange for sucking vast amounts of water out of the local land, the mighty corporation promised to bring the people great wealth.,\n",
              " But within a few short months, the village people began to notice their wells were running dry, so they complained to the corporation.,\n",
              " Coca-Cola calmed the concerns of the people and attempted to win back their favor by giving them vast amounts of free fertilizer, saying it would grow bountiful crops beyond their wildest dreams.,\n",
              " After several years of use, we arrive at the present day when the village people have suddenly discovered the fertilizer is actually the bottling plant's waste sludge and is laden with cadmium, a highly toxic, cancer-causing heavy metal.,\n",
              " The village soil and water are now too heavily contaminated to safely occupy human life, so the plant was shut down last week.,\n",
              " Moral of the story: Don't drink Coke..........drink Pepsi!,\n",
              " Just kidding, Pepsi is actually in the process of being thrown out of India for similar crimes, as well.,\n",
              " The Greater New Orleans Fair Housing Action Center (GNOFHAC) filed a housing discrimination complaint against the Housing Authority of New Orleans (HANO) last week.,\n",
              " The complaint, filed with the United States Department of Housing and Urban Development, accuses HANO of violating a 2003 enforcement agreement entered into between former St. Thomas Housing Development residents, the City of New Orleans, HANO, and the U.S. Department of Housing and Urban Development during the HOPE VI redevelopment of St. Thomas, now known as River Garden.,\n",
              " The current complaints allege that HANO has not provided qualified former St. Thomas residents a preference with respect to available public housing units at River Garden per the 2003 agreement.,\n",
              " Upon return to New Orleans after the Hurricane Katrina evacuation, former residents have been informed that there are no available public housing units at River Garden because those units have been reserved for HANO employees.,\n",
              " Therefore, public housing residents have been unable to secure the units for which they qualified prior to the storm and are left homeless, as a result.,\n",
              " \"In the wake of Hurricane Katrina, affordable housing in New Orleans is more scarce than ever.,\n",
              " As such, it is essential that HANO comply with 2003 enforcement agreement,\" said James Perry, GNOFHAC Executive Director,\n",
              " Crude-oil prices rose Wednesday as strengthening Hurricane Rita, now a Category 5 storm, threatened to disrupt oil production in the Gulf of Mexico.,\n",
              " New York's main contract, light sweet crude for delivery in November rose 60 cents to close at 66.80 dollars per barrel.,\n",
              " In London, the price of Brent North Sea crude for November delivery advanced 53 cents to 64.73 dollars.,\n",
              " After brushing the Florida Keys islands on Tuesday, Rita packed winds of about 240 kilometers an hour as it headed across the Gulf of Mexico.,\n",
              " The US National Hurricane Center said Rita was \"extremely dangerous\" and could become a top-level category five storm on the Saffir-Simpson scale.,\n",
              " The storm threatened oil installations in the Gulf of Mexico where about one-quarter of US oil operations are based.,\n",
              " Oil companies evacuated offshore facilities as the storm's progress kept global markets on tenterhooks.,\n",
              " In Texas, BP shut its 460,000 barrels per day refinery and Marathon shut its 72,000 bpd plant.,\n",
              " Valero said it was reducing rates at its 243,000 bpd Texas City refinery and its 85,000 bpd Houston refinery.,\n",
              " Exxon Mobil released nonessential staff from two giant Texas plants.,\n",
              " Last month, Katrina devastated refineries in Louisiana and Mississippi and sent prices to a record high of 70.85 dollars a barrel.,\n",
              " please support the link bellow which is excelnt ,thank for your click and attention:,\n",
              " ...]"
            ]
          },
          "metadata": {},
          "execution_count": 127
        }
      ]
    },
    {
      "cell_type": "code",
      "source": [
        "adj_subj"
      ],
      "metadata": {
        "colab": {
          "base_uri": "https://localhost:8080/"
        },
        "id": "xKNla8IhAeWD",
        "outputId": "efb494fe-260e-4ecb-efb8-a4d37141b89e"
      },
      "execution_count": null,
      "outputs": [
        {
          "output_type": "execute_result",
          "data": {
            "text/plain": [
              "[(Nervous, make),\n",
              " (stated, include),\n",
              " (driven, is),\n",
              " (secular, was),\n",
              " (continued, helped),\n",
              " (Israeli, helped),\n",
              " (local, remain),\n",
              " (Palestinian, remain),\n",
              " (festering, remains),\n",
              " (Palestinian, remains),\n",
              " (wide, condemned),\n",
              " (interim, issued),\n",
              " (most, feared),\n",
              " (most, intend),\n",
              " (whole, had),\n",
              " (Swedish, printed),\n",
              " (international, opened),\n",
              " (more, are),\n",
              " (cute, going),\n",
              " (little, going),\n",
              " (extremist, are),\n",
              " (Armed, broke),\n",
              " (intrepid, has),\n",
              " (Iraqi, wavering),\n",
              " (hottest, is),\n",
              " (Arial, make),\n",
              " (new, have),\n",
              " (nuclear, have),\n",
              " (other, do),\n",
              " (Arial, were),\n",
              " (immediate, spent),\n",
              " (little, is),\n",
              " (main, say),\n",
              " (whole, is),\n",
              " (ulterior, was),\n",
              " (hoc, hoc),\n",
              " (radical, expressed),\n",
              " (Shiite, expressed),\n",
              " (Muslim, expressed),\n",
              " (direct, work),\n",
              " (direct, occur),\n",
              " (new, is),\n",
              " (short, structures),\n",
              " (attached, See),\n",
              " (extra, is),\n",
              " (fun, comes),\n",
              " (ultimate, been),\n",
              " (True, is),\n",
              " (Raw, is),\n",
              " (historical, settle),\n",
              " (only, is),\n",
              " (mean, has),\n",
              " (delicious, is),\n",
              " (last, came),\n",
              " (former, refusing),\n",
              " (Iraqi, refusing),\n",
              " (planetary, taking),\n",
              " (wrong, is),\n",
              " (Frequent, are),\n",
              " (badger, is),\n",
              " (few, uncover),\n",
              " (sincere, is),\n",
              " (therapeutic, include),\n",
              " (mighty, promised),\n",
              " (current, allege),\n",
              " (affordable, is),\n",
              " (main, rose),\n",
              " (private, serve),\n",
              " (substantial, emerge),\n",
              " (Only, reveal),\n",
              " (private, been),\n",
              " (corporate, was),\n",
              " (Interim, talks),\n",
              " (Palestinian, talks),\n",
              " (Palestinian, be),\n",
              " (new, threatening),\n",
              " (political, threatening),\n",
              " (Palestinian, announced),\n",
              " (militant, announced),\n",
              " (Israeli, unleashed),\n",
              " (Israeli, need),\n",
              " (only, lashing),\n",
              " (big, is),\n",
              " (many, speed),\n",
              " (nearest, is),\n",
              " (Certain, engage),\n",
              " (fun, are),\n",
              " (forensic, is),\n",
              " (irish, is),\n",
              " (only, is),\n",
              " (top, going),\n",
              " (big/, is),\n",
              " (main, is),\n",
              " (most, suck),\n",
              " (Private, running),\n",
              " (veiled, is),\n",
              " (female, laid),\n",
              " (best, are),\n",
              " (best, are),\n",
              " (easiest, be),\n",
              " (french, find),\n",
              " (French, are),\n",
              " (High, pup),\n",
              " (okay, is),\n",
              " (great, compared),\n",
              " (awesome, did),\n",
              " (amazing, is),\n",
              " (Great, recommended),\n",
              " (Holy, was),\n",
              " (best, had),\n",
              " (front, was),\n",
              " (Worst, are),\n",
              " (next, found),\n",
              " (little, has),\n",
              " (botched, took),\n",
              " (lowest, is),\n",
              " (professional, was)]"
            ]
          },
          "metadata": {},
          "execution_count": 128
        }
      ]
    }
  ]
}