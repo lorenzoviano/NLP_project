{
  "cells": [
    {
      "cell_type": "markdown",
      "metadata": {
        "id": "D6YMaSxxMAJy"
      },
      "source": [
        "# **Exercise 2: Part of Speech Tagging and Neural Language Modeling [SOLUTIONS]**\n",
        "\n",
        "In this exercise, we will cover parts from lectures 4 (Neural Language Modeling) and 5 (Part of Speech Tagging).\n",
        "The exercise mostly consists of python implementations of POS tagging with HMM and Viterbi decoding, where you have to fill in the blank start in parts that start with `# FILL IN:`\n",
        "Additionally, you will be directed to follow a tutorial on implementing transformers.\n",
        "\n",
        "Relevant SLP chapters:\n",
        "* POS Tagging: Chapter 17\n",
        "* Neural Language Modeling: Chapter 9, 10, 11"
      ]
    },
    {
      "cell_type": "markdown",
      "metadata": {
        "id": "LmZfMZSwMAJ0"
      },
      "source": [
        "## **Ex.1: POS tagging using a Hidden Markov Model**\n",
        "\n",
        "Let's start by downloading a dataset and see what the data looks like.\n",
        "\n",
        "We make use of a sample from the *CONLL-2003++* dataset, from here: [https://github.com/ZihanWangKi/CrossWeigh](https://github.com/ZihanWangKi/CrossWeigh)."
      ]
    },
    {
      "cell_type": "code",
      "execution_count": null,
      "metadata": {
        "ExecuteTime": {
          "end_time": "2024-11-04T12:28:53.951969577Z",
          "start_time": "2024-11-04T12:28:48.661689751Z"
        },
        "id": "4JlSJ0E6MAJ0"
      },
      "outputs": [],
      "source": [
        "!pip install -q pandas scikit-learn matplotlib"
      ]
    },
    {
      "cell_type": "code",
      "execution_count": null,
      "metadata": {
        "ExecuteTime": {
          "end_time": "2024-11-04T12:28:57.699893225Z",
          "start_time": "2024-11-04T12:28:56.434282489Z"
        },
        "id": "AbVxJBUXMAJ1"
      },
      "outputs": [],
      "source": [
        "import sys\n",
        "import time\n",
        "from collections import Counter\n",
        "\n",
        "import matplotlib.pyplot as plt\n",
        "import numpy as np\n",
        "import pandas as pd\n",
        "from sklearn.metrics import f1_score\n",
        "\n",
        "np.set_printoptions(linewidth=np.inf, precision=2)  # To not have matrices wrap around when printing"
      ]
    },
    {
      "cell_type": "markdown",
      "source": [
        "We have created a repository where the data can be accessed. Let's clone it and change directory to the one containing the data files."
      ],
      "metadata": {
        "id": "6sIbfW0aPCsp"
      }
    },
    {
      "cell_type": "code",
      "source": [
        "!git clone https://github.com/LAGoM-NLP/NLP-data-repo.git"
      ],
      "metadata": {
        "colab": {
          "base_uri": "https://localhost:8080/"
        },
        "id": "rVA4yDq_OhbK",
        "outputId": "8c39422d-7c19-4bdc-c0e7-0be13a94fb3b"
      },
      "execution_count": null,
      "outputs": [
        {
          "output_type": "stream",
          "name": "stdout",
          "text": [
            "Cloning into 'NLP-data-repo'...\n",
            "remote: Enumerating objects: 10, done.\u001b[K\n",
            "remote: Counting objects: 100% (10/10), done.\u001b[K\n",
            "remote: Compressing objects: 100% (8/8), done.\u001b[K\n",
            "remote: Total 10 (delta 0), reused 10 (delta 0), pack-reused 0 (from 0)\u001b[K\n",
            "Receiving objects: 100% (10/10), 1005.71 KiB | 7.86 MiB/s, done.\n"
          ]
        }
      ]
    },
    {
      "cell_type": "code",
      "source": [
        "%cd /content/NLP-data-repo/exercise2/"
      ],
      "metadata": {
        "colab": {
          "base_uri": "https://localhost:8080/"
        },
        "id": "0E7wuA5DPeF6",
        "outputId": "ec387cc8-f66c-42a3-b739-37043868e341"
      },
      "execution_count": null,
      "outputs": [
        {
          "output_type": "stream",
          "name": "stdout",
          "text": [
            "/content/NLP-data-repo/exercise2\n"
          ]
        }
      ]
    },
    {
      "cell_type": "code",
      "execution_count": null,
      "metadata": {
        "ExecuteTime": {
          "end_time": "2024-11-04T12:29:16.818821617Z",
          "start_time": "2024-11-04T12:29:16.809578042Z"
        },
        "colab": {
          "base_uri": "https://localhost:8080/"
        },
        "id": "_TzJLp1iMAJ2",
        "outputId": "74eb0538-191b-48da-d6aa-7a04f6090635"
      },
      "outputs": [
        {
          "output_type": "stream",
          "name": "stdout",
          "text": [
            "-DOCSTART-\t-X-\t-X-\tO\n",
            "\n",
            "CRICKET\tNNP\tB-NP\tO\n",
            "-\t:\tO\tO\n",
            "LEICESTERSHIRE\tNNP\tB-NP\tB-ORG\n",
            "TAKE\tNNP\tI-NP\tO\n",
            "OVER\tIN\tB-PP\tO\n",
            "AT\tNNP\tB-NP\tO\n",
            "TOP\tNNP\tI-NP\tO\n",
            "AFTER\tNNP\tI-NP\tO\n",
            "INNINGS\tNNP\tI-NP\tO\n",
            "VICTORY\tNN\tI-NP\tO\n",
            ".\t.\tO\tO\n",
            "\n",
            "LONDON\tNNP\tB-NP\tB-LOC\n",
            "1996-08-30\tCD\tI-NP\tO\n",
            "\n",
            "West\tNNP\tB-NP\tB-MISC\n",
            "Indian\tNNP\tI-NP\tI-MISC\n",
            "all-rounder\tNN\tI-NP\tO\n",
            "Phil\tNNP\tI-NP\tB-PER\n"
          ]
        }
      ],
      "source": [
        "# Check out what the file looks like\n",
        "with open(\"data/conllpp_dev.txt\", \"r\") as f:\n",
        "    for idx, line in enumerate(f):\n",
        "        if idx > 20:\n",
        "            break\n",
        "        print(\"\\t\".join(line.strip().split()))"
      ]
    },
    {
      "cell_type": "markdown",
      "metadata": {
        "id": "oFIEjajhMAJ2"
      },
      "source": [
        "### File format\n",
        "\n",
        "Each file contains sentences, where each line is a word and some annotations. The sentences are seperated by a white line. The first item on each line is a word, the second a part-of-speech (POS) tag, the third a syntactic chunk tag and the fourth the named entity tag.\n",
        "\n",
        "Let's start by processing the data so it is a more useful format. We will put everything into lists, so that each item of the list is either the words of the sentence, or the labels of the sentence."
      ]
    },
    {
      "cell_type": "code",
      "execution_count": null,
      "metadata": {
        "ExecuteTime": {
          "end_time": "2024-11-04T12:29:55.016184610Z",
          "start_time": "2024-11-04T12:29:54.792973301Z"
        },
        "colab": {
          "base_uri": "https://localhost:8080/"
        },
        "id": "mWXIKgRUMAJ3",
        "outputId": "4b2d21fd-a7f4-44ac-9fcb-567e1345145d"
      },
      "outputs": [
        {
          "output_type": "stream",
          "name": "stdout",
          "text": [
            "WORDS:  [['eu', 'rejects', 'german', 'call', 'to', 'boycott', 'british', 'lamb', '.'], ['peter', 'blackburn'], ['brussels', '1996-08-22']]\n",
            "POS TAGS:  [['NNP', 'VBZ', 'JJ', 'NN', 'TO', 'VB', 'JJ', 'NN', '.'], ['NNP', 'NNP'], ['NNP', 'CD']]\n",
            "CHUNKS:  [['B-NP', 'B-VP', 'B-NP', 'I-NP', 'B-VP', 'I-VP', 'B-NP', 'I-NP', 'O'], ['B-NP', 'I-NP'], ['B-NP', 'I-NP']]\n",
            "NER TAGS:  [['B-ORG', 'O', 'B-MISC', 'O', 'O', 'O', 'B-MISC', 'O', 'O'], ['B-PER', 'I-PER'], ['B-LOC', 'O']]\n"
          ]
        }
      ],
      "source": [
        "def process_split(path_to_raw_txt):\n",
        "    # these lists will contain the full splits data\n",
        "    words, pos, chunks, ners = [], [], [], []\n",
        "    with open(path_to_raw_txt, \"r\") as f:\n",
        "        # we need buffers for collecting the current sentence\n",
        "        buffer_words, buffer_pos, buffer_chunks, buffer_ners = [], [], [], []\n",
        "        # we will loop over all the lines in the file\n",
        "        for line in f:\n",
        "            line = line.strip()\n",
        "            # The file starts with a -DOCSTART- indicater. skip this line\n",
        "            if line.startswith(\"-DOCSTART-\"):\n",
        "                continue\n",
        "            # if we reach a blank line, we add the complete buffer to the full splits lists\n",
        "            if len(line) == 0:\n",
        "                # make sure we don't add empty buffer to the data lists\n",
        "                if len(buffer_words) != 0:\n",
        "                    words.append(buffer_words)\n",
        "                    pos.append(buffer_pos)\n",
        "                    chunks.append(buffer_chunks)\n",
        "                    ners.append(buffer_ners)\n",
        "                # now we need to reset the buffers for the next sentence\n",
        "                buffer_words, buffer_pos, buffer_chunks, buffer_ners = [], [], [], []\n",
        "            else:\n",
        "                # split the current line into the 4 elements and add them to the current sentence\n",
        "                elements = line.split()\n",
        "                buffer_words.append(elements[0].lower())  # lowercase so we don't have so many unique words\n",
        "                buffer_pos.append(elements[1])\n",
        "                buffer_chunks.append(elements[2])\n",
        "                buffer_ners.append(elements[3])\n",
        "        # if we finished the loop and we still have a sentence in our buffer, we add it to the full list\n",
        "        if len(buffer_words) != 0:\n",
        "            words.append(buffer_words)\n",
        "            pos.append(buffer_pos)\n",
        "            chunks.append(buffer_chunks)\n",
        "            ners.append(buffer_ners)\n",
        "    return words, pos, chunks, ners\n",
        "\n",
        "\n",
        "train_words, train_pos, train_chunks, train_ners = process_split(\"data/conllpp_train.txt\")\n",
        "dev_words, dev_pos, dev_chunks, dev_ners = process_split(\"data/conllpp_dev.txt\")\n",
        "test_words, test_pos, test_chunks, test_ners = process_split(\"data/conllpp_test.txt\")\n",
        "\n",
        "print(\"WORDS: \", train_words[:3])\n",
        "print(\"POS TAGS: \", train_pos[:3])\n",
        "print(\"CHUNKS: \", train_chunks[:3])\n",
        "print(\"NER TAGS: \", train_ners[:3])"
      ]
    },
    {
      "cell_type": "markdown",
      "metadata": {
        "id": "xtA0BwkIMAJ3"
      },
      "source": [
        "The data is usable now and looks good. Now we start implementing a POS model.\n",
        "\n",
        "For our HMM, we will need to prepare several probabilities for our Markov chain.\n",
        "We will collect a set of possible labels and possible tokens from the train data.\n",
        "\n",
        "We add a start-of-sentence (`<SOS>`) token at the beginning of every sentence"
      ]
    },
    {
      "cell_type": "code",
      "execution_count": null,
      "metadata": {
        "ExecuteTime": {
          "end_time": "2024-11-04T12:30:30.730303920Z",
          "start_time": "2024-11-04T12:30:30.636352871Z"
        },
        "id": "aee0xd3cMAJ3",
        "outputId": "4af85d5b-a50f-455a-82b0-8790f056f5e4",
        "colab": {
          "base_uri": "https://localhost:8080/"
        }
      },
      "outputs": [
        {
          "output_type": "stream",
          "name": "stdout",
          "text": [
            "==========\n",
            "Unique words: 21010\n",
            "Number of labels: 46, labels: [('NNP', 34392), ('NN', 23899), ('CD', 19704), ('IN', 19064), ('<SOS>', 14041), ('DT', 13453), ('JJ', 11831), ('NNS', 9903), ('VBD', 8293), ('.', 7389)]\n",
            "Number of transitions: 1143, bigrams: [(('NNP', 'NNP'), 11130), (('CD', 'CD'), 7259), (('NN', 'IN'), 6426), (('IN', 'DT'), 5999), (('DT', 'NN'), 5855), (('JJ', 'NN'), 5428), (('<SOS>', 'NNP'), 5421), (('IN', 'NNP'), 4518), (('NNP', 'CD'), 4002), (('DT', 'JJ'), 3634)]\n"
          ]
        }
      ],
      "source": [
        "count_labels = Counter()\n",
        "count_words = Counter()\n",
        "count_transitions = Counter()\n",
        "\n",
        "# count the words\n",
        "for sent in train_words:\n",
        "    count_words[\"<SOS>\"] += 1\n",
        "    for word in sent:\n",
        "        # remember, we lowercase all the words, to reduce unique number of tokens\n",
        "        count_words[word] += 1\n",
        "\n",
        "# count the labels\n",
        "for labels in train_pos:\n",
        "    count_labels[\"<SOS>\"] += 1\n",
        "    for label in labels:\n",
        "        count_labels[label] += 1\n",
        "\n",
        "    # FILL IN: the loop for counting labels\n",
        "\n",
        "# count the possible transitions for the labels\n",
        "for labels in train_pos:\n",
        "    prev_label = \"<SOS>\"\n",
        "    for label in labels:\n",
        "        count_transitions[(prev_label, label)] += 1\n",
        "        prev_label = label\n",
        "\n",
        "    # FILL IN: the loop for counting the transitions between labels\n",
        "    # the first transition is from the <SOS> token to the first word in the sentence\n",
        "    # tip: store a variable with the conditional label of the transition\n",
        "\n",
        "\n",
        "print(\"=\" * 10)\n",
        "print(\"Unique words: {}\".format(len(count_words)))\n",
        "print(f\"Number of labels: {len(count_labels)}, labels: {count_labels.most_common(10)}\")\n",
        "print(f\"Number of transitions: {len(count_transitions)}, bigrams: {count_transitions.most_common(10)}\")"
      ]
    },
    {
      "cell_type": "markdown",
      "metadata": {
        "id": "YoNZ2-avMAJ4"
      },
      "source": [
        "We counted almost everything, we didn't count the conditional pairs of words and labels yet.\n",
        "\n",
        "To avoid zero probabilities, we create an unknown ('\\<UNK\\>') token. We will only use the most common words as features, the counts of the remaining words are moved towards the unknown token. Given we have 21,000 unique words, we use the 20,000 most common words.\n",
        "\n",
        "We need to take this into account when counting the word-label pairs"
      ]
    },
    {
      "cell_type": "code",
      "execution_count": null,
      "metadata": {
        "ExecuteTime": {
          "end_time": "2024-11-04T12:31:47.212378811Z",
          "start_time": "2024-11-04T12:31:47.170620721Z"
        },
        "id": "Q7DQsyg4MAJ4",
        "outputId": "c5ea1039-6adc-4154-f40d-78cfaefc7983",
        "colab": {
          "base_uri": "https://localhost:8080/"
        }
      },
      "outputs": [
        {
          "output_type": "stream",
          "name": "stdout",
          "text": [
            "Number of unique word-label pairs: 24323 example pairs:\n",
            "word='<SOS>' tag='<SOS>': 14041\n",
            "word='the' tag='DT': 8383\n",
            "word='.' tag='.': 7374\n",
            "word=',' tag=',': 7290\n",
            "word='of' tag='IN': 3815\n",
            "word='in' tag='IN': 3601\n",
            "word='to' tag='TO': 3424\n",
            "word='a' tag='DT': 3184\n",
            "word='and' tag='CC': 2872\n",
            "word='(' tag='(': 2861\n"
          ]
        }
      ],
      "source": [
        "count_observation = Counter()\n",
        "\n",
        "# count the conditional pairs between the words and labels\n",
        "vocab_words = dict(count_words.most_common(20000))\n",
        "for sent, labels in zip(train_words, train_pos):\n",
        "    # add a SOS pair at the beginning of every sentence\n",
        "    count_observation[(\"<SOS>\", \"<SOS>\")] += 1\n",
        "    for word, label in zip(sent, labels):\n",
        "        if word in vocab_words.keys():\n",
        "            count_observation[(word, label)] += 1\n",
        "        else:\n",
        "            count_observation[(\"<UNK>\", label)] += 1\n",
        "\n",
        "    # FILL IN: count all the observation tuples\n",
        "    # don't forget to check if the word is in the vocabulary, otherwise count as <UNK>\n",
        "\n",
        "examples = [\n",
        "    f\"{word=} {tag=}: {count}\"\n",
        "    for (word, tag), count in sorted(count_observation.items(), key=lambda item: item[1], reverse=True)[:10]\n",
        "]\n",
        "examples_str = \"\\n\".join(examples)\n",
        "print(f\"Number of unique word-label pairs: {len(count_observation)} example pairs:\\n{examples_str}\")"
      ]
    },
    {
      "cell_type": "markdown",
      "metadata": {
        "id": "BgZ4TihBMAJ4"
      },
      "source": [
        "Now we counted everything, we can create the probabilities matrices and vectors.\n",
        "We must make sure that we always keep the same order for all our words and labels.\n",
        "So we will create a word and label vocab."
      ]
    },
    {
      "cell_type": "code",
      "execution_count": null,
      "metadata": {
        "ExecuteTime": {
          "end_time": "2024-11-04T12:32:05.473636030Z",
          "start_time": "2024-11-04T12:32:05.439817061Z"
        },
        "id": "QgZbzPj0MAJ4"
      },
      "outputs": [],
      "source": [
        "# Creating the vocabs and mappings between tokens and ids\n",
        "word2id_vocab = {k: i for i, (k, c) in enumerate(count_words.most_common(20000))}\n",
        "word2id_vocab[\"<UNK>\"] = 20000\n",
        "label2id_vocab = {k: i for i, (k, c) in enumerate(count_labels.most_common())}\n",
        "id2label_vocab = {i: k for k, i in label2id_vocab.items()}\n",
        "id2word_vocab = {v: k for k, v in word2id_vocab.items()}"
      ]
    },
    {
      "cell_type": "markdown",
      "metadata": {
        "id": "2UACOUvcMAJ4"
      },
      "source": [
        "Next let us compute the probabilities for the transitions.\n",
        "Since we might have missed a transition, we make use of Laplace smoothing for the transition probabilities.  "
      ]
    },
    {
      "cell_type": "code",
      "execution_count": null,
      "metadata": {
        "ExecuteTime": {
          "end_time": "2024-11-04T12:32:11.528154113Z",
          "start_time": "2024-11-04T12:32:11.272592335Z"
        },
        "id": "MjEmx_0aMAJ4",
        "outputId": "10a996a2-3c57-4948-cb3b-5a300c0d994e",
        "colab": {
          "base_uri": "https://localhost:8080/"
        }
      },
      "outputs": [
        {
          "output_type": "stream",
          "name": "stdout",
          "text": [
            "[1. 1. 1. 1. 1. 1. 1. 1. 1. 1. 1. 1. 1. 1. 1. 1. 1. 1. 1. 1. 1. 1. 1. 1. 1. 1. 1. 1. 1. 1. 1. 1. 1. 1. 1. 1. 1. 1. 1. 1. 1. 1. 1. 1. 1. 1.]\n"
          ]
        }
      ],
      "source": [
        "# Now the transitions\n",
        "# We need to count the total times each label is used as a conditional (the first element in the bigram)\n",
        "conditional_totals = Counter()\n",
        "\n",
        "# FILL IN: create a loop that fills conditional_totals\n",
        "for bigram, count in count_transitions.items():\n",
        "    conditional_totals[bigram[0]] += count\n",
        "\n",
        "# we need the smoothing constant for Laplace smoothing\n",
        "smoothing_constant = len(label2id_vocab)\n",
        "\n",
        "# now we create the probability matrix\n",
        "prob_transition_matrix = np.zeros([len(label2id_vocab), len(label2id_vocab)])\n",
        "for label_i, id_i in label2id_vocab.items():\n",
        "    ## FILL IN: the denominator\n",
        "    denominator = conditional_totals[label_i] + smoothing_constant\n",
        "    for label_j, id_j in label2id_vocab.items():\n",
        "        if (label_i, label_j) in count_transitions:\n",
        "            numerator = count_transitions[(label_i, label_j)] + 1\n",
        "        else:\n",
        "            numerator = 1\n",
        "        # FILL IN: the numerator.\n",
        "        # tip: remember that not every transition exists\n",
        "        prob_transition_matrix[id_i, id_j] = numerator / denominator\n",
        "\n",
        "# this output should be a vector of all 1s\n",
        "print(np.sum(prob_transition_matrix, 1))"
      ]
    },
    {
      "cell_type": "code",
      "execution_count": null,
      "metadata": {
        "ExecuteTime": {
          "end_time": "2024-11-04T12:32:15.947371271Z",
          "start_time": "2024-11-04T12:32:15.909463638Z"
        },
        "id": "IB_i8wwpMAJ4",
        "outputId": "457edf19-c68f-4b6f-bf3a-2cff7653e188",
        "colab": {
          "base_uri": "https://localhost:8080/",
          "height": 363
        }
      },
      "outputs": [
        {
          "output_type": "execute_result",
          "data": {
            "text/plain": [
              "            NNP        NN        CD        IN     <SOS>        DT        JJ  \\\n",
              "NNP    0.330218  0.047199  0.118755  0.052183  0.000030  0.003323  0.011570   \n",
              "NN     0.040002  0.121779  0.028217  0.271479  0.000042  0.007434  0.011743   \n",
              "CD     0.088875  0.065162  0.461538  0.038462  0.000064  0.002352  0.027718   \n",
              "IN     0.237118  0.093871  0.072673  0.017158  0.000052  0.314828  0.077238   \n",
              "<SOS>  0.384894  0.078015  0.076099  0.038049  0.000071  0.092355  0.055086   \n",
              "DT     0.122002  0.434841  0.030445  0.007129  0.000074  0.001485  0.269919   \n",
              "JJ     0.065408  0.461767  0.028664  0.050608  0.000085  0.004933  0.091265   \n",
              "NNS    0.013941  0.021479  0.018381  0.279740  0.000103  0.006506  0.013527   \n",
              "VBD    0.066803  0.031599  0.046137  0.145741  0.000120  0.162441  0.047699   \n",
              ".      0.002188  0.002188  0.002188  0.002188  0.002188  0.002188  0.002188   \n",
              "\n",
              "            NNS       VBD         .  \n",
              "NNP    0.017058  0.057850  0.050314  \n",
              "NN     0.052167  0.064459  0.094703  \n",
              "CD     0.109282  0.003814  0.033630  \n",
              "IN     0.040298  0.000682  0.000840  \n",
              "<SOS>  0.058210  0.003549  0.000426  \n",
              "DT     0.062375  0.003861  0.001411  \n",
              "JJ     0.159990  0.005699  0.016926  \n",
              "NNS    0.008777  0.103779  0.111524  \n",
              "VBD    0.024150  0.002163  0.080380  \n",
              ".      0.002188  0.002188  0.002188  "
            ],
            "text/html": [
              "\n",
              "  <div id=\"df-d60c5bc5-f0bf-494a-91e6-aac4e9dbf290\" class=\"colab-df-container\">\n",
              "    <div>\n",
              "<style scoped>\n",
              "    .dataframe tbody tr th:only-of-type {\n",
              "        vertical-align: middle;\n",
              "    }\n",
              "\n",
              "    .dataframe tbody tr th {\n",
              "        vertical-align: top;\n",
              "    }\n",
              "\n",
              "    .dataframe thead th {\n",
              "        text-align: right;\n",
              "    }\n",
              "</style>\n",
              "<table border=\"1\" class=\"dataframe\">\n",
              "  <thead>\n",
              "    <tr style=\"text-align: right;\">\n",
              "      <th></th>\n",
              "      <th>NNP</th>\n",
              "      <th>NN</th>\n",
              "      <th>CD</th>\n",
              "      <th>IN</th>\n",
              "      <th>&lt;SOS&gt;</th>\n",
              "      <th>DT</th>\n",
              "      <th>JJ</th>\n",
              "      <th>NNS</th>\n",
              "      <th>VBD</th>\n",
              "      <th>.</th>\n",
              "    </tr>\n",
              "  </thead>\n",
              "  <tbody>\n",
              "    <tr>\n",
              "      <th>NNP</th>\n",
              "      <td>0.330218</td>\n",
              "      <td>0.047199</td>\n",
              "      <td>0.118755</td>\n",
              "      <td>0.052183</td>\n",
              "      <td>0.000030</td>\n",
              "      <td>0.003323</td>\n",
              "      <td>0.011570</td>\n",
              "      <td>0.017058</td>\n",
              "      <td>0.057850</td>\n",
              "      <td>0.050314</td>\n",
              "    </tr>\n",
              "    <tr>\n",
              "      <th>NN</th>\n",
              "      <td>0.040002</td>\n",
              "      <td>0.121779</td>\n",
              "      <td>0.028217</td>\n",
              "      <td>0.271479</td>\n",
              "      <td>0.000042</td>\n",
              "      <td>0.007434</td>\n",
              "      <td>0.011743</td>\n",
              "      <td>0.052167</td>\n",
              "      <td>0.064459</td>\n",
              "      <td>0.094703</td>\n",
              "    </tr>\n",
              "    <tr>\n",
              "      <th>CD</th>\n",
              "      <td>0.088875</td>\n",
              "      <td>0.065162</td>\n",
              "      <td>0.461538</td>\n",
              "      <td>0.038462</td>\n",
              "      <td>0.000064</td>\n",
              "      <td>0.002352</td>\n",
              "      <td>0.027718</td>\n",
              "      <td>0.109282</td>\n",
              "      <td>0.003814</td>\n",
              "      <td>0.033630</td>\n",
              "    </tr>\n",
              "    <tr>\n",
              "      <th>IN</th>\n",
              "      <td>0.237118</td>\n",
              "      <td>0.093871</td>\n",
              "      <td>0.072673</td>\n",
              "      <td>0.017158</td>\n",
              "      <td>0.000052</td>\n",
              "      <td>0.314828</td>\n",
              "      <td>0.077238</td>\n",
              "      <td>0.040298</td>\n",
              "      <td>0.000682</td>\n",
              "      <td>0.000840</td>\n",
              "    </tr>\n",
              "    <tr>\n",
              "      <th>&lt;SOS&gt;</th>\n",
              "      <td>0.384894</td>\n",
              "      <td>0.078015</td>\n",
              "      <td>0.076099</td>\n",
              "      <td>0.038049</td>\n",
              "      <td>0.000071</td>\n",
              "      <td>0.092355</td>\n",
              "      <td>0.055086</td>\n",
              "      <td>0.058210</td>\n",
              "      <td>0.003549</td>\n",
              "      <td>0.000426</td>\n",
              "    </tr>\n",
              "    <tr>\n",
              "      <th>DT</th>\n",
              "      <td>0.122002</td>\n",
              "      <td>0.434841</td>\n",
              "      <td>0.030445</td>\n",
              "      <td>0.007129</td>\n",
              "      <td>0.000074</td>\n",
              "      <td>0.001485</td>\n",
              "      <td>0.269919</td>\n",
              "      <td>0.062375</td>\n",
              "      <td>0.003861</td>\n",
              "      <td>0.001411</td>\n",
              "    </tr>\n",
              "    <tr>\n",
              "      <th>JJ</th>\n",
              "      <td>0.065408</td>\n",
              "      <td>0.461767</td>\n",
              "      <td>0.028664</td>\n",
              "      <td>0.050608</td>\n",
              "      <td>0.000085</td>\n",
              "      <td>0.004933</td>\n",
              "      <td>0.091265</td>\n",
              "      <td>0.159990</td>\n",
              "      <td>0.005699</td>\n",
              "      <td>0.016926</td>\n",
              "    </tr>\n",
              "    <tr>\n",
              "      <th>NNS</th>\n",
              "      <td>0.013941</td>\n",
              "      <td>0.021479</td>\n",
              "      <td>0.018381</td>\n",
              "      <td>0.279740</td>\n",
              "      <td>0.000103</td>\n",
              "      <td>0.006506</td>\n",
              "      <td>0.013527</td>\n",
              "      <td>0.008777</td>\n",
              "      <td>0.103779</td>\n",
              "      <td>0.111524</td>\n",
              "    </tr>\n",
              "    <tr>\n",
              "      <th>VBD</th>\n",
              "      <td>0.066803</td>\n",
              "      <td>0.031599</td>\n",
              "      <td>0.046137</td>\n",
              "      <td>0.145741</td>\n",
              "      <td>0.000120</td>\n",
              "      <td>0.162441</td>\n",
              "      <td>0.047699</td>\n",
              "      <td>0.024150</td>\n",
              "      <td>0.002163</td>\n",
              "      <td>0.080380</td>\n",
              "    </tr>\n",
              "    <tr>\n",
              "      <th>.</th>\n",
              "      <td>0.002188</td>\n",
              "      <td>0.002188</td>\n",
              "      <td>0.002188</td>\n",
              "      <td>0.002188</td>\n",
              "      <td>0.002188</td>\n",
              "      <td>0.002188</td>\n",
              "      <td>0.002188</td>\n",
              "      <td>0.002188</td>\n",
              "      <td>0.002188</td>\n",
              "      <td>0.002188</td>\n",
              "    </tr>\n",
              "  </tbody>\n",
              "</table>\n",
              "</div>\n",
              "    <div class=\"colab-df-buttons\">\n",
              "\n",
              "  <div class=\"colab-df-container\">\n",
              "    <button class=\"colab-df-convert\" onclick=\"convertToInteractive('df-d60c5bc5-f0bf-494a-91e6-aac4e9dbf290')\"\n",
              "            title=\"Convert this dataframe to an interactive table.\"\n",
              "            style=\"display:none;\">\n",
              "\n",
              "  <svg xmlns=\"http://www.w3.org/2000/svg\" height=\"24px\" viewBox=\"0 -960 960 960\">\n",
              "    <path d=\"M120-120v-720h720v720H120Zm60-500h600v-160H180v160Zm220 220h160v-160H400v160Zm0 220h160v-160H400v160ZM180-400h160v-160H180v160Zm440 0h160v-160H620v160ZM180-180h160v-160H180v160Zm440 0h160v-160H620v160Z\"/>\n",
              "  </svg>\n",
              "    </button>\n",
              "\n",
              "  <style>\n",
              "    .colab-df-container {\n",
              "      display:flex;\n",
              "      gap: 12px;\n",
              "    }\n",
              "\n",
              "    .colab-df-convert {\n",
              "      background-color: #E8F0FE;\n",
              "      border: none;\n",
              "      border-radius: 50%;\n",
              "      cursor: pointer;\n",
              "      display: none;\n",
              "      fill: #1967D2;\n",
              "      height: 32px;\n",
              "      padding: 0 0 0 0;\n",
              "      width: 32px;\n",
              "    }\n",
              "\n",
              "    .colab-df-convert:hover {\n",
              "      background-color: #E2EBFA;\n",
              "      box-shadow: 0px 1px 2px rgba(60, 64, 67, 0.3), 0px 1px 3px 1px rgba(60, 64, 67, 0.15);\n",
              "      fill: #174EA6;\n",
              "    }\n",
              "\n",
              "    .colab-df-buttons div {\n",
              "      margin-bottom: 4px;\n",
              "    }\n",
              "\n",
              "    [theme=dark] .colab-df-convert {\n",
              "      background-color: #3B4455;\n",
              "      fill: #D2E3FC;\n",
              "    }\n",
              "\n",
              "    [theme=dark] .colab-df-convert:hover {\n",
              "      background-color: #434B5C;\n",
              "      box-shadow: 0px 1px 3px 1px rgba(0, 0, 0, 0.15);\n",
              "      filter: drop-shadow(0px 1px 2px rgba(0, 0, 0, 0.3));\n",
              "      fill: #FFFFFF;\n",
              "    }\n",
              "  </style>\n",
              "\n",
              "    <script>\n",
              "      const buttonEl =\n",
              "        document.querySelector('#df-d60c5bc5-f0bf-494a-91e6-aac4e9dbf290 button.colab-df-convert');\n",
              "      buttonEl.style.display =\n",
              "        google.colab.kernel.accessAllowed ? 'block' : 'none';\n",
              "\n",
              "      async function convertToInteractive(key) {\n",
              "        const element = document.querySelector('#df-d60c5bc5-f0bf-494a-91e6-aac4e9dbf290');\n",
              "        const dataTable =\n",
              "          await google.colab.kernel.invokeFunction('convertToInteractive',\n",
              "                                                    [key], {});\n",
              "        if (!dataTable) return;\n",
              "\n",
              "        const docLinkHtml = 'Like what you see? Visit the ' +\n",
              "          '<a target=\"_blank\" href=https://colab.research.google.com/notebooks/data_table.ipynb>data table notebook</a>'\n",
              "          + ' to learn more about interactive tables.';\n",
              "        element.innerHTML = '';\n",
              "        dataTable['output_type'] = 'display_data';\n",
              "        await google.colab.output.renderOutput(dataTable, element);\n",
              "        const docLink = document.createElement('div');\n",
              "        docLink.innerHTML = docLinkHtml;\n",
              "        element.appendChild(docLink);\n",
              "      }\n",
              "    </script>\n",
              "  </div>\n",
              "\n",
              "\n",
              "<div id=\"df-1c382104-30a8-4c3e-b7ae-8638450a4af9\">\n",
              "  <button class=\"colab-df-quickchart\" onclick=\"quickchart('df-1c382104-30a8-4c3e-b7ae-8638450a4af9')\"\n",
              "            title=\"Suggest charts\"\n",
              "            style=\"display:none;\">\n",
              "\n",
              "<svg xmlns=\"http://www.w3.org/2000/svg\" height=\"24px\"viewBox=\"0 0 24 24\"\n",
              "     width=\"24px\">\n",
              "    <g>\n",
              "        <path d=\"M19 3H5c-1.1 0-2 .9-2 2v14c0 1.1.9 2 2 2h14c1.1 0 2-.9 2-2V5c0-1.1-.9-2-2-2zM9 17H7v-7h2v7zm4 0h-2V7h2v10zm4 0h-2v-4h2v4z\"/>\n",
              "    </g>\n",
              "</svg>\n",
              "  </button>\n",
              "\n",
              "<style>\n",
              "  .colab-df-quickchart {\n",
              "      --bg-color: #E8F0FE;\n",
              "      --fill-color: #1967D2;\n",
              "      --hover-bg-color: #E2EBFA;\n",
              "      --hover-fill-color: #174EA6;\n",
              "      --disabled-fill-color: #AAA;\n",
              "      --disabled-bg-color: #DDD;\n",
              "  }\n",
              "\n",
              "  [theme=dark] .colab-df-quickchart {\n",
              "      --bg-color: #3B4455;\n",
              "      --fill-color: #D2E3FC;\n",
              "      --hover-bg-color: #434B5C;\n",
              "      --hover-fill-color: #FFFFFF;\n",
              "      --disabled-bg-color: #3B4455;\n",
              "      --disabled-fill-color: #666;\n",
              "  }\n",
              "\n",
              "  .colab-df-quickchart {\n",
              "    background-color: var(--bg-color);\n",
              "    border: none;\n",
              "    border-radius: 50%;\n",
              "    cursor: pointer;\n",
              "    display: none;\n",
              "    fill: var(--fill-color);\n",
              "    height: 32px;\n",
              "    padding: 0;\n",
              "    width: 32px;\n",
              "  }\n",
              "\n",
              "  .colab-df-quickchart:hover {\n",
              "    background-color: var(--hover-bg-color);\n",
              "    box-shadow: 0 1px 2px rgba(60, 64, 67, 0.3), 0 1px 3px 1px rgba(60, 64, 67, 0.15);\n",
              "    fill: var(--button-hover-fill-color);\n",
              "  }\n",
              "\n",
              "  .colab-df-quickchart-complete:disabled,\n",
              "  .colab-df-quickchart-complete:disabled:hover {\n",
              "    background-color: var(--disabled-bg-color);\n",
              "    fill: var(--disabled-fill-color);\n",
              "    box-shadow: none;\n",
              "  }\n",
              "\n",
              "  .colab-df-spinner {\n",
              "    border: 2px solid var(--fill-color);\n",
              "    border-color: transparent;\n",
              "    border-bottom-color: var(--fill-color);\n",
              "    animation:\n",
              "      spin 1s steps(1) infinite;\n",
              "  }\n",
              "\n",
              "  @keyframes spin {\n",
              "    0% {\n",
              "      border-color: transparent;\n",
              "      border-bottom-color: var(--fill-color);\n",
              "      border-left-color: var(--fill-color);\n",
              "    }\n",
              "    20% {\n",
              "      border-color: transparent;\n",
              "      border-left-color: var(--fill-color);\n",
              "      border-top-color: var(--fill-color);\n",
              "    }\n",
              "    30% {\n",
              "      border-color: transparent;\n",
              "      border-left-color: var(--fill-color);\n",
              "      border-top-color: var(--fill-color);\n",
              "      border-right-color: var(--fill-color);\n",
              "    }\n",
              "    40% {\n",
              "      border-color: transparent;\n",
              "      border-right-color: var(--fill-color);\n",
              "      border-top-color: var(--fill-color);\n",
              "    }\n",
              "    60% {\n",
              "      border-color: transparent;\n",
              "      border-right-color: var(--fill-color);\n",
              "    }\n",
              "    80% {\n",
              "      border-color: transparent;\n",
              "      border-right-color: var(--fill-color);\n",
              "      border-bottom-color: var(--fill-color);\n",
              "    }\n",
              "    90% {\n",
              "      border-color: transparent;\n",
              "      border-bottom-color: var(--fill-color);\n",
              "    }\n",
              "  }\n",
              "</style>\n",
              "\n",
              "  <script>\n",
              "    async function quickchart(key) {\n",
              "      const quickchartButtonEl =\n",
              "        document.querySelector('#' + key + ' button');\n",
              "      quickchartButtonEl.disabled = true;  // To prevent multiple clicks.\n",
              "      quickchartButtonEl.classList.add('colab-df-spinner');\n",
              "      try {\n",
              "        const charts = await google.colab.kernel.invokeFunction(\n",
              "            'suggestCharts', [key], {});\n",
              "      } catch (error) {\n",
              "        console.error('Error during call to suggestCharts:', error);\n",
              "      }\n",
              "      quickchartButtonEl.classList.remove('colab-df-spinner');\n",
              "      quickchartButtonEl.classList.add('colab-df-quickchart-complete');\n",
              "    }\n",
              "    (() => {\n",
              "      let quickchartButtonEl =\n",
              "        document.querySelector('#df-1c382104-30a8-4c3e-b7ae-8638450a4af9 button');\n",
              "      quickchartButtonEl.style.display =\n",
              "        google.colab.kernel.accessAllowed ? 'block' : 'none';\n",
              "    })();\n",
              "  </script>\n",
              "</div>\n",
              "\n",
              "    </div>\n",
              "  </div>\n"
            ],
            "application/vnd.google.colaboratory.intrinsic+json": {
              "type": "dataframe",
              "summary": "{\n  \"name\": \"tags_df\",\n  \"rows\": 10,\n  \"fields\": [\n    {\n      \"column\": \"NNP\",\n      \"properties\": {\n        \"dtype\": \"number\",\n        \"std\": 0.13502861684910047,\n        \"min\": 0.002188183807439825,\n        \"max\": 0.38489387378434015,\n        \"num_unique_values\": 10,\n        \"samples\": [\n          0.0668028355160399,\n          0.04000168961730168,\n          0.12200193064528106\n        ],\n        \"semantic_type\": \"\",\n        \"description\": \"\"\n      }\n    },\n    {\n      \"column\": \"NN\",\n      \"properties\": {\n        \"dtype\": \"number\",\n        \"std\": 0.16852064201771302,\n        \"min\": 0.002188183807439825,\n        \"max\": 0.46176745768478356,\n        \"num_unique_values\": 10,\n        \"samples\": [\n          0.031599182986903764,\n          0.12177916701867027,\n          0.43484072176431277\n        ],\n        \"semantic_type\": \"\",\n        \"description\": \"\"\n      }\n    },\n    {\n      \"column\": \"CD\",\n      \"properties\": {\n        \"dtype\": \"number\",\n        \"std\": 0.13549206748920586,\n        \"min\": 0.002188183807439825,\n        \"max\": 0.46153846153846156,\n        \"num_unique_values\": 10,\n        \"samples\": [\n          0.046137210140574314,\n          0.028216608938075524,\n          0.03044479097052053\n        ],\n        \"semantic_type\": \"\",\n        \"description\": \"\"\n      }\n    },\n    {\n      \"column\": \"IN\",\n      \"properties\": {\n        \"dtype\": \"number\",\n        \"std\": 0.1055481005784462,\n        \"min\": 0.002188183807439825,\n        \"max\": 0.27973977695167285,\n        \"num_unique_values\": 10,\n        \"samples\": [\n          0.14574071849092876,\n          0.27147925994762184,\n          0.007128536422365783\n        ],\n        \"semantic_type\": \"\",\n        \"description\": \"\"\n      }\n    },\n    {\n      \"column\": \"<SOS>\",\n      \"properties\": {\n        \"dtype\": \"number\",\n        \"std\": 0.0006699661167991467,\n        \"min\": 2.9666548000474666e-05,\n        \"max\": 0.002188183807439825,\n        \"num_unique_values\": 10,\n        \"samples\": [\n          0.00012014898474107894,\n          4.224043254202923e-05,\n          7.425558773297691e-05\n        ],\n        \"semantic_type\": \"\",\n        \"description\": \"\"\n      }\n    },\n    {\n      \"column\": \"DT\",\n      \"properties\": {\n        \"dtype\": \"number\",\n        \"std\": 0.10458227565569596,\n        \"min\": 0.001485111754659538,\n        \"max\": 0.314828418511911,\n        \"num_unique_values\": 10,\n        \"samples\": [\n          0.16244142736993872,\n          0.007434316127397145,\n          0.001485111754659538\n        ],\n        \"semantic_type\": \"\",\n        \"description\": \"\"\n      }\n    },\n    {\n      \"column\": \"JJ\",\n      \"properties\": {\n        \"dtype\": \"number\",\n        \"std\": 0.079392165982429,\n        \"min\": 0.002188183807439825,\n        \"max\": 0.26991906140937105,\n        \"num_unique_values\": 10,\n        \"samples\": [\n          0.04769914694220834,\n          0.011742840246684125,\n          0.26991906140937105\n        ],\n        \"semantic_type\": \"\",\n        \"description\": \"\"\n      }\n    },\n    {\n      \"column\": \"NNS\",\n      \"properties\": {\n        \"dtype\": \"number\",\n        \"std\": 0.048934301882424466,\n        \"min\": 0.002188183807439825,\n        \"max\": 0.15998979331462107,\n        \"num_unique_values\": 10,\n        \"samples\": [\n          0.024149945932956867,\n          0.0521669341894061,\n          0.0623746936957006\n        ],\n        \"semantic_type\": \"\",\n        \"description\": \"\"\n      }\n    },\n    {\n      \"column\": \"VBD\",\n      \"properties\": {\n        \"dtype\": \"number\",\n        \"std\": 0.03682323211030532,\n        \"min\": 0.0006821282401091405,\n        \"max\": 0.10377942998760843,\n        \"num_unique_values\": 10,\n        \"samples\": [\n          0.002162681725339421,\n          0.06445890005913661,\n          0.003861290562114799\n        ],\n        \"semantic_type\": \"\",\n        \"description\": \"\"\n      }\n    },\n    {\n      \"column\": \".\",\n      \"properties\": {\n        \"dtype\": \"number\",\n        \"std\": 0.042727375698289445,\n        \"min\": 0.00042592461134379216,\n        \"max\": 0.11152416356877323,\n        \"num_unique_values\": 10,\n        \"samples\": [\n          0.08037967079178181,\n          0.09470304975922954,\n          0.0014108561669265612\n        ],\n        \"semantic_type\": \"\",\n        \"description\": \"\"\n      }\n    }\n  ]\n}"
            }
          },
          "metadata": {},
          "execution_count": 11
        }
      ],
      "source": [
        "# Lets have a quick look at a part of the transition matrix\n",
        "tags_df = pd.DataFrame(prob_transition_matrix, columns=label2id_vocab.keys(), index=label2id_vocab.keys())\n",
        "tags_df.iloc[:10, :10]"
      ]
    },
    {
      "cell_type": "markdown",
      "metadata": {
        "id": "b3hcJHMzMAJ4"
      },
      "source": [
        "And finally we compute the state observation probabilities, for a word given a label.\n",
        "Even though we already have unknown labels for the words, we will still use Laplace smoothing here."
      ]
    },
    {
      "cell_type": "code",
      "execution_count": null,
      "metadata": {
        "ExecuteTime": {
          "end_time": "2024-11-04T12:32:28.077489016Z",
          "start_time": "2024-11-04T12:32:28.023988765Z"
        },
        "id": "Drrn2r3zMAJ5",
        "outputId": "a075a2db-7089-415f-9a37-d26391b62ddd",
        "colab": {
          "base_uri": "https://localhost:8080/"
        }
      },
      "outputs": [
        {
          "output_type": "stream",
          "name": "stdout",
          "text": [
            "[1. 1. 1. 1. 1. 1. 1. 1. 1. 1. 1. 1. 1. 1. 1. 1. 1. 1. 1. 1. 1. 1. 1. 1. 1. 1. 1. 1. 1. 1. 1. 1. 1. 1. 1. 1. 1. 1. 1. 1. 1. 1. 1. 1. 1. 1.]\n",
            "Most likely word per label\n",
            "LABEL: NNP, WORD: u.s., LIKELIHOOD: 0.01\n",
            "LABEL: NN, WORD: year, LIKELIHOOD: 0.01\n",
            "LABEL: CD, WORD: 1, LIKELIHOOD: 0.04\n",
            "LABEL: IN, WORD: of, LIKELIHOOD: 0.10\n",
            "LABEL: <SOS>, WORD: <SOS>, LIKELIHOOD: 0.41\n",
            "LABEL: DT, WORD: the, LIKELIHOOD: 0.25\n",
            "LABEL: JJ, WORD: first, LIKELIHOOD: 0.01\n",
            "LABEL: NNS, WORD: results, LIKELIHOOD: 0.01\n",
            "LABEL: VBD, WORD: said, LIKELIHOOD: 0.06\n",
            "LABEL: ., WORD: ., LIKELIHOOD: 0.27\n",
            "LABEL: ,, WORD: ,, LIKELIHOOD: 0.27\n",
            "LABEL: VB, WORD: be, LIKELIHOOD: 0.02\n",
            "LABEL: VBN, WORD: been, LIKELIHOOD: 0.02\n",
            "LABEL: RB, WORD: not, LIKELIHOOD: 0.02\n",
            "LABEL: CC, WORD: and, LIKELIHOOD: 0.12\n",
            "LABEL: TO, WORD: to, LIKELIHOOD: 0.15\n",
            "LABEL: PRP, WORD: he, LIKELIHOOD: 0.03\n",
            "LABEL: (, WORD: (, LIKELIHOOD: 0.13\n",
            "LABEL: ), WORD: ), LIKELIHOOD: 0.13\n",
            "LABEL: VBG, WORD: being, LIKELIHOOD: 0.00\n"
          ]
        }
      ],
      "source": [
        "conditional_totals = Counter()\n",
        "# We need to count the total times each label is used as a conditional (the first element in the bigram)\n",
        "# FILL IN: conditional_totals\n",
        "for (word, label), count in count_observation.items():\n",
        "    conditional_totals[label] += count\n",
        "\n",
        "# we define a smoothing constant for the Laplace smoothing. This is equal to the number of possible observations\n",
        "smoothing_constant = len(word2id_vocab)\n",
        "\n",
        "# now we create the probability matrix\n",
        "prob_observation_matrix = np.zeros([len(label2id_vocab), len(word2id_vocab)])\n",
        "for label, label_id in label2id_vocab.items():\n",
        "    # FILL IN: the denominator\n",
        "    denominator = conditional_totals[label] + smoothing_constant\n",
        "    for word, word_id in word2id_vocab.items():\n",
        "        if (word, label) in count_observation:\n",
        "            numerator = count_observation[(word, label)] + 1\n",
        "        else:\n",
        "            numerator = 1\n",
        "        # FILL IN: the numerator.\n",
        "        # tip: remember that not every transition exists\n",
        "        prob_observation_matrix[label_id, word_id] = numerator / denominator\n",
        "\n",
        "# Some trickery to show examples\n",
        "zipped = zip(id2label_vocab.values(), np.argmax(prob_observation_matrix, 1), np.max(prob_observation_matrix, 1))\n",
        "examples = [next(zipped) for _ in range(20)]\n",
        "formatted_examples = \"\\n\".join(\n",
        "    f\"LABEL: {label}, WORD: {id2word_vocab[max_id]}, LIKELIHOOD: {prob:.2f}\" for label, max_id, prob in examples\n",
        ")\n",
        "\n",
        "print(np.sum(prob_observation_matrix, 1))\n",
        "print(\"Most likely word per label\")\n",
        "print(formatted_examples)"
      ]
    },
    {
      "cell_type": "markdown",
      "metadata": {
        "id": "5KlcINz4MAJ5"
      },
      "source": [
        "$P(W_t=v_i|L_t=l_j)$ =``prob_observation_matrix[i][j]``\n",
        "\n",
        "$P(L_t=l_i|L_{t-1}=l_j)$ =``prob_transition_matrix[i][j]``\n",
        "\n",
        "where $W_x$, $L_x$ are random variables corresponding to a word resp. word label in our dataset at location $x$ and\n",
        "$v_i$ is the $i$ th word in the word vocabulary, and $l_j$ the $j$ th label in the label vocabulary.\n",
        "\n",
        "Now we have the needed matrices correctly created (they all sum to a probability of 1), we can use this to predict a sequence of labels for new sentences in our dev-set."
      ]
    },
    {
      "cell_type": "code",
      "execution_count": null,
      "metadata": {
        "ExecuteTime": {
          "end_time": "2024-11-04T12:32:31.719027131Z",
          "start_time": "2024-11-04T12:32:31.711510528Z"
        },
        "id": "0JW7GthoMAJ5"
      },
      "outputs": [],
      "source": [
        "def greedy_sentence_annotation(sentence):\n",
        "    # we initialize our sequence with the SOS token\n",
        "    sos_lab_id = label2id_vocab[\"<SOS>\"]\n",
        "    sos_word_id = word2id_vocab[\"<SOS>\"]\n",
        "    sentence_probability = prob_observation_matrix[sos_lab_id, sos_word_id]\n",
        "    prev_id = sos_lab_id\n",
        "    prediction_labels = []\n",
        "    for word in sentence:\n",
        "        if word in word2id_vocab:\n",
        "            word_id = word2id_vocab[word]\n",
        "        else:\n",
        "            word_id = word2id_vocab[\"<UNK>\"]\n",
        "        probs_possible_label = sentence_probability.copy()\n",
        "        probs_possible_label *= prob_observation_matrix[:, word_id]\n",
        "        probs_possible_label *= prob_transition_matrix[prev_id, :]\n",
        "\n",
        "        # FILL IN: update the probs_possible_label, so that it becomes a vector with a probability for each token.\n",
        "\n",
        "        # This is where we are 'greedy': we just continue working with the best option at each timestep\n",
        "        prev_id = np.argmax(probs_possible_label)\n",
        "        prediction_labels.append(id2label_vocab[prev_id])\n",
        "        sentence_probability = np.max(probs_possible_label)\n",
        "    return sentence_probability, prediction_labels\n",
        "\n",
        "\n",
        "def test_one_sentence(index):\n",
        "    prob, pred_labels = greedy_sentence_annotation(dev_words[index])\n",
        "    col_widths_formatting = \"{:<20s} {:<15s} {:<15s}\"\n",
        "    print(col_widths_formatting.format(\"Word\", \"True POS tag\", \"Pred. POS tag\"))\n",
        "    for w, t, p in zip(dev_words[index], dev_pos[index], pred_labels):\n",
        "        print(col_widths_formatting.format(w, t, p))\n",
        "    print(\"pred probabilty\", prob)"
      ]
    },
    {
      "cell_type": "code",
      "execution_count": null,
      "metadata": {
        "id": "6WryoAEAMAJ5",
        "outputId": "8b4cd11f-7343-43e4-d023-6e67e6c5396c",
        "colab": {
          "base_uri": "https://localhost:8080/"
        }
      },
      "outputs": [
        {
          "output_type": "stream",
          "name": "stdout",
          "text": [
            "Word                 True POS tag    Pred. POS tag  \n",
            "\"                    \"               \"              \n",
            "lebed                NN              NNP            \n",
            "is                   VBZ             VBZ            \n",
            "now                  RB              RB             \n",
            "in                   IN              IN             \n",
            "chechnya             NNP             NNP            \n",
            "solving              VBG             NNP            \n",
            "some                 DT              DT             \n",
            "problems             NNS             NNS            \n",
            ",                    ,               ,              \n",
            "\"                    \"               \"              \n",
            "interfax             NN              NNP            \n",
            "quoted               VBN             VBD            \n",
            "chernomyrdin         NNP             NNP            \n",
            "as                   IN              IN             \n",
            "saying               VBG             VBG            \n",
            ".                    .               .              \n",
            "\"                    \"               \"              \n",
            "pred probabilty 7.203288184421062e-60\n"
          ]
        }
      ],
      "source": [
        "test_one_sentence(830)"
      ]
    },
    {
      "cell_type": "markdown",
      "metadata": {
        "id": "U8SRyvVtMAJ5"
      },
      "source": [
        "### The Viterbi Algorithm\n",
        "\n",
        "For this algorithm we follow the pseudocode given in the book Speech and Language Processing (3rd ed. draft), by Dan Jurafsky and James H. Martin. This can be found in chapter 17.4, figure 17.10."
      ]
    },
    {
      "cell_type": "code",
      "execution_count": null,
      "metadata": {
        "id": "bOkzv5T8MAJ5"
      },
      "outputs": [],
      "source": [
        "def viterbi(sentence):\n",
        "    T = len(sentence) + 1\n",
        "    N = len(label2id_vocab)\n",
        "    # Create matrices for storing progress moving through the Viterbi chain\n",
        "    viterbi_matrix = np.zeros((N, T))\n",
        "    backpointer_matrix = np.zeros((N, T))\n",
        "    sos_lab_id = label2id_vocab[\"<SOS>\"]\n",
        "    sos_word_id = word2id_vocab[\"<SOS>\"]\n",
        "    start_prob = prob_observation_matrix[sos_lab_id, sos_word_id]\n",
        "    # Probability of every label at the start is 0, except for the <SOS> tag.\n",
        "    for s in range(N):\n",
        "        viterbi_matrix[s, 0] = 0\n",
        "        backpointer_matrix[s, 0] = sos_lab_id\n",
        "    viterbi_matrix[sos_lab_id, 0] = start_prob\n",
        "\n",
        "    # Start looping over the sentence and start filling the matrices\n",
        "    for t_step in range(1, T):\n",
        "        if sentence[t_step - 1] in word2id_vocab:\n",
        "            word_id = word2id_vocab[sentence[t_step - 1]]\n",
        "        else:\n",
        "            word_id = word2id_vocab[\"<UNK>\"]\n",
        "        for s in range(N):\n",
        "            # probability of sequence till now\n",
        "            state_prob = viterbi_matrix[:, t_step - 1].copy()\n",
        "            # probability for transition from every previous label to label s\n",
        "            state_prob *= prob_transition_matrix[:, s]\n",
        "            # probability observation\n",
        "            state_prob *= prob_observation_matrix[s, word_id]\n",
        "            viterbi_matrix[s, t_step] = np.max(state_prob)\n",
        "            backpointer_matrix[s, t_step] = np.argmax(state_prob)\n",
        "        # FILL IN: this for loop, so that in every timestep 1 column of both\n",
        "        # viterbi_matrix and backpointer_matrix is filled.\n",
        "        # with a probability for each token.\n",
        "\n",
        "    # now we simply select the best path in the final column\n",
        "    best_path_prob = np.max(viterbi_matrix[:, -1])\n",
        "    best_path_pointer = int(np.argmax(viterbi_matrix[:, -1]))\n",
        "\n",
        "    # given the path, we track back through the backpointers to create the entire label sequence\n",
        "    best_path = [best_path_pointer]\n",
        "    for t_step in range(T - 1, 1, -1):\n",
        "        best_path.append(int(backpointer_matrix[best_path[-1], t_step]))\n",
        "    best_path = [id2label_vocab[i] for i in best_path[::-1]]\n",
        "    return best_path_prob, best_path\n",
        "\n",
        "\n",
        "def test_one_sentence_viterbi(index):\n",
        "    prob, pred_labels = viterbi(dev_words[index])\n",
        "    col_widths_formatting = \"{:<20s} {:<15s} {:<15s}\"\n",
        "    print(col_widths_formatting.format(\"Word\", \"True POS tag\", \"Pred. POS tag\"))\n",
        "    for w, t, p in zip(dev_words[index], dev_pos[index], pred_labels):\n",
        "        print(col_widths_formatting.format(w, t, p))\n",
        "    print(\"pred probabilty\", prob)"
      ]
    },
    {
      "cell_type": "code",
      "execution_count": null,
      "metadata": {
        "id": "weGBo_CtMAJ5",
        "outputId": "a4a507c4-01f3-461b-d9d4-ac3c58dadb72",
        "colab": {
          "base_uri": "https://localhost:8080/"
        }
      },
      "outputs": [
        {
          "output_type": "stream",
          "name": "stdout",
          "text": [
            "Word                 True POS tag    Pred. POS tag  \n",
            "\"                    \"               \"              \n",
            "lebed                NN              NNP            \n",
            "is                   VBZ             VBZ            \n",
            "now                  RB              RB             \n",
            "in                   IN              IN             \n",
            "chechnya             NNP             NNP            \n",
            "solving              VBG             VBD            \n",
            "some                 DT              DT             \n",
            "problems             NNS             NNS            \n",
            ",                    ,               ,              \n",
            "\"                    \"               \"              \n",
            "interfax             NN              PRP            \n",
            "quoted               VBN             VBD            \n",
            "chernomyrdin         NNP             VBN            \n",
            "as                   IN              IN             \n",
            "saying               VBG             VBG            \n",
            ".                    .               .              \n",
            "\"                    \"               \"              \n",
            "pred probabilty 1.8388642619654403e-58\n"
          ]
        }
      ],
      "source": [
        "test_one_sentence_viterbi(830)"
      ]
    },
    {
      "cell_type": "markdown",
      "metadata": {
        "id": "94TVOLrPMAJ6"
      },
      "source": [
        "## Evaluation\n",
        "For the evaluation we will make use of the F1 metric. We simply use a pre-implemented function from sklearn."
      ]
    },
    {
      "cell_type": "code",
      "execution_count": null,
      "metadata": {
        "id": "VobcgxiGMAJ6",
        "outputId": "f6caaa9d-5d45-43f3-bc4f-d1c0a783f2e4",
        "colab": {
          "base_uri": "https://localhost:8080/"
        }
      },
      "outputs": [
        {
          "output_type": "stream",
          "name": "stdout",
          "text": [
            "F1 Score greedy HMM:0.6256. total runtime: 1.3107\n",
            "F1 Score Viterbi HMM:0.6687. total runtime: 45.5526\n"
          ]
        }
      ],
      "source": [
        "all_true_labels = []\n",
        "all_greedy_pred = []\n",
        "all_viterbi_pred = []\n",
        "greedy_times = []\n",
        "viterbi_times = []\n",
        "\n",
        "for sent, true_labels in zip(dev_words, dev_pos):\n",
        "    start = time.time()\n",
        "    _, greedy_pred = greedy_sentence_annotation(sent)\n",
        "    stop = time.time()\n",
        "    greedy_times.append(stop - start)\n",
        "    start = time.time()\n",
        "    _, vitebi_pred = viterbi(sent)\n",
        "    stop = time.time()\n",
        "    viterbi_times.append(stop - start)\n",
        "    all_true_labels += true_labels\n",
        "    all_greedy_pred += greedy_pred\n",
        "    all_viterbi_pred += vitebi_pred\n",
        "\n",
        "f1_greedy = f1_score(all_true_labels, all_greedy_pred, average=\"macro\")\n",
        "f1_viterbi = f1_score(all_true_labels, all_viterbi_pred, average=\"macro\")\n",
        "\n",
        "print(\"F1 Score greedy HMM:{}. total runtime: {}\".format(round(f1_greedy, 4), round(sum(greedy_times), 4)))\n",
        "print(\"F1 Score Viterbi HMM:{}. total runtime: {}\".format(round(f1_viterbi, 4), round(sum(viterbi_times), 4)))"
      ]
    },
    {
      "cell_type": "markdown",
      "metadata": {
        "id": "WnNYOcTNMAJ6"
      },
      "source": [
        "## **Ex.2: Attention Mechanism and Transformers**\n"
      ]
    },
    {
      "cell_type": "markdown",
      "metadata": {
        "id": "8mAdc5PzMAJ6"
      },
      "source": [
        "##**Part 1: Attention**\n",
        "\n",
        "The basis of a transformer architecture, first introduced in [Vaswani et al (2017)](https://dl.acm.org/doi/pdf/10.5555/3295222.3295349), is the attention mechanism. It allows the transformer to create contextual embeddings for words by attending to all inputs up to and including the word itself.\n",
        "\n",
        "To illustrate the idea behind the attention mechanism, consider the following two sentences:\n",
        "\n",
        "```python\n",
        "s1 = \"Denver lost from Minnesota because they were too strong\"\n",
        "s2 = \"Denver lost from Minnesota because they were too weak\"\n",
        "```\n",
        "\n",
        "Note that \"they\" in the first sentence refers to Minnesota, while it refers to Denver in the second sentence.\n",
        "The words \"strong\" and \"weak\" informs us of this.\n",
        "This toy exercise will illustrate how the attention mechanism can mimic this reasoning.\n",
        "Assume that the words are encoded by the following vectors:\n",
        "\n",
        "| Denver                              | lost                                | from                                | Minnesota                             | because                             | they                                | were                                | too                                 | strong                                |\n",
        "| ----------------------------------- | ----------------------------------- | ----------------------------------- | ------------------------------------- | ----------------------------------- | ----------------------------------- | ----------------------------------- | ----------------------------------- | ------------------------------------- |\n",
        "| $\\begin{bmatrix}1\\\\0\\end{bmatrix}$ | $\\begin{bmatrix}0\\\\0\\end{bmatrix}$ | $\\begin{bmatrix}0\\\\0\\end{bmatrix}$ | $\\begin{bmatrix}-1\\\\0\\end{bmatrix}$ | $\\begin{bmatrix}0\\\\0\\end{bmatrix}$ | $\\begin{bmatrix}0\\\\1\\end{bmatrix}$ | $\\begin{bmatrix}0\\\\0\\end{bmatrix}$ | $\\begin{bmatrix}0\\\\0\\end{bmatrix}$ | $\\begin{bmatrix}-1\\\\1\\end{bmatrix}$ |\n",
        "\n",
        "Now, apply attention twice. Use the following matrices to transform the word encodings into\n",
        "keys, queries and values:\n",
        "\n",
        "$W_k = \\begin{bmatrix}1 & 0\\\\0 & 1\\\\0&0\\end{bmatrix}$\n",
        "$W_q = \\begin{bmatrix}1 & 0\\\\0 & 1\\\\0&0\\end{bmatrix}$\n",
        "$W_v = \\begin{bmatrix}1 & 0\\\\0 & 1\\end{bmatrix}$\n",
        "\n",
        "Don't forget to apply softmax to the attention weights before applying them to the values.\n",
        "\n",
        "Compare the words with high attention values for the query \"they\" in both sentences: does the difference make sense?"
      ]
    },
    {
      "cell_type": "code",
      "execution_count": null,
      "metadata": {
        "id": "5MtvJL8_MAJ6",
        "outputId": "75710c78-06c8-4694-ce9c-f00a82905dbe",
        "colab": {
          "base_uri": "https://localhost:8080/",
          "height": 777
        }
      },
      "outputs": [
        {
          "output_type": "display_data",
          "data": {
            "text/plain": [
              "<Figure size 800x200 with 2 Axes>"
            ],
            "image/png": "[encoded data removed]"
          },
          "metadata": {}
        },
        {
          "output_type": "display_data",
          "data": {
            "text/plain": [
              "<Figure size 800x200 with 2 Axes>"
            ],
            "image/png": "[encoded data removed]"
          },
          "metadata": {}
        },
        {
          "output_type": "display_data",
          "data": {
            "text/plain": [
              "<Figure size 800x200 with 2 Axes>"
            ],
            "image/png": "[encoded data removed]"
          },
          "metadata": {}
        },
        {
          "output_type": "display_data",
          "data": {
            "text/plain": [
              "<Figure size 800x200 with 2 Axes>"
            ],
            "image/png": "[encoded data removed]"
          },
          "metadata": {}
        }
      ],
      "source": [
        "np.random.seed(1)\n",
        "plt.rcParams[\"figure.figsize\"] = 8, 2\n",
        "\n",
        "xaxis = np.array(range(0, 9))\n",
        "first, last, step = xaxis[0], xaxis[-1], xaxis[1] - xaxis[0]\n",
        "extent = [first - step / 2.0, last + step / 2.0, 0, 1]\n",
        "\n",
        "s1 = \"Denver lost from Minnesota because they were too strong\".split()\n",
        "s2 = \"Denver lost from Minnesota because they were too weak\".split()\n",
        "encoding_1 = np.array(\n",
        "    [\n",
        "        [1, 0, 0, -1, 0, 0, 0, 0, -1],\n",
        "        [0, 0, 0, 0, 0, 1, 0, 0, 1],\n",
        "    ]\n",
        ")  # 2x9\n",
        "encoding_2 = np.array(\n",
        "    [\n",
        "        [1, 0, 0, -1, 0, 0, 0, 0, 1],\n",
        "        [0, 0, 0, 0, 0, 1, 0, 0, 1],\n",
        "    ]\n",
        ")  # 2x9\n",
        "\n",
        "Wk = np.array([[1, 0], [0, 1], [0, 0]])  # 3x2\n",
        "Wq = np.array([[1, 0], [0, 1], [0, 0]])  # 3x2\n",
        "Wv = np.array([[1, 0], [0, 1]])  # 2x2\n",
        "\n",
        "\n",
        "def softmax(x, axis=0):\n",
        "    \"\"\"Compute softmax values for each sets of scores in x.\"\"\"\n",
        "    return np.exp(x) / np.sum(np.exp(x), axis=axis)\n",
        "\n",
        "\n",
        "def attend(encoding):\n",
        "    # FILL IN: multiply the right matrices to calculate the attention weights and output (after softmax)\n",
        "    # Tip: to multiply two matrices, you can use \"@\". E.g.,\n",
        "    # a = np.array([[1,0],[2,0])\n",
        "    # b = np.array([[1,0],[1,1])\n",
        "    # c = a @ b\n",
        "\n",
        "    k = Wk @ encoding  # 3x2 x 2x9 = 3x9\n",
        "    q = Wq @ encoding  # 3x2 x 2x9 = 3x9\n",
        "    v = Wv @ encoding  # 2x2 x 2x9 = 2x9\n",
        "    scaler = np.sqrt(Wq.shape[0])\n",
        "    attention_weights = softmax((k.transpose() @ q) / scaler)  # 9x3 x 3x9 = 9x9\n",
        "    attention_output = v @ attention_weights  # 2x9 x 9x9 = 2x9\n",
        "    return attention_weights, attention_output\n",
        "\n",
        "\n",
        "def colormap(attention_weights, words, title):\n",
        "    plt.imshow(attention_weights[np.newaxis, :], cmap=\"Greens\", aspect=\"auto\", extent=extent)\n",
        "    plt.xticks(xaxis, words)\n",
        "    plt.yticks([0.5], [\"they\"])\n",
        "    plt.title(title)\n",
        "    plt.colorbar()\n",
        "    plt.tight_layout()\n",
        "    plt.show()\n",
        "\n",
        "\n",
        "# 5 is the index of the word \"they\", which want to plot when it's the query\n",
        "they_idx = 5\n",
        "\n",
        "for idx, (sentence, encoding) in enumerate(zip((s1, s2), (encoding_1, encoding_2))):\n",
        "    attention_weights_1, attended_values_1 = attend(encoding)\n",
        "    attention_weights_2, attended_values_2 = attend(attended_values_1)\n",
        "\n",
        "    colormap(\n",
        "        attention_weights_1[:, they_idx],\n",
        "        sentence,\n",
        "        f\"S{idx + 1} after applying self-attention once\",\n",
        "    )\n",
        "    colormap(\n",
        "        attention_weights_2[:, they_idx],\n",
        "        sentence,\n",
        "        f\"S{idx + 1} after applying self-attention twice\",\n",
        "    )"
      ]
    },
    {
      "cell_type": "markdown",
      "source": [
        "##**Part 2: Tranformers**\n",
        "\n",
        "Understanding the attention mechanism is key to understanding how a transformer architecture works.\n",
        "\n",
        "We now direct you to a tutorial, ['The Annotated Transformer'](https://nlp.seas.harvard.edu/annotated-transformer/), detailing the implementation of an encoder-decoder tranformer architecture, based on the paper 'Attention is All You Need' (Vaswani et al., 2017) linked above. A simplified explanation of each step in the tutorial is available in this blog post - ['The Illustrated Transformer'](https://jalammar.github.io/illustrated-transformer/) by Jay Alammar.\n",
        "\n",
        "As part of this exercise session, you are required to follow Part 1 of the Annotated Transformer tutorial that will take you through the workings of a transformer in PyTorch. You may optionally also go through Part 2 and complete the tutorial, which while not required for the exercise, it will be very helpful for future exercises that involve transformers, and is generally good knowledge to have if you plan to continue working with transformers."
      ],
      "metadata": {
        "id": "sngvKsT3nVx5"
      }
    },
    {
      "cell_type": "code",
      "source": [],
      "metadata": {
        "id": "YeFjyhhesA5Q"
      },
      "execution_count": null,
      "outputs": []
    }
  ],
  "metadata": {
    "kernelspec": {
      "display_name": "nlp-course",
      "language": "python",
      "name": "python3"
    },
    "language_info": {
      "codemirror_mode": {
        "name": "ipython",
        "version": 3
      },
      "file_extension": ".py",
      "mimetype": "text/x-python",
      "name": "python",
      "nbconvert_exporter": "python",
      "pygments_lexer": "ipython3",
      "version": "3.10.13"
    },
    "colab": {
      "provenance": []
    }
  },
  "nbformat": 4,
  "nbformat_minor": 0
}